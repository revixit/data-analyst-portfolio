{
 "cells": [
  {
   "attachments": {},
   "cell_type": "markdown",
   "metadata": {},
   "source": [
    "# E-commerce research. Identifying consumption profiles\n",
    "\n",
    "**Objectives** \n",
    "* segmenting customers based on their purchase history\n",
    "* development of individual recommendations to increase sales for each customer segment\n",
    "\n",
    "**Summary**\n",
    "Analyzed the overall performance of the store and identified problem areas. Categorization of the store's goods was made in order to further determine the patterns in the segments. Customers of the store are divided into 4 segments based on RFM analysis. Hypotheses were hypothesized and tested, confirming that each segment is unique and different from the other segments. Features in the interaction of each customer segment with the store were identified. Specific recommendations for improving the interaction with each segment were given"
   ]
  },
  {
   "attachments": {},
   "cell_type": "markdown",
   "metadata": {},
   "source": [
    "## Initial Data Analysis"
   ]
  },
  {
   "cell_type": "code",
   "execution_count": 238,
   "metadata": {},
   "outputs": [],
   "source": [
    "# import required libraries\n",
    "import pandas as pd\n",
    "from matplotlib import pyplot as plt\n",
    "import seaborn as sns\n",
    "import numpy as np\n",
    "import scipy.stats as stats\n",
    "\n",
    "try: \n",
    "    import pymorphy2\n",
    "except:\n",
    "    !pip3 install pymorphy2\n",
    "    import pymorphy2\n",
    "\n",
    "try:\n",
    "    import openpyxl\n",
    "except:\n",
    "    !pip3 install openpyxl\n",
    "\n",
    "# environment options\n",
    "pd.options.display.float_format = '{:,.2f}'.format\n"
   ]
  },
  {
   "attachments": {},
   "cell_type": "markdown",
   "metadata": {},
   "source": [
    "### data reading"
   ]
  },
  {
   "cell_type": "code",
   "execution_count": 239,
   "metadata": {},
   "outputs": [],
   "source": [
    "google_id = \"1DkqEQWZoHh22YrsYcNUxSzlhgFqdl0tf\"\n",
    "df = pd.read_csv(f\"https://drive.google.com/uc?export=download&id={google_id}\" )"
   ]
  },
  {
   "attachments": {},
   "cell_type": "markdown",
   "metadata": {},
   "source": [
    "### columns names"
   ]
  },
  {
   "cell_type": "code",
   "execution_count": 240,
   "metadata": {},
   "outputs": [
    {
     "name": "stdout",
     "output_type": "stream",
     "text": [
      "<class 'pandas.core.frame.DataFrame'>\n",
      "RangeIndex: 7474 entries, 0 to 7473\n",
      "Data columns (total 6 columns):\n",
      " #   Column       Non-Null Count  Dtype  \n",
      "---  ------       --------------  -----  \n",
      " 0   date         7474 non-null   int64  \n",
      " 1   customer_id  7474 non-null   object \n",
      " 2   order_id     7474 non-null   int64  \n",
      " 3   product      7474 non-null   object \n",
      " 4   quantity     7474 non-null   int64  \n",
      " 5   price        7474 non-null   float64\n",
      "dtypes: float64(1), int64(3), object(2)\n",
      "memory usage: 350.5+ KB\n"
     ]
    }
   ],
   "source": [
    "df.info()"
   ]
  },
  {
   "attachments": {},
   "cell_type": "markdown",
   "metadata": {},
   "source": [
    "Nothing to change"
   ]
  },
  {
   "attachments": {},
   "cell_type": "markdown",
   "metadata": {},
   "source": [
    "### types of data"
   ]
  },
  {
   "attachments": {},
   "cell_type": "markdown",
   "metadata": {},
   "source": [
    "the data type should be changed \n",
    "* the 'date' field is now of integer type and contains the date in the format YYYYmmddHHH\n",
    "* the 'order_id' field is now of integer type"
   ]
  },
  {
   "cell_type": "code",
   "execution_count": 241,
   "metadata": {},
   "outputs": [],
   "source": [
    "df.date = pd.to_datetime(df.date, format='%Y%m%d%H')\n",
    "\n",
    "df.order_id = df.order_id.astype(str)"
   ]
  },
  {
   "attachments": {},
   "cell_type": "markdown",
   "metadata": {},
   "source": [
    "### na"
   ]
  },
  {
   "attachments": {},
   "cell_type": "markdown",
   "metadata": {},
   "source": [
    "no na in dataset"
   ]
  },
  {
   "attachments": {},
   "cell_type": "markdown",
   "metadata": {},
   "source": [
    "### duplicates"
   ]
  },
  {
   "attachments": {},
   "cell_type": "markdown",
   "metadata": {},
   "source": [
    "#### explicit duplicates"
   ]
  },
  {
   "cell_type": "code",
   "execution_count": 242,
   "metadata": {},
   "outputs": [
    {
     "data": {
      "text/html": [
       "<div>\n",
       "<style scoped>\n",
       "    .dataframe tbody tr th:only-of-type {\n",
       "        vertical-align: middle;\n",
       "    }\n",
       "\n",
       "    .dataframe tbody tr th {\n",
       "        vertical-align: top;\n",
       "    }\n",
       "\n",
       "    .dataframe thead th {\n",
       "        text-align: right;\n",
       "    }\n",
       "</style>\n",
       "<table border=\"1\" class=\"dataframe\">\n",
       "  <thead>\n",
       "    <tr style=\"text-align: right;\">\n",
       "      <th></th>\n",
       "      <th>date</th>\n",
       "      <th>customer_id</th>\n",
       "      <th>order_id</th>\n",
       "      <th>product</th>\n",
       "      <th>quantity</th>\n",
       "      <th>price</th>\n",
       "    </tr>\n",
       "  </thead>\n",
       "  <tbody>\n",
       "  </tbody>\n",
       "</table>\n",
       "</div>"
      ],
      "text/plain": [
       "Empty DataFrame\n",
       "Columns: [date, customer_id, order_id, product, quantity, price]\n",
       "Index: []"
      ]
     },
     "execution_count": 242,
     "metadata": {},
     "output_type": "execute_result"
    }
   ],
   "source": [
    "df[df.duplicated()]"
   ]
  },
  {
   "attachments": {},
   "cell_type": "markdown",
   "metadata": {},
   "source": [
    "no explicit duplicates in dataset"
   ]
  },
  {
   "attachments": {},
   "cell_type": "markdown",
   "metadata": {},
   "source": [
    "#### implicit duplicates"
   ]
  },
  {
   "cell_type": "code",
   "execution_count": 243,
   "metadata": {},
   "outputs": [
    {
     "name": "stdout",
     "output_type": "stream",
     "text": [
      "duplicates when column DATE dropped\n"
     ]
    },
    {
     "data": {
      "text/html": [
       "<div>\n",
       "<style scoped>\n",
       "    .dataframe tbody tr th:only-of-type {\n",
       "        vertical-align: middle;\n",
       "    }\n",
       "\n",
       "    .dataframe tbody tr th {\n",
       "        vertical-align: top;\n",
       "    }\n",
       "\n",
       "    .dataframe thead th {\n",
       "        text-align: right;\n",
       "    }\n",
       "</style>\n",
       "<table border=\"1\" class=\"dataframe\">\n",
       "  <thead>\n",
       "    <tr style=\"text-align: right;\">\n",
       "      <th></th>\n",
       "      <th>customer_id</th>\n",
       "      <th>order_id</th>\n",
       "      <th>product</th>\n",
       "      <th>quantity</th>\n",
       "      <th>price</th>\n",
       "    </tr>\n",
       "  </thead>\n",
       "  <tbody>\n",
       "    <tr>\n",
       "      <th>15</th>\n",
       "      <td>17213b88-1514-47a4-b8aa-ce51378ab34e</td>\n",
       "      <td>68476</td>\n",
       "      <td>Мини-сковорода Marmiton \"Сердце\" с антипригарн...</td>\n",
       "      <td>1</td>\n",
       "      <td>239.00</td>\n",
       "    </tr>\n",
       "    <tr>\n",
       "      <th>16</th>\n",
       "      <td>17213b88-1514-47a4-b8aa-ce51378ab34e</td>\n",
       "      <td>68476</td>\n",
       "      <td>Сковорода алюминиевая с антипригарным покрытие...</td>\n",
       "      <td>1</td>\n",
       "      <td>824.00</td>\n",
       "    </tr>\n",
       "    <tr>\n",
       "      <th>17</th>\n",
       "      <td>17213b88-1514-47a4-b8aa-ce51378ab34e</td>\n",
       "      <td>68476</td>\n",
       "      <td>Стеклянная крышка для сковороды ALPENKOK 26 см...</td>\n",
       "      <td>1</td>\n",
       "      <td>262.00</td>\n",
       "    </tr>\n",
       "    <tr>\n",
       "      <th>18</th>\n",
       "      <td>17213b88-1514-47a4-b8aa-ce51378ab34e</td>\n",
       "      <td>68476</td>\n",
       "      <td>Сушилка для белья напольная Colombo Star 18, 3679</td>\n",
       "      <td>1</td>\n",
       "      <td>1,049.00</td>\n",
       "    </tr>\n",
       "    <tr>\n",
       "      <th>19</th>\n",
       "      <td>b731df05-98fa-4610-8496-716ec530a02c</td>\n",
       "      <td>68474</td>\n",
       "      <td>Доска гладильная Eurogold Professional 130х48 ...</td>\n",
       "      <td>1</td>\n",
       "      <td>3,299.00</td>\n",
       "    </tr>\n",
       "    <tr>\n",
       "      <th>...</th>\n",
       "      <td>...</td>\n",
       "      <td>...</td>\n",
       "      <td>...</td>\n",
       "      <td>...</td>\n",
       "      <td>...</td>\n",
       "    </tr>\n",
       "    <tr>\n",
       "      <th>6716</th>\n",
       "      <td>ffaeab76-3a8d-49ee-860f-17273b2fc8a2</td>\n",
       "      <td>73136</td>\n",
       "      <td>Таз пластмассовый со стиральной доской (Иж), 1...</td>\n",
       "      <td>1</td>\n",
       "      <td>397.00</td>\n",
       "    </tr>\n",
       "    <tr>\n",
       "      <th>6717</th>\n",
       "      <td>344aa778-e436-419e-a9c6-9b8f37b7c1df</td>\n",
       "      <td>73137</td>\n",
       "      <td>Сумка-тележка 2-х колесная Gimi Argo синяя</td>\n",
       "      <td>1</td>\n",
       "      <td>1,087.00</td>\n",
       "    </tr>\n",
       "    <tr>\n",
       "      <th>6728</th>\n",
       "      <td>ffaeab76-3a8d-49ee-860f-17273b2fc8a2</td>\n",
       "      <td>73136</td>\n",
       "      <td>Таз пластмассовый со стиральной доской (Иж), 1...</td>\n",
       "      <td>1</td>\n",
       "      <td>397.00</td>\n",
       "    </tr>\n",
       "    <tr>\n",
       "      <th>6729</th>\n",
       "      <td>ffaeab76-3a8d-49ee-860f-17273b2fc8a2</td>\n",
       "      <td>73136</td>\n",
       "      <td>Таз пластмассовый со стиральной доской (Иж), 1...</td>\n",
       "      <td>1</td>\n",
       "      <td>397.00</td>\n",
       "    </tr>\n",
       "    <tr>\n",
       "      <th>6736</th>\n",
       "      <td>344aa778-e436-419e-a9c6-9b8f37b7c1df</td>\n",
       "      <td>73137</td>\n",
       "      <td>Сумка-тележка 2-х колесная Gimi Argo синяя</td>\n",
       "      <td>1</td>\n",
       "      <td>1,087.00</td>\n",
       "    </tr>\n",
       "  </tbody>\n",
       "</table>\n",
       "<p>2369 rows × 5 columns</p>\n",
       "</div>"
      ],
      "text/plain": [
       "                               customer_id order_id  \\\n",
       "15    17213b88-1514-47a4-b8aa-ce51378ab34e    68476   \n",
       "16    17213b88-1514-47a4-b8aa-ce51378ab34e    68476   \n",
       "17    17213b88-1514-47a4-b8aa-ce51378ab34e    68476   \n",
       "18    17213b88-1514-47a4-b8aa-ce51378ab34e    68476   \n",
       "19    b731df05-98fa-4610-8496-716ec530a02c    68474   \n",
       "...                                    ...      ...   \n",
       "6716  ffaeab76-3a8d-49ee-860f-17273b2fc8a2    73136   \n",
       "6717  344aa778-e436-419e-a9c6-9b8f37b7c1df    73137   \n",
       "6728  ffaeab76-3a8d-49ee-860f-17273b2fc8a2    73136   \n",
       "6729  ffaeab76-3a8d-49ee-860f-17273b2fc8a2    73136   \n",
       "6736  344aa778-e436-419e-a9c6-9b8f37b7c1df    73137   \n",
       "\n",
       "                                                product  quantity    price  \n",
       "15    Мини-сковорода Marmiton \"Сердце\" с антипригарн...         1   239.00  \n",
       "16    Сковорода алюминиевая с антипригарным покрытие...         1   824.00  \n",
       "17    Стеклянная крышка для сковороды ALPENKOK 26 см...         1   262.00  \n",
       "18    Сушилка для белья напольная Colombo Star 18, 3679         1 1,049.00  \n",
       "19    Доска гладильная Eurogold Professional 130х48 ...         1 3,299.00  \n",
       "...                                                 ...       ...      ...  \n",
       "6716  Таз пластмассовый со стиральной доской (Иж), 1...         1   397.00  \n",
       "6717         Сумка-тележка 2-х колесная Gimi Argo синяя         1 1,087.00  \n",
       "6728  Таз пластмассовый со стиральной доской (Иж), 1...         1   397.00  \n",
       "6729  Таз пластмассовый со стиральной доской (Иж), 1...         1   397.00  \n",
       "6736         Сумка-тележка 2-х колесная Gimi Argo синяя         1 1,087.00  \n",
       "\n",
       "[2369 rows x 5 columns]"
      ]
     },
     "metadata": {},
     "output_type": "display_data"
    },
    {
     "name": "stdout",
     "output_type": "stream",
     "text": [
      "duplicates when column CUSTOMER_ID dropped\n"
     ]
    },
    {
     "data": {
      "text/html": [
       "<div>\n",
       "<style scoped>\n",
       "    .dataframe tbody tr th:only-of-type {\n",
       "        vertical-align: middle;\n",
       "    }\n",
       "\n",
       "    .dataframe tbody tr th {\n",
       "        vertical-align: top;\n",
       "    }\n",
       "\n",
       "    .dataframe thead th {\n",
       "        text-align: right;\n",
       "    }\n",
       "</style>\n",
       "<table border=\"1\" class=\"dataframe\">\n",
       "  <thead>\n",
       "    <tr style=\"text-align: right;\">\n",
       "      <th></th>\n",
       "      <th>date</th>\n",
       "      <th>order_id</th>\n",
       "      <th>product</th>\n",
       "      <th>quantity</th>\n",
       "      <th>price</th>\n",
       "    </tr>\n",
       "  </thead>\n",
       "  <tbody>\n",
       "    <tr>\n",
       "      <th>4297</th>\n",
       "      <td>2019-06-02 10:00:00</td>\n",
       "      <td>71571</td>\n",
       "      <td>Бегония Элатиор, цвет в ассортименте</td>\n",
       "      <td>1</td>\n",
       "      <td>187.00</td>\n",
       "    </tr>\n",
       "    <tr>\n",
       "      <th>4298</th>\n",
       "      <td>2019-06-02 10:00:00</td>\n",
       "      <td>71571</td>\n",
       "      <td>Бегония Элатиор, цвет в ассортименте</td>\n",
       "      <td>1</td>\n",
       "      <td>187.00</td>\n",
       "    </tr>\n",
       "  </tbody>\n",
       "</table>\n",
       "</div>"
      ],
      "text/plain": [
       "                    date order_id                               product  \\\n",
       "4297 2019-06-02 10:00:00    71571  Бегония Элатиор, цвет в ассортименте   \n",
       "4298 2019-06-02 10:00:00    71571  Бегония Элатиор, цвет в ассортименте   \n",
       "\n",
       "      quantity  price  \n",
       "4297         1 187.00  \n",
       "4298         1 187.00  "
      ]
     },
     "metadata": {},
     "output_type": "display_data"
    },
    {
     "name": "stdout",
     "output_type": "stream",
     "text": [
      "duplicates when column ORDER_ID dropped\n"
     ]
    },
    {
     "data": {
      "text/html": [
       "<div>\n",
       "<style scoped>\n",
       "    .dataframe tbody tr th:only-of-type {\n",
       "        vertical-align: middle;\n",
       "    }\n",
       "\n",
       "    .dataframe tbody tr th {\n",
       "        vertical-align: top;\n",
       "    }\n",
       "\n",
       "    .dataframe thead th {\n",
       "        text-align: right;\n",
       "    }\n",
       "</style>\n",
       "<table border=\"1\" class=\"dataframe\">\n",
       "  <thead>\n",
       "    <tr style=\"text-align: right;\">\n",
       "      <th></th>\n",
       "      <th>date</th>\n",
       "      <th>customer_id</th>\n",
       "      <th>product</th>\n",
       "      <th>quantity</th>\n",
       "      <th>price</th>\n",
       "    </tr>\n",
       "  </thead>\n",
       "  <tbody>\n",
       "    <tr>\n",
       "      <th>1055</th>\n",
       "      <td>2018-12-02 15:00:00</td>\n",
       "      <td>036118cf-c198-48fa-ba15-6d841482a56d</td>\n",
       "      <td>Салатник ВОЛАРЭ БЛЭК 16 см G9403 Luminarc</td>\n",
       "      <td>6</td>\n",
       "      <td>97.00</td>\n",
       "    </tr>\n",
       "    <tr>\n",
       "      <th>1056</th>\n",
       "      <td>2018-12-02 15:00:00</td>\n",
       "      <td>036118cf-c198-48fa-ba15-6d841482a56d</td>\n",
       "      <td>Тарелка суповая ВОЛАРЭ БЛЭК 23 см G9402 Luminarc</td>\n",
       "      <td>3</td>\n",
       "      <td>127.00</td>\n",
       "    </tr>\n",
       "    <tr>\n",
       "      <th>1057</th>\n",
       "      <td>2018-12-02 15:00:00</td>\n",
       "      <td>036118cf-c198-48fa-ba15-6d841482a56d</td>\n",
       "      <td>Салатник ВОЛАРЭ БЛЭК 16 см G9403 Luminarc</td>\n",
       "      <td>6</td>\n",
       "      <td>97.00</td>\n",
       "    </tr>\n",
       "    <tr>\n",
       "      <th>1058</th>\n",
       "      <td>2018-12-02 15:00:00</td>\n",
       "      <td>036118cf-c198-48fa-ba15-6d841482a56d</td>\n",
       "      <td>Тарелка суповая ВОЛАРЭ БЛЭК 23 см G9402 Luminarc</td>\n",
       "      <td>3</td>\n",
       "      <td>127.00</td>\n",
       "    </tr>\n",
       "    <tr>\n",
       "      <th>1105</th>\n",
       "      <td>2018-12-04 19:00:00</td>\n",
       "      <td>b2da4ddc-71b5-499b-9806-d59c7a7e6cf5</td>\n",
       "      <td>Чайник электрический ВАСИЛИСА Т33-2000 нержаве...</td>\n",
       "      <td>1</td>\n",
       "      <td>749.00</td>\n",
       "    </tr>\n",
       "    <tr>\n",
       "      <th>1106</th>\n",
       "      <td>2018-12-04 19:00:00</td>\n",
       "      <td>b2da4ddc-71b5-499b-9806-d59c7a7e6cf5</td>\n",
       "      <td>Чайник электрический ВАСИЛИСА Т33-2000 нержаве...</td>\n",
       "      <td>1</td>\n",
       "      <td>749.00</td>\n",
       "    </tr>\n",
       "    <tr>\n",
       "      <th>1486</th>\n",
       "      <td>2019-01-12 11:00:00</td>\n",
       "      <td>364754b9-56fd-49b5-b6fb-d1fca7ca82f9</td>\n",
       "      <td>Гладильная доска НИКА LORA FASHION HLF 123х46 см</td>\n",
       "      <td>1</td>\n",
       "      <td>1,912.00</td>\n",
       "    </tr>\n",
       "    <tr>\n",
       "      <th>1487</th>\n",
       "      <td>2019-01-12 11:00:00</td>\n",
       "      <td>364754b9-56fd-49b5-b6fb-d1fca7ca82f9</td>\n",
       "      <td>Гладильная доска НИКА LORA FASHION HLF 123х46 см</td>\n",
       "      <td>1</td>\n",
       "      <td>1,912.00</td>\n",
       "    </tr>\n",
       "    <tr>\n",
       "      <th>1526</th>\n",
       "      <td>2019-01-16 15:00:00</td>\n",
       "      <td>fb2f95f0-1f30-4e6a-a75c-92d1e2d341e3</td>\n",
       "      <td>Сушилка для белья на батарею, СБ5-45, НИКА</td>\n",
       "      <td>1</td>\n",
       "      <td>134.00</td>\n",
       "    </tr>\n",
       "    <tr>\n",
       "      <th>1527</th>\n",
       "      <td>2019-01-16 15:00:00</td>\n",
       "      <td>fb2f95f0-1f30-4e6a-a75c-92d1e2d341e3</td>\n",
       "      <td>Сушилка для белья на батарею, СБ5-45, НИКА</td>\n",
       "      <td>1</td>\n",
       "      <td>134.00</td>\n",
       "    </tr>\n",
       "    <tr>\n",
       "      <th>1966</th>\n",
       "      <td>2019-02-23 12:00:00</td>\n",
       "      <td>c859b501-2ee9-4eea-a7c7-acedc3a8e1d0</td>\n",
       "      <td>Штанга для ванной Г-образная, угловая 80Х170 с...</td>\n",
       "      <td>1</td>\n",
       "      <td>974.00</td>\n",
       "    </tr>\n",
       "    <tr>\n",
       "      <th>1967</th>\n",
       "      <td>2019-02-23 12:00:00</td>\n",
       "      <td>c859b501-2ee9-4eea-a7c7-acedc3a8e1d0</td>\n",
       "      <td>Штанга для ванной Г-образная, угловая 80Х170 с...</td>\n",
       "      <td>1</td>\n",
       "      <td>974.00</td>\n",
       "    </tr>\n",
       "    <tr>\n",
       "      <th>2889</th>\n",
       "      <td>2019-04-16 15:00:00</td>\n",
       "      <td>7aefdb9a-5d54-411f-8bc2-91f454b6c7d9</td>\n",
       "      <td>Щетка для мытья окон 2 в 1 с телескопической р...</td>\n",
       "      <td>1</td>\n",
       "      <td>1,424.00</td>\n",
       "    </tr>\n",
       "    <tr>\n",
       "      <th>2890</th>\n",
       "      <td>2019-04-16 15:00:00</td>\n",
       "      <td>7aefdb9a-5d54-411f-8bc2-91f454b6c7d9</td>\n",
       "      <td>Щетка для мытья окон 2 в 1 с телескопической р...</td>\n",
       "      <td>1</td>\n",
       "      <td>1,424.00</td>\n",
       "    </tr>\n",
       "    <tr>\n",
       "      <th>2983</th>\n",
       "      <td>2019-04-20 19:00:00</td>\n",
       "      <td>a87bf506-19fd-4980-93f1-dcc4ecd6d578</td>\n",
       "      <td>Тряпкодержатель с металлическим креплением (Г)...</td>\n",
       "      <td>1</td>\n",
       "      <td>119.00</td>\n",
       "    </tr>\n",
       "    <tr>\n",
       "      <th>2984</th>\n",
       "      <td>2019-04-20 19:00:00</td>\n",
       "      <td>a87bf506-19fd-4980-93f1-dcc4ecd6d578</td>\n",
       "      <td>Тряпкодержатель с металлическим креплением (Г)...</td>\n",
       "      <td>1</td>\n",
       "      <td>119.00</td>\n",
       "    </tr>\n",
       "    <tr>\n",
       "      <th>3014</th>\n",
       "      <td>2019-04-22 10:00:00</td>\n",
       "      <td>d62fee07-7017-4fbf-a2f4-e951340f129d</td>\n",
       "      <td>Сушилка для белья напольная НИКА СБ3Б 10 м белая</td>\n",
       "      <td>1</td>\n",
       "      <td>569.00</td>\n",
       "    </tr>\n",
       "    <tr>\n",
       "      <th>3015</th>\n",
       "      <td>2019-04-22 10:00:00</td>\n",
       "      <td>d62fee07-7017-4fbf-a2f4-e951340f129d</td>\n",
       "      <td>Сушилка для белья напольная НИКА СБ3Б 10 м белая</td>\n",
       "      <td>1</td>\n",
       "      <td>569.00</td>\n",
       "    </tr>\n",
       "    <tr>\n",
       "      <th>3180</th>\n",
       "      <td>2019-04-26 11:00:00</td>\n",
       "      <td>beb2ddb4-aea4-4128-94c9-f88eb71c6a05</td>\n",
       "      <td>Ведро для ягод Полимербыт 2 л 4311001</td>\n",
       "      <td>8</td>\n",
       "      <td>59.00</td>\n",
       "    </tr>\n",
       "    <tr>\n",
       "      <th>3181</th>\n",
       "      <td>2019-04-26 11:00:00</td>\n",
       "      <td>beb2ddb4-aea4-4128-94c9-f88eb71c6a05</td>\n",
       "      <td>Ведро для ягод Полимербыт 2 л 4311001</td>\n",
       "      <td>8</td>\n",
       "      <td>59.00</td>\n",
       "    </tr>\n",
       "    <tr>\n",
       "      <th>3192</th>\n",
       "      <td>2019-04-26 22:00:00</td>\n",
       "      <td>3518a0d5-7634-45e9-a810-d4e228abe5d9</td>\n",
       "      <td>Сумка-тележка 2-х колесная Gimi Argo синяя</td>\n",
       "      <td>1</td>\n",
       "      <td>1,087.00</td>\n",
       "    </tr>\n",
       "    <tr>\n",
       "      <th>3193</th>\n",
       "      <td>2019-04-26 22:00:00</td>\n",
       "      <td>3518a0d5-7634-45e9-a810-d4e228abe5d9</td>\n",
       "      <td>Сумка-тележка 2-х колесная Gimi Argo синяя</td>\n",
       "      <td>1</td>\n",
       "      <td>1,087.00</td>\n",
       "    </tr>\n",
       "    <tr>\n",
       "      <th>3340</th>\n",
       "      <td>2019-04-30 19:00:00</td>\n",
       "      <td>877ea53d-c6c8-479c-959b-22bdeba2a743</td>\n",
       "      <td>Карниз для ванной комнаты Виолет раздвижной 28...</td>\n",
       "      <td>1</td>\n",
       "      <td>224.00</td>\n",
       "    </tr>\n",
       "    <tr>\n",
       "      <th>3341</th>\n",
       "      <td>2019-04-30 19:00:00</td>\n",
       "      <td>877ea53d-c6c8-479c-959b-22bdeba2a743</td>\n",
       "      <td>Карниз для ванной комнаты Виолет раздвижной 28...</td>\n",
       "      <td>1</td>\n",
       "      <td>224.00</td>\n",
       "    </tr>\n",
       "    <tr>\n",
       "      <th>5831</th>\n",
       "      <td>2019-07-11 06:00:00</td>\n",
       "      <td>f30fea52-f096-4d36-b7eb-33f9f42c291d</td>\n",
       "      <td>Чехол для гладильной доски Zalger 520109 130х4...</td>\n",
       "      <td>1</td>\n",
       "      <td>239.00</td>\n",
       "    </tr>\n",
       "    <tr>\n",
       "      <th>5832</th>\n",
       "      <td>2019-07-11 06:00:00</td>\n",
       "      <td>f30fea52-f096-4d36-b7eb-33f9f42c291d</td>\n",
       "      <td>Чехол для гладильной доски Zalger 520109 130х4...</td>\n",
       "      <td>1</td>\n",
       "      <td>239.00</td>\n",
       "    </tr>\n",
       "    <tr>\n",
       "      <th>6128</th>\n",
       "      <td>2019-08-18 10:00:00</td>\n",
       "      <td>540072bd-cc85-43b5-a6d6-0a8720499e65</td>\n",
       "      <td>Стремянка COLOMBO FACTOTUM 4 ступени алюминий ...</td>\n",
       "      <td>1</td>\n",
       "      <td>3,449.00</td>\n",
       "    </tr>\n",
       "    <tr>\n",
       "      <th>6129</th>\n",
       "      <td>2019-08-18 10:00:00</td>\n",
       "      <td>540072bd-cc85-43b5-a6d6-0a8720499e65</td>\n",
       "      <td>Стремянка COLOMBO FACTOTUM 4 ступени алюминий ...</td>\n",
       "      <td>1</td>\n",
       "      <td>3,449.00</td>\n",
       "    </tr>\n",
       "    <tr>\n",
       "      <th>6178</th>\n",
       "      <td>2019-08-25 11:00:00</td>\n",
       "      <td>d02429ab-22e0-4ff2-9465-3082befde444</td>\n",
       "      <td>Сумка-тележка 2-х колесная Gimi Argo синяя</td>\n",
       "      <td>1</td>\n",
       "      <td>1,087.00</td>\n",
       "    </tr>\n",
       "    <tr>\n",
       "      <th>6179</th>\n",
       "      <td>2019-08-25 11:00:00</td>\n",
       "      <td>d02429ab-22e0-4ff2-9465-3082befde444</td>\n",
       "      <td>Сумка-тележка 2-х колесная Gimi Argo синяя</td>\n",
       "      <td>1</td>\n",
       "      <td>1,087.00</td>\n",
       "    </tr>\n",
       "    <tr>\n",
       "      <th>6239</th>\n",
       "      <td>2019-09-03 08:00:00</td>\n",
       "      <td>74d76434-2242-4b23-ab92-7fd87d87a802</td>\n",
       "      <td>Циперус Зумула d-12 см h-25 см</td>\n",
       "      <td>10</td>\n",
       "      <td>106.00</td>\n",
       "    </tr>\n",
       "    <tr>\n",
       "      <th>6240</th>\n",
       "      <td>2019-09-03 08:00:00</td>\n",
       "      <td>74d76434-2242-4b23-ab92-7fd87d87a802</td>\n",
       "      <td>Циперус Зумула d-12 см h-25 см</td>\n",
       "      <td>10</td>\n",
       "      <td>106.00</td>\n",
       "    </tr>\n",
       "    <tr>\n",
       "      <th>6502</th>\n",
       "      <td>2019-10-03 13:00:00</td>\n",
       "      <td>7abce1cc-bc8c-4362-b61a-0cbb4822ed29</td>\n",
       "      <td>Сумка-тележка хозяйственная Rolser Jet Joy син...</td>\n",
       "      <td>1</td>\n",
       "      <td>3,975.00</td>\n",
       "    </tr>\n",
       "    <tr>\n",
       "      <th>6503</th>\n",
       "      <td>2019-10-03 13:00:00</td>\n",
       "      <td>7abce1cc-bc8c-4362-b61a-0cbb4822ed29</td>\n",
       "      <td>Сумка-тележка хозяйственная Rolser Jet Joy син...</td>\n",
       "      <td>1</td>\n",
       "      <td>3,975.00</td>\n",
       "    </tr>\n",
       "    <tr>\n",
       "      <th>6568</th>\n",
       "      <td>2019-10-10 14:00:00</td>\n",
       "      <td>5e03e707-a70c-4d8f-b8bb-d0e53f2613ba</td>\n",
       "      <td>Эвкалипт Гунни d-14 см h-70 см</td>\n",
       "      <td>1</td>\n",
       "      <td>524.00</td>\n",
       "    </tr>\n",
       "    <tr>\n",
       "      <th>6569</th>\n",
       "      <td>2019-10-10 14:00:00</td>\n",
       "      <td>5e03e707-a70c-4d8f-b8bb-d0e53f2613ba</td>\n",
       "      <td>Эвкалипт Гунни d-14 см h-70 см</td>\n",
       "      <td>1</td>\n",
       "      <td>524.00</td>\n",
       "    </tr>\n",
       "  </tbody>\n",
       "</table>\n",
       "</div>"
      ],
      "text/plain": [
       "                    date                           customer_id  \\\n",
       "1055 2018-12-02 15:00:00  036118cf-c198-48fa-ba15-6d841482a56d   \n",
       "1056 2018-12-02 15:00:00  036118cf-c198-48fa-ba15-6d841482a56d   \n",
       "1057 2018-12-02 15:00:00  036118cf-c198-48fa-ba15-6d841482a56d   \n",
       "1058 2018-12-02 15:00:00  036118cf-c198-48fa-ba15-6d841482a56d   \n",
       "1105 2018-12-04 19:00:00  b2da4ddc-71b5-499b-9806-d59c7a7e6cf5   \n",
       "1106 2018-12-04 19:00:00  b2da4ddc-71b5-499b-9806-d59c7a7e6cf5   \n",
       "1486 2019-01-12 11:00:00  364754b9-56fd-49b5-b6fb-d1fca7ca82f9   \n",
       "1487 2019-01-12 11:00:00  364754b9-56fd-49b5-b6fb-d1fca7ca82f9   \n",
       "1526 2019-01-16 15:00:00  fb2f95f0-1f30-4e6a-a75c-92d1e2d341e3   \n",
       "1527 2019-01-16 15:00:00  fb2f95f0-1f30-4e6a-a75c-92d1e2d341e3   \n",
       "1966 2019-02-23 12:00:00  c859b501-2ee9-4eea-a7c7-acedc3a8e1d0   \n",
       "1967 2019-02-23 12:00:00  c859b501-2ee9-4eea-a7c7-acedc3a8e1d0   \n",
       "2889 2019-04-16 15:00:00  7aefdb9a-5d54-411f-8bc2-91f454b6c7d9   \n",
       "2890 2019-04-16 15:00:00  7aefdb9a-5d54-411f-8bc2-91f454b6c7d9   \n",
       "2983 2019-04-20 19:00:00  a87bf506-19fd-4980-93f1-dcc4ecd6d578   \n",
       "2984 2019-04-20 19:00:00  a87bf506-19fd-4980-93f1-dcc4ecd6d578   \n",
       "3014 2019-04-22 10:00:00  d62fee07-7017-4fbf-a2f4-e951340f129d   \n",
       "3015 2019-04-22 10:00:00  d62fee07-7017-4fbf-a2f4-e951340f129d   \n",
       "3180 2019-04-26 11:00:00  beb2ddb4-aea4-4128-94c9-f88eb71c6a05   \n",
       "3181 2019-04-26 11:00:00  beb2ddb4-aea4-4128-94c9-f88eb71c6a05   \n",
       "3192 2019-04-26 22:00:00  3518a0d5-7634-45e9-a810-d4e228abe5d9   \n",
       "3193 2019-04-26 22:00:00  3518a0d5-7634-45e9-a810-d4e228abe5d9   \n",
       "3340 2019-04-30 19:00:00  877ea53d-c6c8-479c-959b-22bdeba2a743   \n",
       "3341 2019-04-30 19:00:00  877ea53d-c6c8-479c-959b-22bdeba2a743   \n",
       "5831 2019-07-11 06:00:00  f30fea52-f096-4d36-b7eb-33f9f42c291d   \n",
       "5832 2019-07-11 06:00:00  f30fea52-f096-4d36-b7eb-33f9f42c291d   \n",
       "6128 2019-08-18 10:00:00  540072bd-cc85-43b5-a6d6-0a8720499e65   \n",
       "6129 2019-08-18 10:00:00  540072bd-cc85-43b5-a6d6-0a8720499e65   \n",
       "6178 2019-08-25 11:00:00  d02429ab-22e0-4ff2-9465-3082befde444   \n",
       "6179 2019-08-25 11:00:00  d02429ab-22e0-4ff2-9465-3082befde444   \n",
       "6239 2019-09-03 08:00:00  74d76434-2242-4b23-ab92-7fd87d87a802   \n",
       "6240 2019-09-03 08:00:00  74d76434-2242-4b23-ab92-7fd87d87a802   \n",
       "6502 2019-10-03 13:00:00  7abce1cc-bc8c-4362-b61a-0cbb4822ed29   \n",
       "6503 2019-10-03 13:00:00  7abce1cc-bc8c-4362-b61a-0cbb4822ed29   \n",
       "6568 2019-10-10 14:00:00  5e03e707-a70c-4d8f-b8bb-d0e53f2613ba   \n",
       "6569 2019-10-10 14:00:00  5e03e707-a70c-4d8f-b8bb-d0e53f2613ba   \n",
       "\n",
       "                                                product  quantity    price  \n",
       "1055          Салатник ВОЛАРЭ БЛЭК 16 см G9403 Luminarc         6    97.00  \n",
       "1056   Тарелка суповая ВОЛАРЭ БЛЭК 23 см G9402 Luminarc         3   127.00  \n",
       "1057          Салатник ВОЛАРЭ БЛЭК 16 см G9403 Luminarc         6    97.00  \n",
       "1058   Тарелка суповая ВОЛАРЭ БЛЭК 23 см G9402 Luminarc         3   127.00  \n",
       "1105  Чайник электрический ВАСИЛИСА Т33-2000 нержаве...         1   749.00  \n",
       "1106  Чайник электрический ВАСИЛИСА Т33-2000 нержаве...         1   749.00  \n",
       "1486   Гладильная доска НИКА LORA FASHION HLF 123х46 см         1 1,912.00  \n",
       "1487   Гладильная доска НИКА LORA FASHION HLF 123х46 см         1 1,912.00  \n",
       "1526         Сушилка для белья на батарею, СБ5-45, НИКА         1   134.00  \n",
       "1527         Сушилка для белья на батарею, СБ5-45, НИКА         1   134.00  \n",
       "1966  Штанга для ванной Г-образная, угловая 80Х170 с...         1   974.00  \n",
       "1967  Штанга для ванной Г-образная, угловая 80Х170 с...         1   974.00  \n",
       "2889  Щетка для мытья окон 2 в 1 с телескопической р...         1 1,424.00  \n",
       "2890  Щетка для мытья окон 2 в 1 с телескопической р...         1 1,424.00  \n",
       "2983  Тряпкодержатель с металлическим креплением (Г)...         1   119.00  \n",
       "2984  Тряпкодержатель с металлическим креплением (Г)...         1   119.00  \n",
       "3014   Сушилка для белья напольная НИКА СБ3Б 10 м белая         1   569.00  \n",
       "3015   Сушилка для белья напольная НИКА СБ3Б 10 м белая         1   569.00  \n",
       "3180              Ведро для ягод Полимербыт 2 л 4311001         8    59.00  \n",
       "3181              Ведро для ягод Полимербыт 2 л 4311001         8    59.00  \n",
       "3192         Сумка-тележка 2-х колесная Gimi Argo синяя         1 1,087.00  \n",
       "3193         Сумка-тележка 2-х колесная Gimi Argo синяя         1 1,087.00  \n",
       "3340  Карниз для ванной комнаты Виолет раздвижной 28...         1   224.00  \n",
       "3341  Карниз для ванной комнаты Виолет раздвижной 28...         1   224.00  \n",
       "5831  Чехол для гладильной доски Zalger 520109 130х4...         1   239.00  \n",
       "5832  Чехол для гладильной доски Zalger 520109 130х4...         1   239.00  \n",
       "6128  Стремянка COLOMBO FACTOTUM 4 ступени алюминий ...         1 3,449.00  \n",
       "6129  Стремянка COLOMBO FACTOTUM 4 ступени алюминий ...         1 3,449.00  \n",
       "6178         Сумка-тележка 2-х колесная Gimi Argo синяя         1 1,087.00  \n",
       "6179         Сумка-тележка 2-х колесная Gimi Argo синяя         1 1,087.00  \n",
       "6239                     Циперус Зумула d-12 см h-25 см        10   106.00  \n",
       "6240                     Циперус Зумула d-12 см h-25 см        10   106.00  \n",
       "6502  Сумка-тележка хозяйственная Rolser Jet Joy син...         1 3,975.00  \n",
       "6503  Сумка-тележка хозяйственная Rolser Jet Joy син...         1 3,975.00  \n",
       "6568                     Эвкалипт Гунни d-14 см h-70 см         1   524.00  \n",
       "6569                     Эвкалипт Гунни d-14 см h-70 см         1   524.00  "
      ]
     },
     "metadata": {},
     "output_type": "display_data"
    },
    {
     "name": "stdout",
     "output_type": "stream",
     "text": [
      "duplicates when column PRODUCT dropped\n"
     ]
    },
    {
     "data": {
      "text/html": [
       "<div>\n",
       "<style scoped>\n",
       "    .dataframe tbody tr th:only-of-type {\n",
       "        vertical-align: middle;\n",
       "    }\n",
       "\n",
       "    .dataframe tbody tr th {\n",
       "        vertical-align: top;\n",
       "    }\n",
       "\n",
       "    .dataframe thead th {\n",
       "        text-align: right;\n",
       "    }\n",
       "</style>\n",
       "<table border=\"1\" class=\"dataframe\">\n",
       "  <thead>\n",
       "    <tr style=\"text-align: right;\">\n",
       "      <th></th>\n",
       "      <th>date</th>\n",
       "      <th>customer_id</th>\n",
       "      <th>order_id</th>\n",
       "      <th>quantity</th>\n",
       "      <th>price</th>\n",
       "    </tr>\n",
       "  </thead>\n",
       "  <tbody>\n",
       "    <tr>\n",
       "      <th>2</th>\n",
       "      <td>2018-10-01 00:00:00</td>\n",
       "      <td>ee47d746-6d2f-4d3c-9622-c31412542920</td>\n",
       "      <td>68477</td>\n",
       "      <td>1</td>\n",
       "      <td>112.00</td>\n",
       "    </tr>\n",
       "    <tr>\n",
       "      <th>4</th>\n",
       "      <td>2018-10-01 00:00:00</td>\n",
       "      <td>ee47d746-6d2f-4d3c-9622-c31412542920</td>\n",
       "      <td>68477</td>\n",
       "      <td>1</td>\n",
       "      <td>112.00</td>\n",
       "    </tr>\n",
       "    <tr>\n",
       "      <th>25</th>\n",
       "      <td>2018-10-02 11:00:00</td>\n",
       "      <td>1bc8ad38-3392-4042-8cde-aa5de306c947</td>\n",
       "      <td>68494</td>\n",
       "      <td>1</td>\n",
       "      <td>29.00</td>\n",
       "    </tr>\n",
       "    <tr>\n",
       "      <th>26</th>\n",
       "      <td>2018-10-02 11:00:00</td>\n",
       "      <td>1bc8ad38-3392-4042-8cde-aa5de306c947</td>\n",
       "      <td>68494</td>\n",
       "      <td>1</td>\n",
       "      <td>59.00</td>\n",
       "    </tr>\n",
       "    <tr>\n",
       "      <th>27</th>\n",
       "      <td>2018-10-02 11:00:00</td>\n",
       "      <td>1bc8ad38-3392-4042-8cde-aa5de306c947</td>\n",
       "      <td>68494</td>\n",
       "      <td>1</td>\n",
       "      <td>104.00</td>\n",
       "    </tr>\n",
       "    <tr>\n",
       "      <th>...</th>\n",
       "      <td>...</td>\n",
       "      <td>...</td>\n",
       "      <td>...</td>\n",
       "      <td>...</td>\n",
       "      <td>...</td>\n",
       "    </tr>\n",
       "    <tr>\n",
       "      <th>6619</th>\n",
       "      <td>2019-10-16 08:00:00</td>\n",
       "      <td>000d6849-084e-4d9f-ac03-37174eaf60c4</td>\n",
       "      <td>14943</td>\n",
       "      <td>1</td>\n",
       "      <td>135.00</td>\n",
       "    </tr>\n",
       "    <tr>\n",
       "      <th>6620</th>\n",
       "      <td>2019-10-16 08:00:00</td>\n",
       "      <td>000d6849-084e-4d9f-ac03-37174eaf60c4</td>\n",
       "      <td>14943</td>\n",
       "      <td>1</td>\n",
       "      <td>135.00</td>\n",
       "    </tr>\n",
       "    <tr>\n",
       "      <th>6621</th>\n",
       "      <td>2019-10-16 08:00:00</td>\n",
       "      <td>000d6849-084e-4d9f-ac03-37174eaf60c4</td>\n",
       "      <td>14943</td>\n",
       "      <td>1</td>\n",
       "      <td>135.00</td>\n",
       "    </tr>\n",
       "    <tr>\n",
       "      <th>6657</th>\n",
       "      <td>2019-10-20 19:00:00</td>\n",
       "      <td>e2e51402-7dcd-4973-873b-be978dfb3ef3</td>\n",
       "      <td>14945</td>\n",
       "      <td>1</td>\n",
       "      <td>150.00</td>\n",
       "    </tr>\n",
       "    <tr>\n",
       "      <th>6658</th>\n",
       "      <td>2019-10-20 19:00:00</td>\n",
       "      <td>e2e51402-7dcd-4973-873b-be978dfb3ef3</td>\n",
       "      <td>14945</td>\n",
       "      <td>1</td>\n",
       "      <td>150.00</td>\n",
       "    </tr>\n",
       "  </tbody>\n",
       "</table>\n",
       "<p>2834 rows × 5 columns</p>\n",
       "</div>"
      ],
      "text/plain": [
       "                    date                           customer_id order_id  \\\n",
       "2    2018-10-01 00:00:00  ee47d746-6d2f-4d3c-9622-c31412542920    68477   \n",
       "4    2018-10-01 00:00:00  ee47d746-6d2f-4d3c-9622-c31412542920    68477   \n",
       "25   2018-10-02 11:00:00  1bc8ad38-3392-4042-8cde-aa5de306c947    68494   \n",
       "26   2018-10-02 11:00:00  1bc8ad38-3392-4042-8cde-aa5de306c947    68494   \n",
       "27   2018-10-02 11:00:00  1bc8ad38-3392-4042-8cde-aa5de306c947    68494   \n",
       "...                  ...                                   ...      ...   \n",
       "6619 2019-10-16 08:00:00  000d6849-084e-4d9f-ac03-37174eaf60c4    14943   \n",
       "6620 2019-10-16 08:00:00  000d6849-084e-4d9f-ac03-37174eaf60c4    14943   \n",
       "6621 2019-10-16 08:00:00  000d6849-084e-4d9f-ac03-37174eaf60c4    14943   \n",
       "6657 2019-10-20 19:00:00  e2e51402-7dcd-4973-873b-be978dfb3ef3    14945   \n",
       "6658 2019-10-20 19:00:00  e2e51402-7dcd-4973-873b-be978dfb3ef3    14945   \n",
       "\n",
       "      quantity  price  \n",
       "2            1 112.00  \n",
       "4            1 112.00  \n",
       "25           1  29.00  \n",
       "26           1  59.00  \n",
       "27           1 104.00  \n",
       "...        ...    ...  \n",
       "6619         1 135.00  \n",
       "6620         1 135.00  \n",
       "6621         1 135.00  \n",
       "6657         1 150.00  \n",
       "6658         1 150.00  \n",
       "\n",
       "[2834 rows x 5 columns]"
      ]
     },
     "metadata": {},
     "output_type": "display_data"
    }
   ],
   "source": [
    "for column in df.columns:\n",
    "    dfs = df.drop(columns={column})\n",
    "    if len(dfs[dfs.duplicated(keep=False)]) > 0:\n",
    "        print(f'duplicates when column {column.upper()} dropped')\n",
    "        display(dfs[dfs.duplicated(keep=False)])\n"
   ]
  },
  {
   "attachments": {},
   "cell_type": "markdown",
   "metadata": {},
   "source": [
    "When the following columns are excluded consecutively, the implicit duplicates appeared probably as a result of a database recording error (duplicate entries from different sources) have been detected:\n",
    "- DATE - the duplicates will be removed. It is impossible for the same orders to have been created at different times\n",
    "- CUSTOMER_ID - duplicates will be deleted. It is impossible that different customers will create the same orders\n",
    "- ORDER_ID - duplicates will be deleted. It is impossible that one and the same client at the same time created two orders with the same product\n",
    "- PRODUCT - duplicates will be kept, one customer could have bought several products with the same price and quantity within one order"
   ]
  },
  {
   "cell_type": "code",
   "execution_count": 244,
   "metadata": {},
   "outputs": [
    {
     "name": "stdout",
     "output_type": "stream",
     "text": [
      "удалено 1886 дубликатов\n",
      "удалено 1 дубликатов\n",
      "удалено 19 дубликатов\n"
     ]
    }
   ],
   "source": [
    "before = len(df)\n",
    "df = df.sort_values('date').drop_duplicates(subset=['customer_id', 'order_id', 'product'], keep='first')\n",
    "print(f'{before - len(df)} duplicates deleted')\n",
    "before = len(df)\n",
    "df = df.sort_values('date').drop_duplicates(subset=['date', 'order_id', 'product'], keep='first')\n",
    "print(f'{before - len(df)} duplicates deleted')\n",
    "before = len(df)\n",
    "df = df.sort_values('date').drop_duplicates(subset=['date', 'customer_id', 'product'], keep='first')\n",
    "print(f'{before - len(df)} duplicates deleted')\n",
    "before = len(df)"
   ]
  },
  {
   "cell_type": "code",
   "execution_count": 245,
   "metadata": {},
   "outputs": [
    {
     "data": {
      "text/html": [
       "<div>\n",
       "<style scoped>\n",
       "    .dataframe tbody tr th:only-of-type {\n",
       "        vertical-align: middle;\n",
       "    }\n",
       "\n",
       "    .dataframe tbody tr th {\n",
       "        vertical-align: top;\n",
       "    }\n",
       "\n",
       "    .dataframe thead th {\n",
       "        text-align: right;\n",
       "    }\n",
       "</style>\n",
       "<table border=\"1\" class=\"dataframe\">\n",
       "  <thead>\n",
       "    <tr style=\"text-align: right;\">\n",
       "      <th></th>\n",
       "      <th>order_id</th>\n",
       "      <th>customer_id</th>\n",
       "    </tr>\n",
       "  </thead>\n",
       "  <tbody>\n",
       "    <tr>\n",
       "      <th>985</th>\n",
       "      <td>14872</td>\n",
       "      <td>2</td>\n",
       "    </tr>\n",
       "    <tr>\n",
       "      <th>1253</th>\n",
       "      <td>68785</td>\n",
       "      <td>2</td>\n",
       "    </tr>\n",
       "    <tr>\n",
       "      <th>1532</th>\n",
       "      <td>69283</td>\n",
       "      <td>2</td>\n",
       "    </tr>\n",
       "    <tr>\n",
       "      <th>1552</th>\n",
       "      <td>69310</td>\n",
       "      <td>2</td>\n",
       "    </tr>\n",
       "    <tr>\n",
       "      <th>1567</th>\n",
       "      <td>69345</td>\n",
       "      <td>2</td>\n",
       "    </tr>\n",
       "    <tr>\n",
       "      <th>1597</th>\n",
       "      <td>69410</td>\n",
       "      <td>2</td>\n",
       "    </tr>\n",
       "    <tr>\n",
       "      <th>1637</th>\n",
       "      <td>69485</td>\n",
       "      <td>3</td>\n",
       "    </tr>\n",
       "    <tr>\n",
       "      <th>1668</th>\n",
       "      <td>69531</td>\n",
       "      <td>2</td>\n",
       "    </tr>\n",
       "    <tr>\n",
       "      <th>1800</th>\n",
       "      <td>69833</td>\n",
       "      <td>2</td>\n",
       "    </tr>\n",
       "    <tr>\n",
       "      <th>1932</th>\n",
       "      <td>70114</td>\n",
       "      <td>2</td>\n",
       "    </tr>\n",
       "    <tr>\n",
       "      <th>2174</th>\n",
       "      <td>70542</td>\n",
       "      <td>2</td>\n",
       "    </tr>\n",
       "    <tr>\n",
       "      <th>2226</th>\n",
       "      <td>70631</td>\n",
       "      <td>2</td>\n",
       "    </tr>\n",
       "    <tr>\n",
       "      <th>2273</th>\n",
       "      <td>70726</td>\n",
       "      <td>2</td>\n",
       "    </tr>\n",
       "    <tr>\n",
       "      <th>2312</th>\n",
       "      <td>70808</td>\n",
       "      <td>2</td>\n",
       "    </tr>\n",
       "    <tr>\n",
       "      <th>2362</th>\n",
       "      <td>70903</td>\n",
       "      <td>2</td>\n",
       "    </tr>\n",
       "    <tr>\n",
       "      <th>2382</th>\n",
       "      <td>70946</td>\n",
       "      <td>2</td>\n",
       "    </tr>\n",
       "    <tr>\n",
       "      <th>2443</th>\n",
       "      <td>71054</td>\n",
       "      <td>2</td>\n",
       "    </tr>\n",
       "    <tr>\n",
       "      <th>2528</th>\n",
       "      <td>71226</td>\n",
       "      <td>2</td>\n",
       "    </tr>\n",
       "    <tr>\n",
       "      <th>2630</th>\n",
       "      <td>71461</td>\n",
       "      <td>2</td>\n",
       "    </tr>\n",
       "    <tr>\n",
       "      <th>2639</th>\n",
       "      <td>71480</td>\n",
       "      <td>3</td>\n",
       "    </tr>\n",
       "    <tr>\n",
       "      <th>2664</th>\n",
       "      <td>71542</td>\n",
       "      <td>2</td>\n",
       "    </tr>\n",
       "    <tr>\n",
       "      <th>2725</th>\n",
       "      <td>71648</td>\n",
       "      <td>2</td>\n",
       "    </tr>\n",
       "    <tr>\n",
       "      <th>2729</th>\n",
       "      <td>71663</td>\n",
       "      <td>2</td>\n",
       "    </tr>\n",
       "    <tr>\n",
       "      <th>2993</th>\n",
       "      <td>72188</td>\n",
       "      <td>2</td>\n",
       "    </tr>\n",
       "    <tr>\n",
       "      <th>3290</th>\n",
       "      <td>72778</td>\n",
       "      <td>2</td>\n",
       "    </tr>\n",
       "    <tr>\n",
       "      <th>3297</th>\n",
       "      <td>72790</td>\n",
       "      <td>2</td>\n",
       "    </tr>\n",
       "    <tr>\n",
       "      <th>3330</th>\n",
       "      <td>72845</td>\n",
       "      <td>4</td>\n",
       "    </tr>\n",
       "    <tr>\n",
       "      <th>3396</th>\n",
       "      <td>72950</td>\n",
       "      <td>2</td>\n",
       "    </tr>\n",
       "  </tbody>\n",
       "</table>\n",
       "</div>"
      ],
      "text/plain": [
       "     order_id  customer_id\n",
       "985     14872            2\n",
       "1253    68785            2\n",
       "1532    69283            2\n",
       "1552    69310            2\n",
       "1567    69345            2\n",
       "1597    69410            2\n",
       "1637    69485            3\n",
       "1668    69531            2\n",
       "1800    69833            2\n",
       "1932    70114            2\n",
       "2174    70542            2\n",
       "2226    70631            2\n",
       "2273    70726            2\n",
       "2312    70808            2\n",
       "2362    70903            2\n",
       "2382    70946            2\n",
       "2443    71054            2\n",
       "2528    71226            2\n",
       "2630    71461            2\n",
       "2639    71480            3\n",
       "2664    71542            2\n",
       "2725    71648            2\n",
       "2729    71663            2\n",
       "2993    72188            2\n",
       "3290    72778            2\n",
       "3297    72790            2\n",
       "3330    72845            4\n",
       "3396    72950            2"
      ]
     },
     "metadata": {},
     "output_type": "display_data"
    },
    {
     "name": "stdout",
     "output_type": "stream",
     "text": [
      "удалено 28 заказов, принадлежащих одновременно разным пользователям\n"
     ]
    }
   ],
   "source": [
    "duplicated_orders = df.groupby('order_id', as_index=False).agg({'customer_id':'nunique'}).query('customer_id > 1')\n",
    "display(duplicated_orders)\n",
    "\n",
    "len_before = df.order_id.nunique()\n",
    "df = df[~df.order_id.isin(duplicated_orders.order_id)]\n",
    "print(f'удалено {len_before - df.order_id.nunique()} заказов, принадлежащих одновременно разным пользователям')"
   ]
  },
  {
   "attachments": {},
   "cell_type": "markdown",
   "metadata": {},
   "source": [
    "## Exploratory Data Analysis"
   ]
  },
  {
   "attachments": {},
   "cell_type": "markdown",
   "metadata": {},
   "source": [
    "### dataset parameters"
   ]
  },
  {
   "cell_type": "code",
   "execution_count": 246,
   "metadata": {},
   "outputs": [
    {
     "name": "stdout",
     "output_type": "stream",
     "text": [
      "<class 'pandas.core.frame.DataFrame'>\n",
      "Int64Index: 5504 entries, 0 to 7473\n",
      "Data columns (total 6 columns):\n",
      " #   Column       Non-Null Count  Dtype         \n",
      "---  ------       --------------  -----         \n",
      " 0   date         5504 non-null   datetime64[ns]\n",
      " 1   customer_id  5504 non-null   object        \n",
      " 2   order_id     5504 non-null   object        \n",
      " 3   product      5504 non-null   object        \n",
      " 4   quantity     5504 non-null   int64         \n",
      " 5   price        5504 non-null   float64       \n",
      "dtypes: datetime64[ns](1), float64(1), int64(1), object(3)\n",
      "memory usage: 301.0+ KB\n",
      "max date in dataframe is 2020-01-31 15:00:00\n",
      "min date in dataframe is 2018-10-01 00:00:00\n"
     ]
    },
    {
     "data": {
      "image/png": "[encoded data removed]",
      "text/plain": [
       "<Figure size 1080x360 with 1 Axes>"
      ]
     },
     "metadata": {
      "needs_background": "light"
     },
     "output_type": "display_data"
    }
   ],
   "source": [
    "df.info()\n",
    "print(f'max date in dataframe is {df.date.max()}')\n",
    "print(f'min date in dataframe is {df.date.min()}')\n",
    "dataset_days = (df.date.max() - df.date.min()).days\n",
    "\n",
    "df.date.hist(figsize=(15,5), bins=dataset_days)\n",
    "plt.title('Распределение заказов по дням')\n",
    "plt.ylabel('Число заказов')\n",
    "plt.xlabel('Дни')\n",
    "plt.show();"
   ]
  },
  {
   "attachments": {},
   "cell_type": "markdown",
   "metadata": {},
   "source": [
    "* The data provided contains 7,474 entries and 6 columns:\n",
    "    - purchase date\n",
    "    - Customer ID\n",
    "    - order ID\n",
    "    - product name\n",
    "    - quantity of items\n",
    "    - unit price\n",
    "* The dataset contains continuous data for the period from October 1, 2018 to January 31, 2020"
   ]
  },
  {
   "attachments": {},
   "cell_type": "markdown",
   "metadata": {},
   "source": [
    "### Dataset variables\n",
    "\n",
    "What quantitative and qualitative variables are available for analysis in the original dataset"
   ]
  },
  {
   "cell_type": "code",
   "execution_count": 247,
   "metadata": {},
   "outputs": [
    {
     "data": {
      "text/html": [
       "<div>\n",
       "<style scoped>\n",
       "    .dataframe tbody tr th:only-of-type {\n",
       "        vertical-align: middle;\n",
       "    }\n",
       "\n",
       "    .dataframe tbody tr th {\n",
       "        vertical-align: top;\n",
       "    }\n",
       "\n",
       "    .dataframe thead th {\n",
       "        text-align: right;\n",
       "    }\n",
       "</style>\n",
       "<table border=\"1\" class=\"dataframe\">\n",
       "  <thead>\n",
       "    <tr style=\"text-align: right;\">\n",
       "      <th></th>\n",
       "      <th>quantity</th>\n",
       "      <th>price</th>\n",
       "    </tr>\n",
       "  </thead>\n",
       "  <tbody>\n",
       "    <tr>\n",
       "      <th>count</th>\n",
       "      <td>5,504.00</td>\n",
       "      <td>5,504.00</td>\n",
       "    </tr>\n",
       "    <tr>\n",
       "      <th>mean</th>\n",
       "      <td>2.58</td>\n",
       "      <td>530.29</td>\n",
       "    </tr>\n",
       "    <tr>\n",
       "      <th>std</th>\n",
       "      <td>16.53</td>\n",
       "      <td>974.50</td>\n",
       "    </tr>\n",
       "    <tr>\n",
       "      <th>min</th>\n",
       "      <td>1.00</td>\n",
       "      <td>9.00</td>\n",
       "    </tr>\n",
       "    <tr>\n",
       "      <th>25%</th>\n",
       "      <td>1.00</td>\n",
       "      <td>90.00</td>\n",
       "    </tr>\n",
       "    <tr>\n",
       "      <th>50%</th>\n",
       "      <td>1.00</td>\n",
       "      <td>150.00</td>\n",
       "    </tr>\n",
       "    <tr>\n",
       "      <th>75%</th>\n",
       "      <td>1.00</td>\n",
       "      <td>524.00</td>\n",
       "    </tr>\n",
       "    <tr>\n",
       "      <th>max</th>\n",
       "      <td>1,000.00</td>\n",
       "      <td>14,917.00</td>\n",
       "    </tr>\n",
       "  </tbody>\n",
       "</table>\n",
       "</div>"
      ],
      "text/plain": [
       "       quantity     price\n",
       "count  5,504.00  5,504.00\n",
       "mean       2.58    530.29\n",
       "std       16.53    974.50\n",
       "min        1.00      9.00\n",
       "25%        1.00     90.00\n",
       "50%        1.00    150.00\n",
       "75%        1.00    524.00\n",
       "max    1,000.00 14,917.00"
      ]
     },
     "execution_count": 247,
     "metadata": {},
     "output_type": "execute_result"
    }
   ],
   "source": [
    "df.describe()"
   ]
  },
  {
   "attachments": {},
   "cell_type": "markdown",
   "metadata": {},
   "source": [
    "- There are two quantity variables in the dataset\n",
    "    * quantity - number of units of one product in one order\n",
    "    * price - price per unit of a product in the order.\n",
    "- All other variables are qualitative"
   ]
  },
  {
   "attachments": {},
   "cell_type": "markdown",
   "metadata": {},
   "source": [
    "### additional variables"
   ]
  },
  {
   "attachments": {},
   "cell_type": "markdown",
   "metadata": {},
   "source": [
    "#### month of order"
   ]
  },
  {
   "cell_type": "code",
   "execution_count": 248,
   "metadata": {},
   "outputs": [],
   "source": [
    "df['month'] = df.date.dt.to_period('M')"
   ]
  },
  {
   "attachments": {},
   "cell_type": "markdown",
   "metadata": {},
   "source": [
    "#### orders' revenue"
   ]
  },
  {
   "cell_type": "code",
   "execution_count": 249,
   "metadata": {},
   "outputs": [],
   "source": [
    "df['amount'] = df.price * df.quantity"
   ]
  },
  {
   "attachments": {},
   "cell_type": "markdown",
   "metadata": {},
   "source": [
    "#### monthly revenue per customer"
   ]
  },
  {
   "cell_type": "code",
   "execution_count": 250,
   "metadata": {},
   "outputs": [
    {
     "data": {
      "image/png": "[encoded data removed]",
      "text/plain": [
       "<Figure size 432x288 with 1 Axes>"
      ]
     },
     "metadata": {
      "needs_background": "light"
     },
     "output_type": "display_data"
    }
   ],
   "source": [
    "customers = df.groupby('customer_id', as_index=False).agg({'date':'min', 'amount':'sum', 'order_id':'nunique'})\n",
    "customers = customers.rename(columns={'date':'first_order_date', 'amount':'total_revenue', 'order_id':'orders_count'})\n",
    "customers['age_months'] = (df.date.max() - customers.first_order_date) / np.timedelta64(1, 'M')\n",
    "customers['monthly_revenue'] = customers.total_revenue / customers.age_months\n",
    "customers.monthly_revenue.hist()\n",
    "plt.title('Распределение среднемесячной выручки клиентов')\n",
    "plt.ylabel('Среднемесячная выручка')\n",
    "plt.xlabel('Число клиентов')\n",
    "plt.show();"
   ]
  },
  {
   "attachments": {},
   "cell_type": "markdown",
   "metadata": {},
   "source": [
    "The client's monthly revenue does not follow a normal distribution. This should be taken into account when choosing a method for hypothesis testing"
   ]
  },
  {
   "attachments": {},
   "cell_type": "markdown",
   "metadata": {},
   "source": [
    "#### number of orders per month"
   ]
  },
  {
   "cell_type": "code",
   "execution_count": 251,
   "metadata": {},
   "outputs": [
    {
     "data": {
      "image/png": "[encoded data removed]",
      "text/plain": [
       "<Figure size 432x288 with 1 Axes>"
      ]
     },
     "metadata": {
      "needs_background": "light"
     },
     "output_type": "display_data"
    }
   ],
   "source": [
    "customers['monthly_orders'] = customers.orders_count / customers.age_months\n",
    "customers.monthly_orders.hist()\n",
    "plt.title('Распределение среднемесячного числа покупок клиентов')\n",
    "plt.ylabel('Среднее число покупок')\n",
    "plt.xlabel('Число клиентов')\n",
    "plt.show();"
   ]
  },
  {
   "attachments": {},
   "cell_type": "markdown",
   "metadata": {},
   "source": [
    "The number of customer purchases per month does not follow a normal distribution. This should be taken into account when choosing a method for hypothesis testing"
   ]
  },
  {
   "attachments": {},
   "cell_type": "markdown",
   "metadata": {},
   "source": [
    "### abnormalities"
   ]
  },
  {
   "attachments": {},
   "cell_type": "markdown",
   "metadata": {},
   "source": [
    "#### abnormal products"
   ]
  },
  {
   "cell_type": "code",
   "execution_count": 252,
   "metadata": {},
   "outputs": [
    {
     "data": {
      "text/html": [
       "<div>\n",
       "<style scoped>\n",
       "    .dataframe tbody tr th:only-of-type {\n",
       "        vertical-align: middle;\n",
       "    }\n",
       "\n",
       "    .dataframe tbody tr th {\n",
       "        vertical-align: top;\n",
       "    }\n",
       "\n",
       "    .dataframe thead th {\n",
       "        text-align: right;\n",
       "    }\n",
       "</style>\n",
       "<table border=\"1\" class=\"dataframe\">\n",
       "  <thead>\n",
       "    <tr style=\"text-align: right;\">\n",
       "      <th></th>\n",
       "      <th>product</th>\n",
       "      <th>price</th>\n",
       "    </tr>\n",
       "  </thead>\n",
       "  <tbody>\n",
       "    <tr>\n",
       "      <th>1808</th>\n",
       "      <td>Сушилка уличная Leifheit 85210 LINOMATIC V 400...</td>\n",
       "      <td>14,917.00</td>\n",
       "    </tr>\n",
       "    <tr>\n",
       "      <th>1637</th>\n",
       "      <td>Сумка-тележка хозяйственная Andersen Royal Sho...</td>\n",
       "      <td>8,737.00</td>\n",
       "    </tr>\n",
       "    <tr>\n",
       "      <th>1636</th>\n",
       "      <td>Сумка-тележка хозяйственная Andersen Alu Star ...</td>\n",
       "      <td>8,437.00</td>\n",
       "    </tr>\n",
       "    <tr>\n",
       "      <th>1684</th>\n",
       "      <td>Сумка-тележка хозяйственная Rolser MNB019 rojo...</td>\n",
       "      <td>8,077.00</td>\n",
       "    </tr>\n",
       "    <tr>\n",
       "      <th>1583</th>\n",
       "      <td>Стремянка 7 ступенчатая Hailo 8040-707 XXL 13 ...</td>\n",
       "      <td>7,724.00</td>\n",
       "    </tr>\n",
       "    <tr>\n",
       "      <th>1683</th>\n",
       "      <td>Сумка-тележка хозяйственная Rolser MNB017 fucs...</td>\n",
       "      <td>7,679.00</td>\n",
       "    </tr>\n",
       "    <tr>\n",
       "      <th>1668</th>\n",
       "      <td>Сумка-тележка хозяйственная Rolser IMX006 bass...</td>\n",
       "      <td>7,679.00</td>\n",
       "    </tr>\n",
       "    <tr>\n",
       "      <th>1685</th>\n",
       "      <td>Сумка-тележка хозяйственная Rolser MOU041 malv...</td>\n",
       "      <td>7,597.00</td>\n",
       "    </tr>\n",
       "    <tr>\n",
       "      <th>261</th>\n",
       "      <td>Гладильная доска Leifheit AirBoard Compact M P...</td>\n",
       "      <td>7,424.00</td>\n",
       "    </tr>\n",
       "    <tr>\n",
       "      <th>1944</th>\n",
       "      <td>Урна уличная стальная Сальвадор 02.021.0 46х11...</td>\n",
       "      <td>7,349.00</td>\n",
       "    </tr>\n",
       "  </tbody>\n",
       "</table>\n",
       "</div>"
      ],
      "text/plain": [
       "                                                product     price\n",
       "1808  Сушилка уличная Leifheit 85210 LINOMATIC V 400... 14,917.00\n",
       "1637  Сумка-тележка хозяйственная Andersen Royal Sho...  8,737.00\n",
       "1636  Сумка-тележка хозяйственная Andersen Alu Star ...  8,437.00\n",
       "1684  Сумка-тележка хозяйственная Rolser MNB019 rojo...  8,077.00\n",
       "1583  Стремянка 7 ступенчатая Hailo 8040-707 XXL 13 ...  7,724.00\n",
       "1683  Сумка-тележка хозяйственная Rolser MNB017 fucs...  7,679.00\n",
       "1668  Сумка-тележка хозяйственная Rolser IMX006 bass...  7,679.00\n",
       "1685  Сумка-тележка хозяйственная Rolser MOU041 malv...  7,597.00\n",
       "261   Гладильная доска Leifheit AirBoard Compact M P...  7,424.00\n",
       "1944  Урна уличная стальная Сальвадор 02.021.0 46х11...  7,349.00"
      ]
     },
     "metadata": {},
     "output_type": "display_data"
    }
   ],
   "source": [
    "display(\n",
    "    df\n",
    "    .groupby('product', as_index=False)\n",
    "    .agg({'price':'max'})\n",
    "    .sort_values('price', ascending=False)\n",
    "    .head(10)\n",
    "    )"
   ]
  },
  {
   "attachments": {},
   "cell_type": "markdown",
   "metadata": {},
   "source": [
    "No abnormally expensive goods were found"
   ]
  },
  {
   "attachments": {},
   "cell_type": "markdown",
   "metadata": {},
   "source": [
    "#### abnormal orders"
   ]
  },
  {
   "cell_type": "code",
   "execution_count": 253,
   "metadata": {},
   "outputs": [
    {
     "data": {
      "image/png": "[encoded data removed]",
      "text/plain": [
       "<Figure size 432x288 with 1 Axes>"
      ]
     },
     "metadata": {
      "needs_background": "light"
     },
     "output_type": "display_data"
    },
    {
     "data": {
      "text/html": [
       "<div>\n",
       "<style scoped>\n",
       "    .dataframe tbody tr th:only-of-type {\n",
       "        vertical-align: middle;\n",
       "    }\n",
       "\n",
       "    .dataframe tbody tr th {\n",
       "        vertical-align: top;\n",
       "    }\n",
       "\n",
       "    .dataframe thead th {\n",
       "        text-align: right;\n",
       "    }\n",
       "</style>\n",
       "<table border=\"1\" class=\"dataframe\">\n",
       "  <thead>\n",
       "    <tr style=\"text-align: right;\">\n",
       "      <th></th>\n",
       "      <th>date</th>\n",
       "      <th>customer_id</th>\n",
       "      <th>order_id</th>\n",
       "      <th>product</th>\n",
       "      <th>quantity</th>\n",
       "      <th>price</th>\n",
       "      <th>month</th>\n",
       "      <th>amount</th>\n",
       "    </tr>\n",
       "  </thead>\n",
       "  <tbody>\n",
       "    <tr>\n",
       "      <th>5456</th>\n",
       "      <td>2019-06-18 15:00:00</td>\n",
       "      <td>312e9a3e-5fca-43ff-a6a1-892d2b2d5ba6</td>\n",
       "      <td>71743</td>\n",
       "      <td>Вантуз с деревянной ручкой d14 см красный, Bur...</td>\n",
       "      <td>1000</td>\n",
       "      <td>675.00</td>\n",
       "      <td>2019-06</td>\n",
       "      <td>675,000.00</td>\n",
       "    </tr>\n",
       "  </tbody>\n",
       "</table>\n",
       "</div>"
      ],
      "text/plain": [
       "                    date                           customer_id order_id  \\\n",
       "5456 2019-06-18 15:00:00  312e9a3e-5fca-43ff-a6a1-892d2b2d5ba6    71743   \n",
       "\n",
       "                                                product  quantity  price  \\\n",
       "5456  Вантуз с деревянной ручкой d14 см красный, Bur...      1000 675.00   \n",
       "\n",
       "        month     amount  \n",
       "5456  2019-06 675,000.00  "
      ]
     },
     "metadata": {},
     "output_type": "display_data"
    }
   ],
   "source": [
    "(\n",
    "    df\n",
    "    .groupby('order_id', as_index=False)\n",
    "    .agg({'amount':'sum', 'quantity':'sum'})\n",
    "    .plot.scatter(x='amount', y='quantity')\n",
    "    )\n",
    "plt.show();\n",
    "anomaly_order = (\n",
    "    df\n",
    "    .groupby('order_id', as_index=False)\n",
    "    .agg({'amount':'sum', 'quantity':'sum'})\n",
    "    .sort_values('amount', ascending=False)\n",
    "    .head(1)\n",
    ")\n",
    "display(df[df.order_id.isin(anomaly_order.order_id)])\n",
    "df = df[~df.order_id.isin(anomaly_order.order_id)]"
   ]
  },
  {
   "attachments": {},
   "cell_type": "markdown",
   "metadata": {},
   "source": [
    "One abnormal order for 1000 vantuzes detected and removed"
   ]
  },
  {
   "attachments": {},
   "cell_type": "markdown",
   "metadata": {},
   "source": [
    "### product categories"
   ]
  },
  {
   "cell_type": "code",
   "execution_count": 254,
   "metadata": {},
   "outputs": [],
   "source": [
    "# function to make lemmas based on product name\n",
    "def lemma(product, morph=pymorphy2.MorphAnalyzer()):\n",
    "    \n",
    "    # split 'product' string into words\n",
    "    words = product.split()\n",
    "    \n",
    "    # create lemmas from words with nouns and adjectives only\n",
    "    lemma = []\n",
    "    for word in words:\n",
    "        p = morph.parse(word)[0]\n",
    "        if 'NOUN' in p.tag or 'ADJF' in p.tag: \n",
    "            lemma.append(p.normal_form.replace(',', ''))\n",
    "\n",
    "    # return first three lemmas\n",
    "    return ' '.join(lemma[:2])\n",
    "\n",
    "lemma_df = df.copy().groupby('product', as_index=False).agg({'quantity':'sum'})\n",
    "lemma_df['lemma'] = lemma_df['product'].apply(lemma)"
   ]
  },
  {
   "cell_type": "code",
   "execution_count": 255,
   "metadata": {},
   "outputs": [],
   "source": [
    "category_dictionary = {\n",
    "    'Кухня': ['tepмокружка','банк','бидон','блюдо','блюдце','бульонница','ваза','венчик','вилка','вкладыш','готовый','губка','ёмкость','жестяной','запасный','измельчитель','картофелемялка','кастрюля','кипятильник','кисточка','коврик','ковш','контейнер','котёл','кружка','крышка','кувшин','кухонный','ложка','лопатка','лоток','мантоварка','мантоварка-пароварка','маслёнка','мерный','миксер','мини-сковорода','миска','модульный','мусорный','набор','нетканый','нож','ножеточка','овощеварка','овощечистка','орехоколка','отделитель','подставка','половник','полотенце','пресс','просеиватель','противень','пьезозажигалка','разделочный','рассекатель','рыбочистка','салатник','салфетница','сахарница','сито','скалка','скатерть','сковорода','скребок','соковарка','соковыжималка','сотейник','стакан','стеклянный','столовая','столовый','тарелка','тёрка','термокружка','термос','термостакан','толкушка','тортница','универсальный','фарфоровый','форма','хлебница','чайный','чайник','шприц','щётка-утюжок','электроштопор','мл','бутылочный','бутылка','радиаторный','рондо','стекло','крышка','металлический','стеклянный','пластмассовый','серия','утро','мистигря','маскарад','л','полимербыт','мусор','ягода','овальный','пластиковый','резинопластиковый','деревянный','столовая','хранение','скатерть','спираль','разделочный','свч','соус','банк','насадка','экран','овощ','алюминиевый','круглый','чугунный','электрический','силиконовый','м','интерьерный','кухонный','герметичный','приготовление','продукт','дисней','флауэр','шэйдс','бамбук','марля','нордик','минни','тачка','чай','мерный','прозрачный','трубочка','стерилизация','виктория','полотенце','ножницы','чайный','прорезь','холодец','нержавеющий','коровка','стакан','серо-голубой','василиса','антипригарный','фазенда','варение','контейнер','бокал','пикник','кружка','махровый','нож','посуда','дерево','столовый','форма','фужер','салатник','салфетка','мясорубка','стейк','тонкий','чистка','поварской','универсальный','лезвие','косточка','яйцо','пластик','чеснок','мука','прямоугольный','мультиискра','доска','пламя','amбиантэ','арти','кутюра','поэма','эмпилабль','браун','аспен','воларэ','карин','колорам','оранж','романтик','фарфоровый','wt125-куэн','полиэстер','донна','бежевый','ажурный','азалия','арлета','беатрис','джулия','династия','жаклин','лувр','муза','рим','сидней','виниловый','дем','эксперт','кондитерский','цитрусовый','низкий','ложка','десертный','обеденный','суповой','сыр','красный','синий','забава','яромир','вакуумный','кофе','картофель','выпечка','пластмасовый','заварочный','свисток','\"алый','орхидея','набор','ручка','белый'],\n",
    "    'Ванная и туалет': ['ёрш','бак','бельевая','ванна','вантуз','держатель','дозатор','зубной','карниз','коврик','кольцо','комплект','корзина','корзинка','корыто','махровый','мешок','мыло-скраб','мыльница','набор','подголовник','полотенце','прищепка','пробка','сидение','стакан','халат','штанга','штора','унитазный','бельё','прищепка','л','чёрный','туалетный','мыло','туалет','унитаз','паста','ванная','противоскользящий','коричневый','ванна','индия','ребристый','ворсовый','резиновый','хлопковый','штора','махровый','мягкий','колесо','пластиковый','крышка','полотенце','халат','деликатный','мочалка','пластмассовый','вафельный','кольцо','текстильный'],\n",
    "    'Рассада': ['рассада','томат','целозия','цинерания','цинерария','циния','арбуз','дыня','кабачок','капуста','огурец','остеоспермум','патиссон','пеларгония','тыква','кассета','зелень','клубника','перец','пряный','томат','балконный','государь','детерминантный','гребенчатый','серебряный','\"золотой','абрикос','абрикосовый','абруццо','амурский','арбузик','арбузный','аргентинский','бандед','баскью','болгарск','больший','большой','вернисаж','гигант','голубика','голубой','графити','грейпфрут','джалп','дрова','земляника','ильдь','индиго','исуповский','сорт','казацкий','канестрино','кибица','колоновидный','король','красный','кумато','легенда','летний','медовый','минусинский','монгольский','моравский','мохнатый','мэризола','оранжевый','перцевидный','полосатый','поцелуй','примарь','пурпурный','ракета','роджеро','розовый','синий','сладкий','леди','танец','тёмный','улыбка','фейерверк','черниченский','шаймета','шалун','сердцевидный','этуаля','южный','юсуповский'],\n",
    "    'Хозяйственные товары': ['антижир','ароматизированный','бальзам','бензин','вакуумный','веник','весы','вешалка-сушилка','жидкий','защитный','кондиционер','концентрат','мешок','мыло','набор','насадка','насадка-моп','насадка-отжим','окномойка','ополаскиватель','отбеливатель','отжим','паста','пена','перчатка','полотенце','салфетка','сервировочный','скребок','сменный','смётка','совка','средство','стиральный','стремянка','стремянка-табурет','сумка','сумка-тележка','таз','тележка','ткань','тряпка','тряпкодержатель','маска','универсальный','урна-пепельница','крем','швабра','щётка','щётка-смётка','мл','средство','мытьё','пакет','подметание','сорго','напольный','настольный','электронный','мыло','соль','бельё','строительный','жидкий','ручной','коробка','ведро','швабра','синтетический','хлопковый','пластиковый','алюминиевый','пластмассовый','посудомоечный','пероксоль','полировка','зубной','ванна','специальный','чистка','латекс','латексный','резиновый','хлопок','натура','серый','шоколад','аметист','камушек','махровый','стол','салфетка','клипса','окно','насадка','блок','совок','зола','щётка','металический','быстрый','удаление','биопорошок','ступенчатый','ступень','класс','стальной','бытовой','металлический','тележка','хозяйственный','2-й','3-й','синий','красный','дем','багажный','гигиенический','универсальный','кафель','пятно','сальса','пол','многофункциональный','посуда','смахивание','труднодоступный','палубный','4-й','унитаз'],\n",
    "    'Хранение': ['вешалка','вешалка-перекладина','вешалка-плечики','вешалка-стойка','декоративный','ключница','комод','короб','коробка','кофр','крючок','набор','плечики','полка','складный','стеллаж','чехол','этажерка','ящик','слуга','брюки','ник','гардеробный','деревянный','блузка','верхний','костюм','металлический','надверной','напольный','настенный','плечики','крючок','шт','эссенция','сакура','дерево','мягкий','коробка','картина','эльфпласт','стеллажный','перфорированный','хранение','прямоугольный','малый','одёжный','проволочный','вешалка','пластмассовый','обувь','барселона','берлин','италия','лондон','мадрид','нью-йорк','пекин','белый/чёрный','токио','торонто','картонный','короткий','одежда','платье','цветочный','почтовый'],\n",
    "    'Сушка и глажка': ['гипоаллергенный','гладильный','доска','настенный','сидение','сушилка','концентрированный','доска-стремянка','гладильный','сушилка','мультя','бельё','уличный'],\n",
    "    'Текстиль': ['двуспальный','комплект','наволочка','наматрасник','наматрацник','наматрицник-чехол','одеяло','плед','пододеяльник','подушка','покрывало','простыня','постельный','1-арктик','стёганый','бархатный','стебель','микрофибра','пуховый','белый','флисовыя','хлопок','цвет','декоративный','вельсофт','жаккарда','вафельный','двуспальный','резинка','сатиновый'],\n",
    "    'Растения': ['агератум','адиантум','азалия','аквилегия','алиссума','алоэ','альбук','амариллис','анемон','антинакипин','антуриум','аптения','арбуз','аргирантерум','артемизия','аспарагус','астр','афеляндр','бадан','базилик','баклажан','бакоп','бальзамин','барвинок','бархатцы','бегония','буддлей','бузульник','валериан','вербейник','вербена','верёвка','вероника','вигна','виола','газаний','гайлардия','гардения','гвоздик','георгин','герань','гербер','гиацинт','гимнокалициум','гиностемма','гипсофил','глоксиния','годеция','горох','гортензия','девичий','декабрист','декоративный','дендробиум','джункус','диффенбахий','драцена','душица','дыня','ель','замиокулькас','зверобой','земляника','змееголовник','импатиенс','искусственный','иссоп','кабачок','каланхий','калатея','календула','калибрахоа','калла','каллуна','калоцефалус','камнеломка','кампанула','капсикума','капуста','кипарисовик','клён','клубника','кодонант','колеус','колокольчик','комнатный','кореопсис','кориандр','клюквенный','кэнди','лимонад','очаровашка','попсокс','снежный','котовник','кофе','крассула','крокус','лаванда','лаватер','лавр','лантан','лапчатка','левкой','лен','высокорослый','литопс','лобелия','лук','львиный','любисток','маттиола','мединилла','мелисса','мимоза','мирт','многолетний','молодило','монард','морковь','муляж','муррайя','мускари','черенок','колосистый','перечный','настурция','незабудка','нефролепис','нивянник','нолин','овсянница','огурец','однолетний','осина','папоротник','патиссон','пахир','пеларгония','пеперомия','петрушка','петуния','пиретрум','платикодон','подарочный','подвесной','подсолнечник','портулак','примула','пряный','пуансетие','пуансеттие','радермахер','ранункулус','роза','розмарин','рудбекия','салат','сальвия','сантолина','седума','сельдерей','синнингий','скиммия','смолёвка','соланум','солидаго','спатифиллум','суккулента','сциндапсус','табак','тагетис','тимьян','тыква','тюльпан','укроп','фаленопсис','фатсия','фиалка','физостегия','фикус','фиттония','флокс','фуксия','хамедорей','хлорофитум','хост','хризантема','хризолидокарпус','цветок','цветущий','цикламен','цвет','цинния','циперус','цитрофортунелла','чабёр','шалфей','шеффлера','эвкалипт','энотера','эпипремнум','эхеверие','эхинацея','эхинокактус','эшшольция','юкка','ясколка','лиза','индик','махровый','обыкновенный','снежный','скальный','вера','спиралиса','тёмно-красный','белый','утюг','андрианум','тропик','волгоградец','огонёк','сибирский','холодок','шуга','(полынь','спренжери','альпийский','скуарроса','сердцелистный','застольный','овощной','пурпурный','смесь','зелёный','самурай','ампельный','валера','новогвинейский','синий','весёлый','цвет','вечноцветущий','клубневой','вейер','пржевальский','лекарственный','монетчатый','ярко-розовый','красный','сиренево-белый','крупноцветковый','микс','полипропиленовый','колосковый','лилиана','рогатый','черенок','травянка','садовый','стандартный','турецкий','чёрный','домашний','комнатный','голубой','аврора','рембранд','амброзия','метельчатый','виноград','горшок','композиция','санки','фиолетовый','яблоневый','пенсила','топперо','камилла','фрагранс','алтайский','дин','золотой','колхозница','медовый','млада','награда','симпатия','канадский','оптимист','барон','молдавский','гвинея','лиана','лист','цветок','изумруд','каландив','крокат','бронзовый','пинк','суприма','сиреневый','желто-красный','малиновый','розово-сиреневый','оранжево/красный','жёлтый','гарден','брауни','арендс','тенистый','сальса','белокочанный','брокколи','брюссельский','декоративный','кольраби','цветной','лавсон','ложноплатановый','альба','мара','хонь','карпатский','персиколистный','растение','толл','стимул','кассета','клик','страйп','шт','г','розовый','мун','арабика','овата','торх','монт','нобилиса','огненный','травянистый','небесный','регатта','порей','зев','удалец','ночной','магнифика','стыдливый','гибридный','детский','\"райский','ананас','апельсин','баклажан','банан','булка','вишня','гранат','груша','долька','жёлудь','клубника','лайм','лимон','манго','мандарин','морковь','оранжевый','перец','персик','томат','тыква','хлеб','черешня','чеснок','яблоко','полиуретан','мандариновый','шоколадный','драгоценность','лунный','орхидный','бостон','сизый','алтай','аристократ','багратион','боярский','закусочный','засолочный','высота','диск','зонтик','нло','акватик','грандифлора','душистый','зональный','плющелистный','розебудный','розоцветный','тюльпановидный','итальянский','корневой','листовой','бургунди','красно-розовый','фиолетово-белый','небесно-голубой','светло-сиреневый','малиново-белый','винно-белый','каскад','свитуния','изя','простой','робинсон','набор','кашпо','низкорослый','акаулис','трава','клуня','палас','патио','кустовой','минь','одноголовый','чайно-гибридный','тайгера','рукол','видный','почвопокровный','японский','звёздный','свита','шопен','ассортимент','бордовый','курительный','крымский','крупноплодный','бахромчатый','обильнолистный','люкс','королевский','карнавал','химера','вергинский','каучуконосный','скелетон','друммонд','прямостоячий','корейский','космо','лутесценс','искусственный','ацтек','коралловый','хаага','зумул','кумквата','голд','лузеана','гунни','сильвердроп','миссурийский','ауреум','лила','перл','грузонь','карминный','нитчатый','войлочный'],\n",
    "    'Прочие': ['автоматический','завёртка','измерительный','карниз','ковёр','комплект','крепёж','лестница','лестница-стремянка','длина','ложка','многофункциональный','набор','насадка','настольный','новогодний','цвет','основание','приварной','рояльный','петля-стрела','подкладка','подрукавник','подставка','покрытие','пружина','пылесос','решётка','ролик','рукав','ручка','ручка-скоба','сверло','нитрид','светильник','сетка','складный','стяжка','термометр','уголок','урна','урна-пепельница','утюг','фал','фен','фиксатор-шар','фоторамка','холодный','чехол','шило','шнур','шпагат','шпингалет','штангенциркуль','щётка','форточный','длина','алюминиевый','придверный','пёс','полукруглый','мытьё','пружина','стремянка','алюминевый','3-й','4-й','7-й','8-й','6-ти','примус','обувной','инструмент','прецизионный','валик','гладильный','дерево','венга','пробка','гаражный','оксид','цинк','чехол','складный','обувь','цвет','дверной','красный','синий','вентиляционный','чистка','мебельный','белый','металл','титан','настольный','глажение','стирка','детский','оконный','окно','уличный','нержавеющий','чёрный','электрический','капроновый','дорожный','хром','фотография','сварка','хлопок','металлизированый','металлизированный','пластмассовый','резиновый','хозяйственный','полипропиленовый','точность'],\n",
    "    }"
   ]
  },
  {
   "cell_type": "code",
   "execution_count": 256,
   "metadata": {},
   "outputs": [],
   "source": [
    "# add category\n",
    "def category(lemma):\n",
    "    for key in category_dictionary.keys():\n",
    "        if set(lemma.split()).issubset(set(category_dictionary[key])):\n",
    "            return key\n",
    "    return 'Прочие'\n",
    "\n",
    "lemma_df['category'] = lemma_df.lemma.apply(category)\n",
    "\n",
    "# merge lemma_df table with df\n",
    "if 'category' in df.columns:\n",
    "    df = df.drop('category', axis=1)\n",
    "    \n",
    "df = df.merge(lemma_df[['product', 'category']], on='product', how='left')"
   ]
  },
  {
   "cell_type": "code",
   "execution_count": 257,
   "metadata": {},
   "outputs": [
    {
     "data": {
      "text/html": [
       "<div>\n",
       "<style scoped>\n",
       "    .dataframe tbody tr th:only-of-type {\n",
       "        vertical-align: middle;\n",
       "    }\n",
       "\n",
       "    .dataframe tbody tr th {\n",
       "        vertical-align: top;\n",
       "    }\n",
       "\n",
       "    .dataframe thead th {\n",
       "        text-align: right;\n",
       "    }\n",
       "</style>\n",
       "<table border=\"1\" class=\"dataframe\">\n",
       "  <thead>\n",
       "    <tr style=\"text-align: right;\">\n",
       "      <th></th>\n",
       "      <th>category</th>\n",
       "      <th>amount</th>\n",
       "    </tr>\n",
       "  </thead>\n",
       "  <tbody>\n",
       "    <tr>\n",
       "      <th>0</th>\n",
       "      <td>Ванная и туалет</td>\n",
       "      <td>277,418.00</td>\n",
       "    </tr>\n",
       "    <tr>\n",
       "      <th>1</th>\n",
       "      <td>Кухня</td>\n",
       "      <td>436,409.00</td>\n",
       "    </tr>\n",
       "    <tr>\n",
       "      <th>2</th>\n",
       "      <td>Прочие</td>\n",
       "      <td>340,424.00</td>\n",
       "    </tr>\n",
       "    <tr>\n",
       "      <th>3</th>\n",
       "      <td>Рассада</td>\n",
       "      <td>82,180.50</td>\n",
       "    </tr>\n",
       "    <tr>\n",
       "      <th>4</th>\n",
       "      <td>Растения</td>\n",
       "      <td>568,481.67</td>\n",
       "    </tr>\n",
       "    <tr>\n",
       "      <th>5</th>\n",
       "      <td>Сушка и глажка</td>\n",
       "      <td>654,962.50</td>\n",
       "    </tr>\n",
       "    <tr>\n",
       "      <th>6</th>\n",
       "      <td>Текстиль</td>\n",
       "      <td>133,487.00</td>\n",
       "    </tr>\n",
       "    <tr>\n",
       "      <th>7</th>\n",
       "      <td>Хозяйственные товары</td>\n",
       "      <td>1,126,799.75</td>\n",
       "    </tr>\n",
       "    <tr>\n",
       "      <th>8</th>\n",
       "      <td>Хранение</td>\n",
       "      <td>275,500.00</td>\n",
       "    </tr>\n",
       "  </tbody>\n",
       "</table>\n",
       "</div>"
      ],
      "text/plain": [
       "               category       amount\n",
       "0       Ванная и туалет   277,418.00\n",
       "1                 Кухня   436,409.00\n",
       "2                Прочие   340,424.00\n",
       "3               Рассада    82,180.50\n",
       "4              Растения   568,481.67\n",
       "5        Сушка и глажка   654,962.50\n",
       "6              Текстиль   133,487.00\n",
       "7  Хозяйственные товары 1,126,799.75\n",
       "8              Хранение   275,500.00"
      ]
     },
     "metadata": {},
     "output_type": "display_data"
    },
    {
     "name": "stdout",
     "output_type": "stream",
     "text": [
      "доля категории Прочие по выручке 8.74%\n"
     ]
    }
   ],
   "source": [
    "display(df.groupby('category', as_index=False).amount.sum())\n",
    "print(f'доля категории Прочие по выручке {100 * df[df.category == \"Прочие\"].amount.sum() / df.amount.sum():.2f}%')"
   ]
  },
  {
   "cell_type": "code",
   "execution_count": 258,
   "metadata": {},
   "outputs": [
    {
     "data": {
      "image/png": "[encoded data removed]",
      "text/plain": [
       "<Figure size 720x504 with 1 Axes>"
      ]
     },
     "metadata": {
      "needs_background": "light"
     },
     "output_type": "display_data"
    }
   ],
   "source": [
    "df_chart = (\n",
    "    df.copy()\n",
    "    .groupby(['category', 'month'], as_index=False)\n",
    "    .agg({'amount':'sum'})\n",
    "    .pivot_table(index='month', columns=['category'], aggfunc='sum', values='amount')\n",
    ")\n",
    "\n",
    "df_chart.plot(kind='bar', stacked=True, figsize=(10,7))\n",
    "plt.title('Динамика выручки по категориям')\n",
    "plt.xticks(rotation='vertical')\n",
    "plt.xlabel('месяцы')\n",
    "plt.ylabel('выручка')\n",
    "plt.show();"
   ]
  },
  {
   "cell_type": "code",
   "execution_count": 259,
   "metadata": {},
   "outputs": [
    {
     "data": {
      "image/png": "[encoded data removed]",
      "text/plain": [
       "<Figure size 720x216 with 1 Axes>"
      ]
     },
     "metadata": {
      "needs_background": "light"
     },
     "output_type": "display_data"
    },
    {
     "data": {
      "image/png": "[encoded data removed]",
      "text/plain": [
       "<Figure size 720x216 with 1 Axes>"
      ]
     },
     "metadata": {
      "needs_background": "light"
     },
     "output_type": "display_data"
    }
   ],
   "source": [
    "periods = [6, 12]\n",
    "for period in periods:\n",
    "    df_chart = (\n",
    "        df[df.date > (df.date.max() - pd.DateOffset(months=period))].copy()\n",
    "        .groupby('category')\n",
    "        .agg({'amount':'sum'})\n",
    "        .sort_values('amount')\n",
    "    )\n",
    "    \n",
    "    df_chart.plot(kind='barh', figsize=(10,3), legend=None)\n",
    "    plt.title(f'Общая выручка по категориям за последние {period} месяцев')\n",
    "    plt.xlabel('категория')\n",
    "    plt.ylabel('выручка')\n",
    "    plt.show;"
   ]
  },
  {
   "attachments": {},
   "cell_type": "markdown",
   "metadata": {},
   "source": [
    "**Findings**\n",
    "1. the best-selling category in the store is housewares\n",
    "2. in the last 6 months the sales of plants have decreased noticeably\n",
    "3. Plant sprouts are practically not sold. It is possible to reduce costs, by reducing the inventory in the category of plants\n",
    "4. plants sold well in the first half of 2019. In 2020, it is worth trying to repeat this success and carefully check the assortment and pricing, so as not to miss the season\n",
    "5. textile sales are very unstable. In some months of 2019 it did not sell at all, although in January and April textile sales were quite high. It is advisable to understand the reasons. It may be a matter of pricing or marketing activity \n",
    "6. Fluctuations in revenue by category are caused by a common external factor. It is recommended to check if there is a correlation between advertising activity and fluctuations in revenues"
   ]
  },
  {
   "attachments": {},
   "cell_type": "markdown",
   "metadata": {},
   "source": [
    "### Key store indicators"
   ]
  },
  {
   "attachments": {},
   "cell_type": "markdown",
   "metadata": {},
   "source": [
    "#### revenue dynamics"
   ]
  },
  {
   "cell_type": "code",
   "execution_count": 260,
   "metadata": {},
   "outputs": [
    {
     "data": {
      "image/png": "[encoded data removed]",
      "text/plain": [
       "<Figure size 720x504 with 1 Axes>"
      ]
     },
     "metadata": {
      "needs_background": "light"
     },
     "output_type": "display_data"
    },
    {
     "name": "stdout",
     "output_type": "stream",
     "text": [
      "общая выручка магазина за весь период 3895662 руб.\n"
     ]
    }
   ],
   "source": [
    "df_chart = (\n",
    "    df.copy().\n",
    "    groupby('month', as_index=False)\n",
    "    .agg({'amount':'sum'})\n",
    ")\n",
    "\n",
    "ax, fig = plt.subplots(figsize=(10,7))\n",
    "sns.barplot(data=df_chart, x='month', y='amount', color='#1f77b4')\n",
    "plt.title('Ежемесячная выручка')\n",
    "plt.xticks(rotation='vertical')\n",
    "plt.xlabel('месяц')\n",
    "plt.ylabel('средняя выручка')\n",
    "plt.show();\n",
    "print(f'общая выручка магазина за весь период {df.amount.sum():.0f} руб.')\n"
   ]
  },
  {
   "attachments": {},
   "cell_type": "markdown",
   "metadata": {},
   "source": [
    "**Conclusion**\n",
    "\n",
    "1. the store's revenue is declining\n",
    "2. revenue is unstable and fluctuates greatly. if you have not already done so, it is worth paying attention to the development of your existing customer base in order to increase customer retention and thereby stabilize revenues \n",
    "3. there are seasonal declines of sales in May and January which are typical for any online store and seasonal growth in December (buying gifts)"
   ]
  },
  {
   "attachments": {},
   "cell_type": "markdown",
   "metadata": {},
   "source": [
    "#### number of orders dynamics"
   ]
  },
  {
   "cell_type": "code",
   "execution_count": 261,
   "metadata": {},
   "outputs": [
    {
     "data": {
      "image/png": "[encoded data removed]",
      "text/plain": [
       "<Figure size 720x504 with 1 Axes>"
      ]
     },
     "metadata": {
      "needs_background": "light"
     },
     "output_type": "display_data"
    }
   ],
   "source": [
    "df_chart = (\n",
    "    df.copy()\n",
    "    .groupby('month', as_index=False)\n",
    "    .agg({'order_id':'nunique'})\n",
    ")\n",
    "\n",
    "ax, fig = plt.subplots(figsize=(10,7))\n",
    "sns.barplot(data=df_chart, x='month', y='order_id', color='#1f77b4')\n",
    "plt.title('Ежемесячное число заказов')\n",
    "plt.xticks(rotation='vertical')\n",
    "plt.xlabel('месяц')\n",
    "plt.ylabel('число заказов')\n",
    "plt.show();"
   ]
  },
  {
   "attachments": {},
   "cell_type": "markdown",
   "metadata": {},
   "source": [
    "**Conclusion**.\n",
    "\n",
    "1. The monthly number of orders ranges from 100 to 280\n",
    "2. During the season (December and February-April) the number of orders rises to 280\n",
    "3. the number of orders is steadily increasing from September 2019. But despite this, revenue fluctuates and does not show the same steady growth. So new orders are for smaller amounts than before. Worth working on expanding orders\n",
    "4. January 2019 saw a dip in the number of orders. Perhaps there was a technical problem in the store and orders were not accepted. Or the store didn't work on New Year's holidays. "
   ]
  },
  {
   "attachments": {},
   "cell_type": "markdown",
   "metadata": {},
   "source": [
    "#### repurchase rate dynamics"
   ]
  },
  {
   "cell_type": "code",
   "execution_count": 262,
   "metadata": {},
   "outputs": [
    {
     "data": {
      "image/png": "[encoded data removed]",
      "text/plain": [
       "<Figure size 720x504 with 1 Axes>"
      ]
     },
     "metadata": {
      "needs_background": "light"
     },
     "output_type": "display_data"
    }
   ],
   "source": [
    "orders = (\n",
    "    df.copy()\n",
    "    .groupby('order_id', as_index=False)\n",
    "    .agg({'customer_id':'max', 'date':'max', 'month':'max'})\n",
    ")\n",
    "\n",
    "# create table of first orders\n",
    "first_orders = orders.sort_values('date').groupby('customer_id').head(1)\n",
    "\n",
    "# create boolean column to identify repeated orders = not the first order for customer\n",
    "orders['repeated_order'] = ~orders.order_id.isin(first_orders.order_id)\n",
    "\n",
    "# group by month\n",
    "orders = orders.groupby('month', as_index=False).agg({'order_id':'count', 'repeated_order':'sum'}).rename(columns={'order_id':'orders'})\n",
    "orders['repeated_orders_share'] = round(100 * (orders.repeated_order / orders.orders), 2)\n",
    "orders\n",
    "\n",
    "# add column with average revenue per last 4 months \n",
    "\n",
    "ax, fig = plt.subplots(figsize=(10,7))\n",
    "sns.barplot(data=orders, x='month', y='repeated_orders_share', color='#1f77b4')\n",
    "plt.title('Доля повторных заказов')\n",
    "plt.xticks(rotation='vertical')\n",
    "plt.xlabel('месяц')\n",
    "plt.ylabel('доля повторных заказов')\n",
    "plt.show();\n"
   ]
  },
  {
   "cell_type": "code",
   "execution_count": 263,
   "metadata": {},
   "outputs": [
    {
     "data": {
      "text/html": [
       "<div>\n",
       "<style scoped>\n",
       "    .dataframe tbody tr th:only-of-type {\n",
       "        vertical-align: middle;\n",
       "    }\n",
       "\n",
       "    .dataframe tbody tr th {\n",
       "        vertical-align: top;\n",
       "    }\n",
       "\n",
       "    .dataframe thead th {\n",
       "        text-align: right;\n",
       "    }\n",
       "</style>\n",
       "<table border=\"1\" class=\"dataframe\">\n",
       "  <thead>\n",
       "    <tr style=\"text-align: right;\">\n",
       "      <th></th>\n",
       "      <th>repeated_order</th>\n",
       "      <th>average_bill</th>\n",
       "    </tr>\n",
       "  </thead>\n",
       "  <tbody>\n",
       "    <tr>\n",
       "      <th>0</th>\n",
       "      <td>False</td>\n",
       "      <td>1,218.93</td>\n",
       "    </tr>\n",
       "    <tr>\n",
       "      <th>1</th>\n",
       "      <td>True</td>\n",
       "      <td>899.82</td>\n",
       "    </tr>\n",
       "  </tbody>\n",
       "</table>\n",
       "</div>"
      ],
      "text/plain": [
       "   repeated_order  average_bill\n",
       "0           False      1,218.93\n",
       "1            True        899.82"
      ]
     },
     "execution_count": 263,
     "metadata": {},
     "output_type": "execute_result"
    }
   ],
   "source": [
    "orders = (\n",
    "    df.copy().\n",
    "    groupby('order_id', as_index=False)\n",
    "    .agg({'amount':'sum', 'customer_id':'max', 'date':'max'})\n",
    ")\n",
    "first_orders = orders.sort_values('date').groupby('customer_id').head(1)\n",
    "orders['repeated_order'] = ~orders.order_id.isin(first_orders.order_id)\n",
    "\n",
    "(\n",
    "    orders\n",
    "    .groupby('repeated_order', as_index=False)\n",
    "    .agg({'amount':'mean'})\n",
    "    .rename(columns={'amount':'average_bill'})\n",
    ")\n"
   ]
  },
  {
   "attachments": {},
   "cell_type": "markdown",
   "metadata": {},
   "source": [
    "**Conclusion**.\n",
    "\n",
    "1. During 2019, the share of repeat purchases did not exceed 20%. This may be a result of seasonal demand. Customers returned only a year after their first purchase to buy again. It is recommended that you maintain a relationship with customers throughout the year to achieve more regular purchases. Customers may simply not be familiar with the rest of the store's assortment\n",
    "2. I recommend doing research on the customers that left to understand the reasons why they left and use to improve the store.\n",
    "3. The percentage of repeat orders rose to almost 100% in November 2019 and remains at that level until January 2020, which indicates a lack of new customers. It's great that the store has a loyal audience, but in order to increase revenue, you need to attract new customers\n",
    "4. The average check for repeat purchases is 25% lower than first purchases. Usually, there is an increase in the average check as customer loyalty to the store increases. But not in our case"
   ]
  },
  {
   "attachments": {},
   "cell_type": "markdown",
   "metadata": {},
   "source": [
    "#### average check dynamics"
   ]
  },
  {
   "cell_type": "code",
   "execution_count": 264,
   "metadata": {},
   "outputs": [
    {
     "data": {
      "image/png": "[encoded data removed]",
      "text/plain": [
       "<Figure size 720x504 with 1 Axes>"
      ]
     },
     "metadata": {
      "needs_background": "light"
     },
     "output_type": "display_data"
    }
   ],
   "source": [
    "df_chart = (\n",
    "    df.copy()\n",
    "    .groupby('order_id', as_index=False)\n",
    "    .agg({'date':'max', 'month':'max', 'amount':'sum'})\n",
    ")\n",
    "\n",
    "# group by months\n",
    "df_chart = df_chart.groupby('month', as_index=False).agg({'amount':'mean'}).rename(columns={'amount':'average_bill'})\n",
    "\n",
    "ax, fig = plt.subplots(figsize=(10,7))\n",
    "sns.barplot(data=df_chart, x='month', y='average_bill', color='#1f77b4')\n",
    "plt.title('Средний чек')\n",
    "plt.xticks(rotation='vertical')\n",
    "plt.xlabel('месяц')\n",
    "plt.ylabel('размер среднего чека')\n",
    "plt.show();\n"
   ]
  },
  {
   "attachments": {},
   "cell_type": "markdown",
   "metadata": {},
   "source": [
    "**Conclusion**.\n",
    "\n",
    "1. the average bill varies a lot: in the range from 600 to 1,600 rubles\n",
    "2. In November 2019 the average check fell to 600 rubles and is not growing for the last 3 months, although the number of orders is growing. The store sells a lot of inexpensive goods. The increase in the number of orders makes up for the decrease in the average check, but increases operating costs. It is worthwhile to see how net profit has changed over the last 6 months. \n",
    "3. Increasing the number of orders is an opportunity. I recommend introducing a recommendation system in the store, and thus increasing the average receipt through up-sales "
   ]
  },
  {
   "attachments": {},
   "cell_type": "markdown",
   "metadata": {},
   "source": [
    "## Segmentation"
   ]
  },
  {
   "attachments": {},
   "cell_type": "markdown",
   "metadata": {},
   "source": [
    "### Customer Segmentation (RFM Analysis)\n",
    "\n",
    "For segmentation purposes, a weighted RFM_score will be calculated for each existing customer based on the customer's interactions with the store:\n",
    "- Recency - number of days since the customer's last purchase\n",
    "- Frequency - number of purchases over the history\n",
    "- Monetary - amount of total revenue from the client\n",
    "\n",
    "To calculate RFM_score according to recommendations of Miglautsch (2000) we will use the formula \n",
    "```\n",
    "Customer_RFM_score = 100 * (Recency_score * 5 + Frequency_score * 3 + Monetary_score * 1) / Max_RFM_score\n",
    "```\n",
    "\n",
    "Based on the value of the weighted RFM_score, the clients will be divided into segments."
   ]
  },
  {
   "cell_type": "code",
   "execution_count": 265,
   "metadata": {},
   "outputs": [],
   "source": [
    "segment = (\n",
    "    df.copy()\n",
    "    .groupby('customer_id', as_index=False)\n",
    "    .agg({'amount':'sum', 'order_id':'nunique', 'date':'max'})\n",
    "    .rename(columns={'amount':'total_revenue', 'order_id':'orders_count', 'date':'recent_order_date'})\n",
    ")\n",
    "\n",
    "# Recency score\n",
    "recency = (\n",
    "    df.copy()\n",
    "    .groupby('customer_id', as_index=False)\n",
    "    .agg({'date':'max'})\n",
    "    .rename(columns={'date':'last_order_date'})\n",
    ")\n",
    "recency['days_from_last_order'] = (recency.last_order_date.max() - recency.last_order_date) / np.timedelta64(1, 'D')\n",
    "recency['recency_score'] = recency.days_from_last_order.rank(ascending=False) / recency.days_from_last_order.rank(ascending=False).max()\n",
    "\n",
    "# Frequency score\n",
    "frequency = (\n",
    "    df.copy()\n",
    "    .groupby('customer_id', as_index=False)\n",
    "    .agg({'order_id':'nunique'})\n",
    "    .rename(columns={'order_id': 'orders_count'})\n",
    ")\n",
    "frequency['frequency_score'] = frequency.orders_count.rank(method='min') / frequency.orders_count.rank(method='min').max()\n",
    "\n",
    "# Monetary score\n",
    "monetary = (\n",
    "    df.copy()\n",
    "    .groupby('customer_id', as_index=False)\n",
    "    .agg({'amount':'sum'})\n",
    "    .rename(columns={'amount':'revenue'})\n",
    ")\n",
    "monetary['monetary_score'] = monetary.revenue.rank() / monetary.revenue.rank().max()\n",
    "\n",
    "# merge RFM scores\n",
    "metrics = ['recency_score', 'frequency_score', 'monetary_score']\n",
    "for metric in metrics:\n",
    "    if metric in segment.columns:\n",
    "        segment.drop(metric, axis=1)\n",
    "\n",
    "segment = segment.merge(recency[['customer_id', 'recency_score']], on='customer_id', how='left')\n",
    "segment = segment.merge(frequency[['customer_id', 'frequency_score']], on='customer_id', how='left')\n",
    "segment = segment.merge(monetary[['customer_id', 'monetary_score']], on='customer_id', how='left')\n",
    "\n",
    "# calculate RFM score\n",
    "segment['RFM_score'] = segment.recency_score * 3 + segment.frequency_score * 2 + segment.monetary_score * 1\n",
    "\n",
    "# normalize and round RFM score\n",
    "max_RFM_score = segment.RFM_score.max()\n",
    "segment.RFM_score = round(100 * segment.RFM_score / max_RFM_score, 0)"
   ]
  },
  {
   "attachments": {},
   "cell_type": "markdown",
   "metadata": {},
   "source": [
    "Based on the calculated RFM coefficients 4 segments will be formed:\n",
    "1. 'Champions' above the 3rd quartile\n",
    "2. 'Potential' between 2nd and 3rd quartile \n",
    "3. 'Fluctuating' between 1st and 2nd quartile \n",
    "4. 'Lost' below 1 quartile "
   ]
  },
  {
   "cell_type": "code",
   "execution_count": 266,
   "metadata": {},
   "outputs": [],
   "source": [
    "bins = [\n",
    "    0, \n",
    "    np.quantile(segment.RFM_score, 0.25), \n",
    "    np.quantile(segment.RFM_score, 0.5),\n",
    "    np.quantile(segment.RFM_score, 0.75),\n",
    "    segment.RFM_score.max()\n",
    "    ]\n",
    "\n",
    "labels = ['4. Потерянный', '3. Колеблющийся', '2. Потенциальный', '1. Чемпион']\n",
    "segment['segment'] = pd.cut(segment.RFM_score, bins=bins, labels=labels)"
   ]
  },
  {
   "cell_type": "code",
   "execution_count": 267,
   "metadata": {},
   "outputs": [],
   "source": [
    "# add segments to the main data frame \n",
    "if 'segment' in df.columns:\n",
    "    df = df.drop('segment', axis=1)\n",
    "    \n",
    "df = df.merge(segment[['customer_id', 'segment']], how='left', on='customer_id')"
   ]
  },
  {
   "attachments": {},
   "cell_type": "markdown",
   "metadata": {},
   "source": [
    "#### number of clients per segment"
   ]
  },
  {
   "cell_type": "code",
   "execution_count": 268,
   "metadata": {},
   "outputs": [
    {
     "data": {
      "image/png": "[encoded data removed]",
      "text/plain": [
       "<Figure size 720x504 with 1 Axes>"
      ]
     },
     "metadata": {
      "needs_background": "light"
     },
     "output_type": "display_data"
    }
   ],
   "source": [
    "chart_df = (\n",
    "    df.copy()\n",
    "    .groupby('segment', as_index=False)\n",
    "    .agg({'customer_id':'nunique'})\n",
    "    .rename(columns={'customer_id':'customers_count'})\n",
    "    .sort_values('customers_count')\n",
    ")\n",
    "\n",
    "fig, ax = plt.subplots(figsize=(10,7))\n",
    "sns.barplot(data=chart_df, x='segment', y='customers_count', color='#1f77b4')\n",
    "\n",
    "plt.title('Число клиентов в сегментах')\n",
    "plt.xlabel('Сегмент')\n",
    "plt.ylabel('Число клиентов')\n",
    "plt.show();"
   ]
  },
  {
   "attachments": {},
   "cell_type": "markdown",
   "metadata": {},
   "source": [
    "Customers are evenly distributed across segments. Each segment has approximately 600 customers"
   ]
  },
  {
   "attachments": {},
   "cell_type": "markdown",
   "metadata": {},
   "source": [
    "#### average check by segment"
   ]
  },
  {
   "cell_type": "code",
   "execution_count": 269,
   "metadata": {},
   "outputs": [
    {
     "data": {
      "image/png": "[encoded data removed]",
      "text/plain": [
       "<Figure size 720x504 with 1 Axes>"
      ]
     },
     "metadata": {
      "needs_background": "light"
     },
     "output_type": "display_data"
    }
   ],
   "source": [
    "chart_df = (\n",
    "    df.copy()\n",
    "    .groupby('order_id', as_index=False)\n",
    "    .agg({'segment':'max', 'customer_id':'max', 'amount':'sum'})\n",
    "    .drop('order_id', axis=1)\n",
    "    .groupby('customer_id', as_index=False)\n",
    "    .agg({'segment':'max', 'amount':'mean'})\n",
    "    .rename(columns={'amount':'average_bill'})\n",
    "    [['segment', 'average_bill']]\n",
    "    .sort_values('segment', ascending=False)\n",
    ")\n",
    "\n",
    "ax, fig = plt.subplots(figsize=(10,7))\n",
    "sns.boxplot(data=chart_df, \n",
    "            x='segment', \n",
    "            y='average_bill', \n",
    "            showmeans=True, \n",
    "            meanprops={\n",
    "                \"marker\":\"o\",\n",
    "                \"markerfacecolor\":\"white\", \n",
    "                \"markeredgecolor\":\"black\", \n",
    "                \"markersize\":\"10\"\n",
    "            },\n",
    "            color='#1f77b4'\n",
    "           )\n",
    "plt.title('Средний чек клиентов по сегментам')\n",
    "plt.xlabel('Сегмент')\n",
    "plt.ylim(0, 4000)\n",
    "plt.ylabel('Размер среднего чека')\n",
    "plt.show();\n"
   ]
  },
  {
   "attachments": {},
   "cell_type": "markdown",
   "metadata": {},
   "source": [
    "1. The average check has a lot of outliers - there are customers who buy large amounts of money. So to focus on average values in the case of the average check is not quite right. One big purchase of one client can change the situation in the whole segment \n",
    "2. Clients in the Potential segment have the highest average check. The second place is shared by the Champion and Fluctuating segments\n",
    "3. In terms of median check value, the customers of the Champion segment are much higher than the others. These customers are more stable. The Champion category has the fewest customers with unusually high median checks. At the same time, they seem to choose more expensive products."
   ]
  },
  {
   "attachments": {},
   "cell_type": "markdown",
   "metadata": {},
   "source": [
    "#### number of orders segment"
   ]
  },
  {
   "cell_type": "code",
   "execution_count": 270,
   "metadata": {},
   "outputs": [
    {
     "data": {
      "image/png": "[encoded data removed]",
      "text/plain": [
       "<Figure size 720x504 with 1 Axes>"
      ]
     },
     "metadata": {
      "needs_background": "light"
     },
     "output_type": "display_data"
    },
    {
     "name": "stdout",
     "output_type": "stream",
     "text": [
      "доля сегмента Чемпион по числу заказов составляет 35%\n"
     ]
    }
   ],
   "source": [
    "chart_df = (\n",
    "    df.copy()\n",
    "    .groupby('customer_id', as_index=False)\n",
    "    .agg({'segment':'max', 'order_id':'nunique'})\n",
    "    .drop('customer_id', axis=1)\n",
    "    .rename(columns={'order_id':'orders_count'})\n",
    "    .sort_values('segment', ascending=False)\n",
    ")\n",
    "\n",
    "\n",
    "ax, fig = plt.subplots(figsize=(10,7))\n",
    "sns.barplot(\n",
    "    data=chart_df,\n",
    "    x='segment',\n",
    "    y='orders_count',\n",
    "    estimator=sum,\n",
    "    color='#1f77b4'\n",
    ")\n",
    "plt.title('Число заказов клиентов по сегментам')\n",
    "plt.xlabel('Сегмент')\n",
    "plt.ylabel('Суммарное число заказов')\n",
    "plt.show();\n",
    "print(f'доля сегмента Чемпион по числу заказов составляет {100*chart_df[chart_df.segment == \"1. Чемпион\"].orders_count.sum() / chart_df.orders_count.sum():0.0f}%')"
   ]
  },
  {
   "attachments": {},
   "cell_type": "markdown",
   "metadata": {},
   "source": [
    "1. Clients of the Champion segment ordered the most. In total, they made more than 1,000 orders (34% of all orders).\n",
    "2. Clients of the Potential segment made almost as many orders as clients of the Champion segment\n",
    "3. the customers of the Fluctuating segment made the least number of orders"
   ]
  },
  {
   "attachments": {},
   "cell_type": "markdown",
   "metadata": {},
   "source": [
    "### Hypotheses and their testing\n",
    "\n",
    "**Hypothesis 1**  \n",
    "H0: customer segment X does not differ from other customers in terms of revenue per month  \n",
    "H1: customer segment X differs from other customers by revenue per month\n",
    "\n",
    "**Hypothesis 2**  \n",
    "H0: customer segment X does not differ from other customers by number of purchases per month  \n",
    "H1: customer segment X differs from other customers by number of purchases per month\n",
    "\n",
    "\n",
    "**Test Parameters**  \n",
    "Significance level alpha 0.05 for both tests. A Bonferroni correction will be applied to it due to multiple (eight) comparisons of the same samples.  \n",
    "The Mann-Whitney test will be applied to the statistical test for both metrics because the metrics are not subject to a normal distribution"
   ]
  },
  {
   "cell_type": "code",
   "execution_count": 271,
   "metadata": {},
   "outputs": [],
   "source": [
    "# подготовка данных\n",
    "\n",
    "hyp_df = (\n",
    "    df.copy()\n",
    "    .groupby('customer_id', as_index=False)\n",
    "    .agg({'segment':'max', 'date':'min', 'order_id':'nunique', 'amount':'sum'})\n",
    "    .rename(columns={'date':'first_order_date', 'order_id':'orders_count', 'amount':'revenue'})\n",
    ")\n",
    "hyp_df['lifetime_months'] = (df.date.max() - hyp_df.first_order_date) / np.timedelta64(1, 'M')\n",
    "hyp_df['monthly_revenue'] = hyp_df.revenue / hyp_df.lifetime_months\n",
    "hyp_df['monthly_orders'] = hyp_df.orders_count / hyp_df.lifetime_months"
   ]
  },
  {
   "attachments": {},
   "cell_type": "markdown",
   "metadata": {},
   "source": [
    "#### Hypothesis 1\n",
    "H0: customer segment X does not differ from other customers in terms of revenue per month\n",
    "\n",
    "H1: customer segment X differs from other customers in terms of revenue per month"
   ]
  },
  {
   "cell_type": "code",
   "execution_count": 272,
   "metadata": {},
   "outputs": [
    {
     "name": "stdout",
     "output_type": "stream",
     "text": [
      "\n",
      "Результат теста №1\n",
      "сегмент 2. Потенциальный против сегмента 4. Потерянный\n",
      "p-value = 7.520647599511751e-64\n",
      "Нулевая гипотеза отклонена. Выборки отличаются\n",
      "\n",
      "Результат теста №2\n",
      "сегмент 2. Потенциальный против сегмента 3. Колеблющийся\n",
      "p-value = 2.5088110091420113e-21\n",
      "Нулевая гипотеза отклонена. Выборки отличаются\n",
      "\n",
      "Результат теста №3\n",
      "сегмент 2. Потенциальный против сегмента 1. Чемпион\n",
      "p-value = 0.22217453273137366\n",
      "Нулевая гипотеза не может быть отклонена. Выборки могут быть идентичны\n",
      "\n",
      "Результат теста №4\n",
      "сегмент 4. Потерянный против сегмента 3. Колеблющийся\n",
      "p-value = 3.320799638899522e-27\n",
      "Нулевая гипотеза отклонена. Выборки отличаются\n",
      "\n",
      "Результат теста №5\n",
      "сегмент 4. Потерянный против сегмента 1. Чемпион\n",
      "p-value = 4.9337880019686525e-95\n",
      "Нулевая гипотеза отклонена. Выборки отличаются\n",
      "\n",
      "Результат теста №6\n",
      "сегмент 3. Колеблющийся против сегмента 1. Чемпион\n",
      "p-value = 5.439355852092654e-37\n",
      "Нулевая гипотеза отклонена. Выборки отличаются\n"
     ]
    }
   ],
   "source": [
    "alpha = 0.05\n",
    "# поправка Бонферрони. 12 сравнений в рамках одного множества\n",
    "P = 0.05 / 6\n",
    "\n",
    "comparisons_count = 0\n",
    "segments_A = []\n",
    "segments_B = []\n",
    "\n",
    "for segment_A in hyp_df.segment.unique():\n",
    "    for segment_B in hyp_df.segment.unique():\n",
    "        if segment_A == segment_B:\n",
    "            continue\n",
    "        \n",
    "        if segment_B in segments_A and segment_A in segments_B:\n",
    "            continue\n",
    "        segments_A.append(segment_A)\n",
    "        segments_B.append(segment_B)\n",
    "        \n",
    "        A = hyp_df[hyp_df.segment == segment_A].monthly_revenue\n",
    "        B = hyp_df[hyp_df.segment == segment_B].monthly_revenue\n",
    "        comparisons_count += 1\n",
    "        print(f'\\nРезультат теста №{comparisons_count}')\n",
    "        print(f'сегмент {segment_A} против сегмента {segment_B}')\n",
    "        print(f'p-value = {stats.mannwhitneyu(A, B).pvalue}')\n",
    "        if stats.mannwhitneyu(A, B).pvalue > P:\n",
    "            print('Нулевая гипотеза не может быть отклонена. Выборки могут быть идентичны')\n",
    "        else:\n",
    "            print('Нулевая гипотеза отклонена. Выборки отличаются')"
   ]
  },
  {
   "attachments": {},
   "cell_type": "markdown",
   "metadata": {},
   "source": [
    "#### Hypothesis 2\n",
    "H0: customer segment X does not differ from other customers in terms of number of purchases per month\n",
    "\n",
    "H1: customer segment X differs from other customers by the number of purchases per month"
   ]
  },
  {
   "cell_type": "code",
   "execution_count": 273,
   "metadata": {},
   "outputs": [
    {
     "name": "stdout",
     "output_type": "stream",
     "text": [
      "\n",
      "Результат теста №1\n",
      "сегмент 2. Потенциальный против сегмента 4. Потерянный\n",
      "p-value = 1.0938783226229113e-202\n",
      "Нулевая гипотеза отклонена. Выборки отличаются\n",
      "\n",
      "Результат теста №2\n",
      "сегмент 2. Потенциальный против сегмента 3. Колеблющийся\n",
      "p-value = 2.8339012032691565e-101\n",
      "Нулевая гипотеза отклонена. Выборки отличаются\n",
      "\n",
      "Результат теста №3\n",
      "сегмент 2. Потенциальный против сегмента 1. Чемпион\n",
      "p-value = 1.5421739800933971e-06\n",
      "Нулевая гипотеза отклонена. Выборки отличаются\n",
      "\n",
      "Результат теста №4\n",
      "сегмент 4. Потерянный против сегмента 3. Колеблющийся\n",
      "p-value = 5.2422347818309484e-154\n",
      "Нулевая гипотеза отклонена. Выборки отличаются\n",
      "\n",
      "Результат теста №5\n",
      "сегмент 4. Потерянный против сегмента 1. Чемпион\n",
      "p-value = 7.246329856339689e-201\n",
      "Нулевая гипотеза отклонена. Выборки отличаются\n",
      "\n",
      "Результат теста №6\n",
      "сегмент 3. Колеблющийся против сегмента 1. Чемпион\n",
      "p-value = 2.099591882915815e-122\n",
      "Нулевая гипотеза отклонена. Выборки отличаются\n"
     ]
    }
   ],
   "source": [
    "alpha = 0.05\n",
    "# поправка Бонферрони. 12 сравнений в рамках одного множества\n",
    "P = 0.05 / 6\n",
    "\n",
    "comparisons_count = 0\n",
    "segments_A = []\n",
    "segments_B = []\n",
    "\n",
    "for segment_A in hyp_df.segment.unique():\n",
    "    for segment_B in hyp_df.segment.unique():\n",
    "        if segment_A == segment_B:\n",
    "            continue\n",
    "        \n",
    "        if segment_B in segments_A and segment_A in segments_B:\n",
    "            continue\n",
    "        segments_A.append(segment_A)\n",
    "        segments_B.append(segment_B)\n",
    "        \n",
    "        A = hyp_df[hyp_df.segment == segment_A].monthly_orders\n",
    "        B = hyp_df[hyp_df.segment == segment_B].monthly_orders\n",
    "        comparisons_count += 1\n",
    "        print(f'\\nРезультат теста №{comparisons_count}')\n",
    "        print(f'сегмент {segment_A} против сегмента {segment_B}')\n",
    "        print(f'p-value = {stats.mannwhitneyu(A, B).pvalue}')\n",
    "        if stats.mannwhitneyu(A, B).pvalue > P:\n",
    "            print('Нулевая гипотеза не может быть отклонена. Выборки могут быть идентичны')\n",
    "        else:\n",
    "            print('Нулевая гипотеза отклонена. Выборки отличаются')"
   ]
  },
  {
   "attachments": {},
   "cell_type": "markdown",
   "metadata": {},
   "source": [
    "**Conclusion**\n",
    "\n",
    "All of the proposed null hypotheses are rejected. The customer segmentation is correct. \n",
    "\n",
    "All segments differ in order frequency and average monthly spending"
   ]
  },
  {
   "attachments": {},
   "cell_type": "markdown",
   "metadata": {},
   "source": [
    "### preferences of the segments"
   ]
  },
  {
   "attachments": {},
   "cell_type": "markdown",
   "metadata": {},
   "source": [
    "#### seasonal preferences"
   ]
  },
  {
   "cell_type": "code",
   "execution_count": 274,
   "metadata": {},
   "outputs": [
    {
     "data": {
      "image/png": "[encoded data removed]",
      "text/plain": [
       "<Figure size 936x504 with 4 Axes>"
      ]
     },
     "metadata": {
      "needs_background": "light"
     },
     "output_type": "display_data"
    }
   ],
   "source": [
    "fig, axs = plt.subplots(ncols=2, nrows=2, sharey=True, figsize=(13,7))\n",
    "fig.tight_layout(pad=5)\n",
    "\n",
    "i = 0\n",
    "for segment_name in df.sort_values('segment', ascending=False).segment.unique():\n",
    "    \n",
    "    # iteration thru axes\n",
    "    ax = axs.item(i)\n",
    "    i += 1\n",
    "\n",
    "    # slice the data to separate the segment\n",
    "    segment_chart = (\n",
    "        df[df.segment == segment_name].copy()\n",
    "        .groupby(['category', 'date'], as_index=False)\n",
    "        .agg({'amount':'sum'})\n",
    "    )\n",
    "\n",
    "    # add column with date of monday for each month\n",
    "    segment_chart['month_monday'] = segment_chart.date.dt.to_period('M')\n",
    "\n",
    "    segment_chart = segment_chart.groupby('month_monday', as_index=False).agg({'amount':'sum'})\n",
    "\n",
    "    sns.barplot(data=segment_chart, x='month_monday', y='amount', ax=ax, color='#1f77b4')\n",
    "    ax.set_title(segment_name)\n",
    "    \n",
    "    # rotate x ticks labels\n",
    "    for tick in ax.get_xticklabels():\n",
    "        tick.set_rotation(45)\n",
    "        tick.set_fontsize(8)\n",
    "\n",
    "    # format y ticks labels as decimal\n",
    "    ax.ticklabel_format(style='plain', axis='y')\n",
    "    ax.set_ylim(0,250000)\n",
    "    ax.set_xlabel('месяцы')\n",
    "    ax.set_ylabel('выручка')\n",
    "\n",
    "fig.suptitle('Динамика выручки по сегментам')\n",
    "plt.show();\n"
   ]
  },
  {
   "attachments": {},
   "cell_type": "markdown",
   "metadata": {},
   "source": [
    "**Conclusion**\n",
    "\n",
    "1. **Champion**  \n",
    "The segment's customers have been shopping the entire time the store has been open. Customers in this segment brought in the most revenue in the last three months. \n",
    "\n",
    "2. **Potential**  \n",
    "Shopped as steadily as the Champions for the entire time the store was open and even brought in more revenue than the Champions, but decreased their activity in the last three months. Buying most in October, less in March and May.\n",
    "\n",
    "3. **Fluctuating**  \n",
    "The segment bought well from December 2018 through July 2019. Beginning in March 2019, revenue for this segment began to decline. Customers in this segment have not been buying anything since November 2019\n",
    "\n",
    "4. **Lost**  \n",
    "The segment was buying well at the beginning of the store (October 2018 to February 2019). Especially in November 2018. No purchases since May 2019"
   ]
  },
  {
   "attachments": {},
   "cell_type": "markdown",
   "metadata": {},
   "source": [
    "#### product preferences"
   ]
  },
  {
   "cell_type": "code",
   "execution_count": 275,
   "metadata": {},
   "outputs": [
    {
     "data": {
      "text/plain": [
       "5202"
      ]
     },
     "metadata": {},
     "output_type": "display_data"
    },
    {
     "data": {
      "image/png": "[encoded data removed]",
      "text/plain": [
       "<Figure size 720x720 with 2 Axes>"
      ]
     },
     "metadata": {
      "needs_background": "light"
     },
     "output_type": "display_data"
    }
   ],
   "source": [
    "ax, fig = plt.subplots(figsize=(10,10))\n",
    "segment_chart = df.pivot_table(index='segment', columns='category', values='quantity', aggfunc='sum')\n",
    "display(df[df.category == \"Растения\"].quantity.sum())\n",
    "sns.heatmap(segment_chart, annot=True, cmap='crest', fmt='g')\n",
    "plt.ylabel('Сегмент покупателей')\n",
    "plt.xlabel('Товарная категория')\n",
    "plt.title('Число проданных товаров по сегментам и товарным категориям')\n",
    "plt.show();"
   ]
  },
  {
   "cell_type": "code",
   "execution_count": 276,
   "metadata": {},
   "outputs": [
    {
     "data": {
      "image/png": "[encoded data removed]",
      "text/plain": [
       "<Figure size 720x720 with 2 Axes>"
      ]
     },
     "metadata": {
      "needs_background": "light"
     },
     "output_type": "display_data"
    }
   ],
   "source": [
    "ax, fig = plt.subplots(figsize=(10,10))\n",
    "segment_chart = df.pivot_table(index='segment', columns='category', values='amount', aggfunc='sum')\n",
    "\n",
    "sns.heatmap(segment_chart, annot=True, cmap='crest', fmt='g', linewidths=1)\n",
    "plt.ylabel('Сегмент покупателей')\n",
    "plt.xlabel('Товарная категория')\n",
    "plt.title('Выручка по сегментам и товарным категориям')\n",
    "plt.show();"
   ]
  },
  {
   "cell_type": "code",
   "execution_count": 277,
   "metadata": {},
   "outputs": [
    {
     "data": {
      "image/png": "[encoded data removed]",
      "text/plain": [
       "<Figure size 720x720 with 2 Axes>"
      ]
     },
     "metadata": {
      "needs_background": "light"
     },
     "output_type": "display_data"
    }
   ],
   "source": [
    "ax, fig = plt.subplots(figsize=(10,10))\n",
    "segment_chart = df.pivot_table(index='segment', columns='category', values='price', aggfunc='mean')\n",
    "sns.heatmap(segment_chart, annot=True, cmap='crest', fmt='g')\n",
    "plt.ylabel('Сегмент покупателей')\n",
    "plt.xlabel('Товарная категория')\n",
    "plt.title('Средняя цена приобретенных товаров по сегментам и товарным категориям')\n",
    "plt.show();"
   ]
  },
  {
   "attachments": {},
   "cell_type": "markdown",
   "metadata": {},
   "source": [
    "**Conclusion**.\n",
    "\n",
    "1. **Champion**.  \n",
    "Made equal purchases in all categories. Despite the fact that customers of the Champion segment don't buy much in pieces, they choose more expensive products than customers of other segments. Customers in this segment brought in more revenue than customers in other segments in the categories: drying and ironing and housewares. At the same time, they buy little in the \"Plants\" and \"Housewares and Kitchenware\" categories. In almost all categories (except Storage), Champion segment customers choose more expensive products than the other segments. These customers should definitely be retained and not try hard to expand their orders. They are already loyal to the store and may perceive excessive sales negatively. For them, you should think about expanding the store's assortment and introducing new product categories.\n",
    "\n",
    "2. **Potential**.  \n",
    "The segment eagerly buys merchandise in the \"Storage\", \"Dishes and Kitchenware\", \"Drying and Ironing\" and \"Household Goods\" categories. The segment buys admirably in all product categories. This segment buys a lot of plants. It's worth telling this segment about the more expensive items. It is worth doing a promo for them on Plants in the spring, at this point in time.\n",
    "\n",
    "3. **Fluctuating**.  \n",
    "The product preferences of the segment are very similar to those of the Potential segment. But the segment's customers are not as active in some categories (\"Drying and Ironing,\" \"Other,\" \"Sprouts,\" \"Textiles\"). These categories can be used to upgrade customers to Potential. \n",
    "The Fluctuating segment chooses inexpensive items. This segment has very good potential. It is likely to respond well to promotions and discounts.\n",
    "\n",
    "4. **Lost**.  \n",
    "The segment prefers goods in the categories \"Dishes and Kitchenware\", \"Plants\", \"Household Goods\" and \"Other\". The other categories are not a priority. Perhaps the segment is not aware of their existence in the store. For example, the segment didn't buy \"Textiles\" at all. "
   ]
  },
  {
   "attachments": {},
   "cell_type": "markdown",
   "metadata": {},
   "source": [
    "## Overall conclusion\n",
    "\n",
    "#### General recommendations\n",
    "1. The sales of the store are decreasing during the analyzed period in terms of revenue. The main reason for this is that the store is losing customers and not finding new ones. Recommendations for interacting with existing customers and preventing churn are given below. In this block we will focus on new customers.\n",
    "2. In the last 6 months there has been a gradual increase in the number of orders. It is noticeable that efforts have been made in this direction. However, it is worth remembering that the number of orders is not the only goal. It is worth setting goals for the content of the orders, that is, for the revenue. \n",
    "3. During 2019, the percentage of repeat purchases did not exceed 20%. In the last 3 months, the repeat order rate has increased to almost 100%. It's great to be able to return and retain customers. But at the same time it shows that the number of new customers is close to zero. This means that marketing activity has stopped or become ineffective. Sooner or later the absence of new customers will lead to more problems. Since the customer outflow occurs anyway in any store, and we can only influence its intensity, the number of orders will decrease. Investment is required in attracting new customers. In addition, the average check for repeat purchases is 23% lower than for first purchases. That is, the store manages to return not the most valuable customers. \n",
    "4. Often the fluctuations in revenue by category were in sync, suggesting that the fluctuations are due to common causes. This may be the effect of marketing activities. It is recommended that marketing activities be analyzed to evaluate their effectiveness and repeated if necessary.\n",
    "5. From January to May, the average check is not increasing, but the number of orders is increasing. The store sells a lot of inexpensive goods. The increase in the number of orders makes up for the decrease in the average check. But at the same time, the increase in the number of orders is an opportunity. I recommend implementing a recommendation system in the store and thereby increasing the average receipt through up-sales\n",
    "6. Since sales of goods in the \"Dishes and Kitchenware\" and \"Textiles\" categories have dropped significantly, it is worth checking further to see if there have been any changes in the assortment or pricing that might explain this. The cause of the decline in these segments is worth finding and eliminating. \n",
    "\n",
    "#### Recommendations to increase sales by segment\n",
    "1. Retaining and returning customers who have already purchased from the store will stabilize revenue and make the business more predictable\n",
    "2. All customers have been segmented into 4 segments. Each of them should be interacted with separately by applying different activities. The goal of the minimum is to move the customer one segment higher. \n",
    "3. Segmentation should be repeated in the future for new customers\n",
    "4. The following suggestions for customer development in each segment are made:\n",
    "    1. **Champions** - the most valuable and the most loyal clients of the store \n",
    "        - creation of referral program \"Bring your friend - get money on account\".\n",
    "        - exclusive access to testing of new products and product categories, focus groups\n",
    "        - birthday gifts (not congratulations, but gifts, even if they are not very big)\n",
    "        - upsale through recommendations in the \"Plants\" and \"Cookware\" categories\n",
    "    2. **Potential** - clients with the potential to grow into Champions  \n",
    "        - creation of the loyalty program with accumulation of money in the internal account for the purchases (will increase the regularity of purchases)\n",
    "        - promotional email newsletter in the categories of \"Storage,\" \"Dishes & Kitchenware,\" \"Drying & Ironing,\" and \"Household Goods\"\n",
    "        - upsale through recommendations of more expensive goods, emphasis on quality of goods\n",
    "    3. **Fluctuating** - clients who bought well but not periodically  \n",
    "        - onboarding/newsletter about the store: \"how did we open? \"what do we work for?\" \"what do we sell?\", \"new assortment in the categories \"Storage\", \"Dishes and Kitchenware\" and \"Household Goods\". This will allow you to remind customers of your existence \n",
    "        - unobtrusively add to the info newsletter promo block on the above categories, choose to promo inexpensive items and apply to them promotional prices. In this segment should work discounts\n",
    "    4. **Lost** - customers who have bought well in the past, but last bought a very long time ago. You should try to get them back. It is harder to return than to keep them, but it is worth trying  \n",
    "        - a promotion for the return - a deposit of 500 rubles in an internal account burned out after 2 weeks\n",
    "        - for this segment it is recommended to conduct a survey \"Why did you leave us?\" to understand the reasons, correct them and slow down the departure of other clients\n",
    "        - you can combine the promotion with a survey. Give a deposit only to those who passed the survey. Or give a higher deposit to those who passed the survey."
   ]
  }
 ],
 "metadata": {
  "ExecuteTimeLog": [
   {
    "duration": 5108,
    "start_time": "2023-05-11T09:15:14.463Z"
   },
   {
    "duration": 1564,
    "start_time": "2023-05-11T09:15:19.581Z"
   },
   {
    "duration": 0,
    "start_time": "2023-05-11T09:15:21.150Z"
   },
   {
    "duration": 0,
    "start_time": "2023-05-11T09:15:21.153Z"
   },
   {
    "duration": 0,
    "start_time": "2023-05-11T09:15:21.154Z"
   },
   {
    "duration": 0,
    "start_time": "2023-05-11T09:15:21.155Z"
   },
   {
    "duration": 0,
    "start_time": "2023-05-11T09:15:21.156Z"
   },
   {
    "duration": 0,
    "start_time": "2023-05-11T09:15:21.157Z"
   },
   {
    "duration": 0,
    "start_time": "2023-05-11T09:15:21.158Z"
   },
   {
    "duration": 0,
    "start_time": "2023-05-11T09:15:21.159Z"
   },
   {
    "duration": 0,
    "start_time": "2023-05-11T09:15:21.160Z"
   },
   {
    "duration": 0,
    "start_time": "2023-05-11T09:15:21.175Z"
   },
   {
    "duration": 0,
    "start_time": "2023-05-11T09:15:21.177Z"
   },
   {
    "duration": 0,
    "start_time": "2023-05-11T09:15:21.180Z"
   },
   {
    "duration": 0,
    "start_time": "2023-05-11T09:15:21.182Z"
   },
   {
    "duration": 0,
    "start_time": "2023-05-11T09:15:21.183Z"
   },
   {
    "duration": 0,
    "start_time": "2023-05-11T09:15:21.184Z"
   },
   {
    "duration": 0,
    "start_time": "2023-05-11T09:15:21.191Z"
   },
   {
    "duration": 0,
    "start_time": "2023-05-11T09:15:21.193Z"
   },
   {
    "duration": 0,
    "start_time": "2023-05-11T09:15:21.195Z"
   },
   {
    "duration": 0,
    "start_time": "2023-05-11T09:15:21.196Z"
   },
   {
    "duration": 0,
    "start_time": "2023-05-11T09:15:21.198Z"
   },
   {
    "duration": 0,
    "start_time": "2023-05-11T09:15:21.204Z"
   },
   {
    "duration": 0,
    "start_time": "2023-05-11T09:15:21.207Z"
   },
   {
    "duration": 0,
    "start_time": "2023-05-11T09:15:21.211Z"
   },
   {
    "duration": 0,
    "start_time": "2023-05-11T09:15:21.213Z"
   },
   {
    "duration": 0,
    "start_time": "2023-05-11T09:15:21.214Z"
   },
   {
    "duration": 0,
    "start_time": "2023-05-11T09:15:21.216Z"
   },
   {
    "duration": 0,
    "start_time": "2023-05-11T09:15:21.218Z"
   },
   {
    "duration": 0,
    "start_time": "2023-05-11T09:15:21.220Z"
   },
   {
    "duration": 0,
    "start_time": "2023-05-11T09:15:21.226Z"
   },
   {
    "duration": 359,
    "start_time": "2023-05-11T09:16:21.453Z"
   },
   {
    "duration": 2178,
    "start_time": "2023-05-11T09:16:41.822Z"
   },
   {
    "duration": 1012,
    "start_time": "2023-05-11T09:17:08.102Z"
   },
   {
    "duration": 21,
    "start_time": "2023-05-11T09:17:32.506Z"
   },
   {
    "duration": 48,
    "start_time": "2023-05-11T09:17:32.531Z"
   },
   {
    "duration": 51,
    "start_time": "2023-05-11T09:17:32.581Z"
   },
   {
    "duration": 164,
    "start_time": "2023-05-11T09:17:32.634Z"
   },
   {
    "duration": 46,
    "start_time": "2023-05-11T09:17:32.806Z"
   },
   {
    "duration": 1348,
    "start_time": "2023-05-11T09:17:32.855Z"
   },
   {
    "duration": 23,
    "start_time": "2023-05-11T09:17:34.206Z"
   },
   {
    "duration": 7,
    "start_time": "2023-05-11T09:17:34.232Z"
   },
   {
    "duration": 178,
    "start_time": "2023-05-11T09:17:34.241Z"
   },
   {
    "duration": 188,
    "start_time": "2023-05-11T09:17:34.424Z"
   },
   {
    "duration": 29,
    "start_time": "2023-05-11T09:17:34.615Z"
   },
   {
    "duration": 324,
    "start_time": "2023-05-11T09:17:34.647Z"
   },
   {
    "duration": 8,
    "start_time": "2023-05-11T09:17:34.978Z"
   },
   {
    "duration": 354,
    "start_time": "2023-05-11T09:17:34.988Z"
   },
   {
    "duration": 0,
    "start_time": "2023-05-11T09:17:35.345Z"
   },
   {
    "duration": 0,
    "start_time": "2023-05-11T09:17:35.346Z"
   },
   {
    "duration": 0,
    "start_time": "2023-05-11T09:17:35.347Z"
   },
   {
    "duration": 0,
    "start_time": "2023-05-11T09:17:35.349Z"
   },
   {
    "duration": 0,
    "start_time": "2023-05-11T09:17:35.352Z"
   },
   {
    "duration": 0,
    "start_time": "2023-05-11T09:17:35.353Z"
   },
   {
    "duration": 0,
    "start_time": "2023-05-11T09:17:35.355Z"
   },
   {
    "duration": 0,
    "start_time": "2023-05-11T09:17:35.357Z"
   },
   {
    "duration": 0,
    "start_time": "2023-05-11T09:17:35.358Z"
   },
   {
    "duration": 0,
    "start_time": "2023-05-11T09:17:35.362Z"
   },
   {
    "duration": 0,
    "start_time": "2023-05-11T09:17:35.363Z"
   },
   {
    "duration": 0,
    "start_time": "2023-05-11T09:17:35.365Z"
   },
   {
    "duration": 0,
    "start_time": "2023-05-11T09:17:35.366Z"
   },
   {
    "duration": 0,
    "start_time": "2023-05-11T09:17:35.368Z"
   },
   {
    "duration": 0,
    "start_time": "2023-05-11T09:17:35.369Z"
   },
   {
    "duration": 18,
    "start_time": "2023-05-11T09:27:14.730Z"
   },
   {
    "duration": 20,
    "start_time": "2023-05-11T09:27:15.285Z"
   },
   {
    "duration": 24,
    "start_time": "2023-05-11T09:27:15.732Z"
   },
   {
    "duration": 364,
    "start_time": "2023-05-11T09:30:01.203Z"
   },
   {
    "duration": 660,
    "start_time": "2023-05-11T09:30:02.496Z"
   },
   {
    "duration": 454,
    "start_time": "2023-05-11T09:30:03.159Z"
   },
   {
    "duration": 312,
    "start_time": "2023-05-11T09:30:03.626Z"
   },
   {
    "duration": 87,
    "start_time": "2023-05-11T09:30:04.599Z"
   },
   {
    "duration": 10,
    "start_time": "2023-05-11T09:30:05.356Z"
   },
   {
    "duration": 19,
    "start_time": "2023-05-11T09:30:05.639Z"
   },
   {
    "duration": 150,
    "start_time": "2023-05-11T09:30:06.379Z"
   },
   {
    "duration": 128,
    "start_time": "2023-05-11T09:30:06.915Z"
   },
   {
    "duration": 607,
    "start_time": "2023-05-11T09:30:08.211Z"
   },
   {
    "duration": 46,
    "start_time": "2023-05-11T09:30:09.355Z"
   },
   {
    "duration": 527,
    "start_time": "2023-05-11T09:30:39.039Z"
   },
   {
    "duration": 12,
    "start_time": "2023-05-11T09:36:04.033Z"
   },
   {
    "duration": 6,
    "start_time": "2023-05-11T09:37:12.798Z"
   },
   {
    "duration": 1023,
    "start_time": "2023-05-11T09:37:12.807Z"
   },
   {
    "duration": 15,
    "start_time": "2023-05-11T09:37:13.833Z"
   },
   {
    "duration": 38,
    "start_time": "2023-05-11T09:37:13.850Z"
   },
   {
    "duration": 53,
    "start_time": "2023-05-11T09:37:13.891Z"
   },
   {
    "duration": 193,
    "start_time": "2023-05-11T09:37:13.946Z"
   },
   {
    "duration": 6,
    "start_time": "2023-05-11T09:37:41.604Z"
   },
   {
    "duration": 23,
    "start_time": "2023-05-11T09:38:01.166Z"
   },
   {
    "duration": 160,
    "start_time": "2023-05-11T09:38:13.426Z"
   },
   {
    "duration": 7,
    "start_time": "2023-05-11T09:38:21.301Z"
   },
   {
    "duration": 333,
    "start_time": "2023-05-11T09:39:47.459Z"
   },
   {
    "duration": 376,
    "start_time": "2023-05-11T09:49:45.286Z"
   },
   {
    "duration": 77,
    "start_time": "2023-05-11T10:21:53.888Z"
   },
   {
    "duration": 1940,
    "start_time": "2023-05-11T10:22:08.458Z"
   },
   {
    "duration": 1361,
    "start_time": "2023-05-11T10:22:10.401Z"
   },
   {
    "duration": 20,
    "start_time": "2023-05-11T10:22:11.764Z"
   },
   {
    "duration": 26,
    "start_time": "2023-05-11T10:22:11.787Z"
   },
   {
    "duration": 23,
    "start_time": "2023-05-11T10:22:11.816Z"
   },
   {
    "duration": 176,
    "start_time": "2023-05-11T10:22:11.842Z"
   },
   {
    "duration": 27,
    "start_time": "2023-05-11T10:22:12.020Z"
   },
   {
    "duration": 30,
    "start_time": "2023-05-11T10:22:15.883Z"
   },
   {
    "duration": 139,
    "start_time": "2023-05-11T10:26:48.077Z"
   },
   {
    "duration": 30,
    "start_time": "2023-05-11T10:27:18.806Z"
   },
   {
    "duration": 10,
    "start_time": "2023-05-11T10:28:20.269Z"
   },
   {
    "duration": 1569,
    "start_time": "2023-05-11T10:28:20.283Z"
   },
   {
    "duration": 18,
    "start_time": "2023-05-11T10:28:21.855Z"
   },
   {
    "duration": 27,
    "start_time": "2023-05-11T10:28:21.877Z"
   },
   {
    "duration": 23,
    "start_time": "2023-05-11T10:28:21.907Z"
   },
   {
    "duration": 202,
    "start_time": "2023-05-11T10:28:21.932Z"
   },
   {
    "duration": 59,
    "start_time": "2023-05-11T10:28:22.137Z"
   },
   {
    "duration": 41,
    "start_time": "2023-05-11T10:28:24.173Z"
   },
   {
    "duration": 33,
    "start_time": "2023-05-11T10:28:36.819Z"
   },
   {
    "duration": 30,
    "start_time": "2023-05-11T10:29:07.084Z"
   },
   {
    "duration": 1222,
    "start_time": "2023-05-11T10:31:14.453Z"
   },
   {
    "duration": 1002,
    "start_time": "2023-05-11T10:31:52.008Z"
   },
   {
    "duration": 1200,
    "start_time": "2023-05-11T10:36:04.150Z"
   },
   {
    "duration": 22,
    "start_time": "2023-05-11T10:36:54.274Z"
   },
   {
    "duration": 5,
    "start_time": "2023-05-11T10:37:03.474Z"
   },
   {
    "duration": 188,
    "start_time": "2023-05-11T10:37:05.231Z"
   },
   {
    "duration": 229,
    "start_time": "2023-05-11T10:37:46.162Z"
   },
   {
    "duration": 6,
    "start_time": "2023-05-11T10:44:50.048Z"
   },
   {
    "duration": 1352,
    "start_time": "2023-05-11T10:44:50.057Z"
   },
   {
    "duration": 15,
    "start_time": "2023-05-11T10:44:51.412Z"
   },
   {
    "duration": 50,
    "start_time": "2023-05-11T10:44:51.431Z"
   },
   {
    "duration": 48,
    "start_time": "2023-05-11T10:44:51.483Z"
   },
   {
    "duration": 142,
    "start_time": "2023-05-11T10:44:51.533Z"
   },
   {
    "duration": 28,
    "start_time": "2023-05-11T10:44:51.677Z"
   },
   {
    "duration": 25,
    "start_time": "2023-05-11T10:44:51.707Z"
   },
   {
    "duration": 912,
    "start_time": "2023-05-11T10:44:51.734Z"
   },
   {
    "duration": 33,
    "start_time": "2023-05-11T10:44:52.649Z"
   },
   {
    "duration": 37,
    "start_time": "2023-05-11T10:44:52.684Z"
   },
   {
    "duration": 413,
    "start_time": "2023-05-11T10:44:52.723Z"
   },
   {
    "duration": 197,
    "start_time": "2023-05-11T10:44:53.139Z"
   },
   {
    "duration": 16,
    "start_time": "2023-05-11T10:44:53.339Z"
   },
   {
    "duration": 193,
    "start_time": "2023-05-11T10:44:53.372Z"
   },
   {
    "duration": 5,
    "start_time": "2023-05-11T10:44:53.572Z"
   },
   {
    "duration": 6146,
    "start_time": "2023-05-11T10:45:05.228Z"
   },
   {
    "duration": 657,
    "start_time": "2023-05-11T10:49:04.628Z"
   },
   {
    "duration": 5782,
    "start_time": "2023-05-11T10:58:09.181Z"
   },
   {
    "duration": 533,
    "start_time": "2023-05-11T10:59:46.696Z"
   },
   {
    "duration": 7983,
    "start_time": "2023-05-11T10:59:58.962Z"
   },
   {
    "duration": 4684,
    "start_time": "2023-05-11T11:02:03.126Z"
   },
   {
    "duration": 6087,
    "start_time": "2023-05-11T11:03:58.947Z"
   },
   {
    "duration": 108,
    "start_time": "2023-05-11T11:09:46.997Z"
   },
   {
    "duration": 787,
    "start_time": "2023-05-11T11:09:57.422Z"
   },
   {
    "duration": 631,
    "start_time": "2023-05-11T11:11:07.509Z"
   },
   {
    "duration": 686,
    "start_time": "2023-05-11T11:12:02.845Z"
   },
   {
    "duration": 8080,
    "start_time": "2023-05-11T11:12:10.440Z"
   },
   {
    "duration": 9348,
    "start_time": "2023-05-11T11:12:43.293Z"
   },
   {
    "duration": 672,
    "start_time": "2023-05-11T11:13:13.059Z"
   },
   {
    "duration": 597,
    "start_time": "2023-05-11T11:15:35.162Z"
   },
   {
    "duration": 294,
    "start_time": "2023-05-11T11:29:40.689Z"
   },
   {
    "duration": 274,
    "start_time": "2023-05-11T11:29:59.490Z"
   },
   {
    "duration": 267,
    "start_time": "2023-05-11T11:30:32.983Z"
   },
   {
    "duration": 7249,
    "start_time": "2023-05-11T11:30:55.444Z"
   },
   {
    "duration": 780,
    "start_time": "2023-05-11T11:32:06.538Z"
   },
   {
    "duration": 914,
    "start_time": "2023-05-11T11:32:32.848Z"
   },
   {
    "duration": 5897,
    "start_time": "2023-05-11T11:33:41.293Z"
   },
   {
    "duration": 6851,
    "start_time": "2023-05-11T11:37:55.782Z"
   },
   {
    "duration": 764,
    "start_time": "2023-05-11T11:38:19.286Z"
   },
   {
    "duration": 404,
    "start_time": "2023-05-11T11:38:27.702Z"
   },
   {
    "duration": 114,
    "start_time": "2023-05-11T11:38:38.545Z"
   },
   {
    "duration": 248,
    "start_time": "2023-05-11T11:38:44.740Z"
   },
   {
    "duration": 1180,
    "start_time": "2023-05-11T11:38:54.060Z"
   },
   {
    "duration": 854,
    "start_time": "2023-05-11T11:39:00.269Z"
   },
   {
    "duration": 800,
    "start_time": "2023-05-11T11:40:06.555Z"
   },
   {
    "duration": 6805,
    "start_time": "2023-05-11T11:43:35.488Z"
   },
   {
    "duration": 3919,
    "start_time": "2023-05-11T11:43:47.182Z"
   },
   {
    "duration": 3201,
    "start_time": "2023-05-11T11:46:53.087Z"
   },
   {
    "duration": 899,
    "start_time": "2023-05-11T11:48:45.317Z"
   },
   {
    "duration": 3234,
    "start_time": "2023-05-11T11:48:57.768Z"
   },
   {
    "duration": 6692,
    "start_time": "2023-05-11T11:49:32.762Z"
   },
   {
    "duration": 9274,
    "start_time": "2023-05-11T11:49:58.601Z"
   },
   {
    "duration": 7340,
    "start_time": "2023-05-11T11:52:48.626Z"
   },
   {
    "duration": 6804,
    "start_time": "2023-05-11T11:53:42.923Z"
   },
   {
    "duration": 4540,
    "start_time": "2023-05-11T11:56:54.002Z"
   },
   {
    "duration": 153,
    "start_time": "2023-05-11T11:57:25.434Z"
   },
   {
    "duration": 3241,
    "start_time": "2023-05-11T12:04:44.556Z"
   },
   {
    "duration": 3432,
    "start_time": "2023-05-11T12:05:11.655Z"
   },
   {
    "duration": 21,
    "start_time": "2023-05-11T12:05:20.293Z"
   },
   {
    "duration": 1021,
    "start_time": "2023-05-11T12:06:37.616Z"
   },
   {
    "duration": 454,
    "start_time": "2023-05-11T12:06:43.824Z"
   },
   {
    "duration": 6,
    "start_time": "2023-05-11T12:09:03.851Z"
   },
   {
    "duration": 193,
    "start_time": "2023-05-11T12:09:25.746Z"
   },
   {
    "duration": 271,
    "start_time": "2023-05-11T12:09:30.549Z"
   },
   {
    "duration": 253,
    "start_time": "2023-05-11T12:10:05.042Z"
   },
   {
    "duration": 8,
    "start_time": "2023-05-11T12:10:14.445Z"
   },
   {
    "duration": 1825,
    "start_time": "2023-05-11T12:10:14.455Z"
   },
   {
    "duration": 17,
    "start_time": "2023-05-11T12:10:16.287Z"
   },
   {
    "duration": 75,
    "start_time": "2023-05-11T12:10:16.308Z"
   },
   {
    "duration": 49,
    "start_time": "2023-05-11T12:10:16.387Z"
   },
   {
    "duration": 198,
    "start_time": "2023-05-11T12:10:16.439Z"
   },
   {
    "duration": 55,
    "start_time": "2023-05-11T12:10:16.639Z"
   },
   {
    "duration": 33,
    "start_time": "2023-05-11T12:10:16.697Z"
   },
   {
    "duration": 1167,
    "start_time": "2023-05-11T12:10:16.732Z"
   },
   {
    "duration": 26,
    "start_time": "2023-05-11T12:10:17.906Z"
   },
   {
    "duration": 32,
    "start_time": "2023-05-11T12:10:17.934Z"
   },
   {
    "duration": 43,
    "start_time": "2023-05-11T12:10:17.969Z"
   },
   {
    "duration": 219,
    "start_time": "2023-05-11T12:10:18.014Z"
   },
   {
    "duration": 251,
    "start_time": "2023-05-11T12:10:18.236Z"
   },
   {
    "duration": 28,
    "start_time": "2023-05-11T12:10:18.489Z"
   },
   {
    "duration": 199,
    "start_time": "2023-05-11T12:10:24.436Z"
   },
   {
    "duration": 3345,
    "start_time": "2023-05-11T12:10:29.548Z"
   },
   {
    "duration": 19,
    "start_time": "2023-05-11T12:10:47.058Z"
   },
   {
    "duration": 958,
    "start_time": "2023-05-11T12:10:50.253Z"
   },
   {
    "duration": 33,
    "start_time": "2023-05-11T12:11:43.590Z"
   },
   {
    "duration": 850,
    "start_time": "2023-05-11T12:12:01.902Z"
   },
   {
    "duration": 593,
    "start_time": "2023-05-11T12:12:14.975Z"
   },
   {
    "duration": 435,
    "start_time": "2023-05-11T12:12:46.603Z"
   },
   {
    "duration": 265,
    "start_time": "2023-05-11T12:18:51.785Z"
   },
   {
    "duration": 280,
    "start_time": "2023-05-11T12:21:07.023Z"
   },
   {
    "duration": 347,
    "start_time": "2023-05-11T12:21:25.663Z"
   },
   {
    "duration": 276,
    "start_time": "2023-05-11T12:21:30.274Z"
   },
   {
    "duration": 459,
    "start_time": "2023-05-11T12:21:36.232Z"
   },
   {
    "duration": 316,
    "start_time": "2023-05-11T12:27:45.641Z"
   },
   {
    "duration": 339,
    "start_time": "2023-05-11T12:27:53.852Z"
   },
   {
    "duration": 321,
    "start_time": "2023-05-11T12:30:53.993Z"
   },
   {
    "duration": 709,
    "start_time": "2023-05-11T12:32:06.552Z"
   },
   {
    "duration": 320,
    "start_time": "2023-05-11T12:32:25.609Z"
   },
   {
    "duration": 289,
    "start_time": "2023-05-11T12:35:47.124Z"
   },
   {
    "duration": 312,
    "start_time": "2023-05-11T12:36:18.451Z"
   },
   {
    "duration": 7,
    "start_time": "2023-05-11T12:36:25.319Z"
   },
   {
    "duration": 1265,
    "start_time": "2023-05-11T12:36:25.329Z"
   },
   {
    "duration": 14,
    "start_time": "2023-05-11T12:36:26.596Z"
   },
   {
    "duration": 49,
    "start_time": "2023-05-11T12:36:26.614Z"
   },
   {
    "duration": 41,
    "start_time": "2023-05-11T12:36:26.665Z"
   },
   {
    "duration": 125,
    "start_time": "2023-05-11T12:36:26.709Z"
   },
   {
    "duration": 51,
    "start_time": "2023-05-11T12:36:26.837Z"
   },
   {
    "duration": 75,
    "start_time": "2023-05-11T12:36:26.893Z"
   },
   {
    "duration": 1128,
    "start_time": "2023-05-11T12:36:26.973Z"
   },
   {
    "duration": 17,
    "start_time": "2023-05-11T12:36:28.104Z"
   },
   {
    "duration": 14,
    "start_time": "2023-05-11T12:36:28.123Z"
   },
   {
    "duration": 29,
    "start_time": "2023-05-11T12:36:28.140Z"
   },
   {
    "duration": 215,
    "start_time": "2023-05-11T12:36:28.176Z"
   },
   {
    "duration": 236,
    "start_time": "2023-05-11T12:36:28.394Z"
   },
   {
    "duration": 19,
    "start_time": "2023-05-11T12:36:28.632Z"
   },
   {
    "duration": 211,
    "start_time": "2023-05-11T12:36:28.653Z"
   },
   {
    "duration": 9,
    "start_time": "2023-05-11T12:36:28.877Z"
   },
   {
    "duration": 3140,
    "start_time": "2023-05-11T12:36:28.889Z"
   },
   {
    "duration": 20,
    "start_time": "2023-05-11T12:36:32.031Z"
   },
   {
    "duration": 689,
    "start_time": "2023-05-11T12:36:32.053Z"
   },
   {
    "duration": 448,
    "start_time": "2023-05-11T12:36:32.744Z"
   },
   {
    "duration": 499,
    "start_time": "2023-05-11T12:36:33.195Z"
   },
   {
    "duration": 295,
    "start_time": "2023-05-11T12:36:33.696Z"
   },
   {
    "duration": 586,
    "start_time": "2023-05-11T12:36:33.994Z"
   },
   {
    "duration": 310,
    "start_time": "2023-05-11T12:36:34.585Z"
   },
   {
    "duration": 294,
    "start_time": "2023-05-11T12:36:53.001Z"
   },
   {
    "duration": 92,
    "start_time": "2023-05-11T12:45:01.495Z"
   },
   {
    "duration": 21,
    "start_time": "2023-05-11T12:45:14.466Z"
   },
   {
    "duration": 15,
    "start_time": "2023-05-11T12:45:16.640Z"
   },
   {
    "duration": 368,
    "start_time": "2023-05-11T12:47:20.096Z"
   },
   {
    "duration": 244,
    "start_time": "2023-05-11T12:50:22.771Z"
   },
   {
    "duration": 250,
    "start_time": "2023-05-11T12:50:30.437Z"
   },
   {
    "duration": 1200,
    "start_time": "2023-05-11T13:00:49.495Z"
   },
   {
    "duration": 10,
    "start_time": "2023-05-11T13:01:30.946Z"
   },
   {
    "duration": 755,
    "start_time": "2023-05-11T13:01:44.190Z"
   },
   {
    "duration": 199,
    "start_time": "2023-05-11T13:01:48.249Z"
   },
   {
    "duration": 986,
    "start_time": "2023-05-11T13:02:23.847Z"
   },
   {
    "duration": 871,
    "start_time": "2023-05-11T13:02:34.088Z"
   },
   {
    "duration": 1500,
    "start_time": "2023-05-11T13:05:39.082Z"
   },
   {
    "duration": 1458,
    "start_time": "2023-05-11T13:06:12.972Z"
   },
   {
    "duration": 1117,
    "start_time": "2023-05-11T13:08:05.921Z"
   },
   {
    "duration": 1526,
    "start_time": "2023-05-11T13:08:36.355Z"
   },
   {
    "duration": 1393,
    "start_time": "2023-05-11T13:08:37.884Z"
   },
   {
    "duration": 17,
    "start_time": "2023-05-11T13:08:39.281Z"
   },
   {
    "duration": 20,
    "start_time": "2023-05-11T13:08:39.300Z"
   },
   {
    "duration": 21,
    "start_time": "2023-05-11T13:08:39.322Z"
   },
   {
    "duration": 149,
    "start_time": "2023-05-11T13:08:39.345Z"
   },
   {
    "duration": 25,
    "start_time": "2023-05-11T13:08:39.496Z"
   },
   {
    "duration": 24,
    "start_time": "2023-05-11T13:08:39.523Z"
   },
   {
    "duration": 1096,
    "start_time": "2023-05-11T13:08:39.577Z"
   },
   {
    "duration": 17,
    "start_time": "2023-05-11T13:08:40.685Z"
   },
   {
    "duration": 11,
    "start_time": "2023-05-11T13:08:40.704Z"
   },
   {
    "duration": 17,
    "start_time": "2023-05-11T13:08:40.717Z"
   },
   {
    "duration": 195,
    "start_time": "2023-05-11T13:08:40.736Z"
   },
   {
    "duration": 197,
    "start_time": "2023-05-11T13:08:40.933Z"
   },
   {
    "duration": 15,
    "start_time": "2023-05-11T13:08:41.132Z"
   },
   {
    "duration": 199,
    "start_time": "2023-05-11T13:08:41.149Z"
   },
   {
    "duration": 5,
    "start_time": "2023-05-11T13:08:41.349Z"
   },
   {
    "duration": 3232,
    "start_time": "2023-05-11T13:08:41.356Z"
   },
   {
    "duration": 16,
    "start_time": "2023-05-11T13:08:44.591Z"
   },
   {
    "duration": 583,
    "start_time": "2023-05-11T13:08:44.609Z"
   },
   {
    "duration": 554,
    "start_time": "2023-05-11T13:08:45.194Z"
   },
   {
    "duration": 295,
    "start_time": "2023-05-11T13:08:45.750Z"
   },
   {
    "duration": 303,
    "start_time": "2023-05-11T13:08:46.048Z"
   },
   {
    "duration": 532,
    "start_time": "2023-05-11T13:08:46.353Z"
   },
   {
    "duration": 257,
    "start_time": "2023-05-11T13:08:46.887Z"
   },
   {
    "duration": 280,
    "start_time": "2023-05-11T13:08:47.146Z"
   },
   {
    "duration": 79,
    "start_time": "2023-05-11T13:08:47.428Z"
   },
   {
    "duration": 6,
    "start_time": "2023-05-11T13:09:08.654Z"
   },
   {
    "duration": 964,
    "start_time": "2023-05-11T13:09:08.663Z"
   },
   {
    "duration": 13,
    "start_time": "2023-05-11T13:09:09.630Z"
   },
   {
    "duration": 43,
    "start_time": "2023-05-11T13:09:09.645Z"
   },
   {
    "duration": 27,
    "start_time": "2023-05-11T13:09:09.691Z"
   },
   {
    "duration": 131,
    "start_time": "2023-05-11T13:09:09.720Z"
   },
   {
    "duration": 42,
    "start_time": "2023-05-11T13:09:09.853Z"
   },
   {
    "duration": 25,
    "start_time": "2023-05-11T13:09:09.897Z"
   },
   {
    "duration": 912,
    "start_time": "2023-05-11T13:09:09.924Z"
   },
   {
    "duration": 19,
    "start_time": "2023-05-11T13:09:10.837Z"
   },
   {
    "duration": 13,
    "start_time": "2023-05-11T13:09:10.874Z"
   },
   {
    "duration": 7,
    "start_time": "2023-05-11T13:09:10.890Z"
   },
   {
    "duration": 395,
    "start_time": "2023-05-11T13:09:10.899Z"
   },
   {
    "duration": 216,
    "start_time": "2023-05-11T13:09:11.298Z"
   },
   {
    "duration": 16,
    "start_time": "2023-05-11T13:09:11.516Z"
   },
   {
    "duration": 215,
    "start_time": "2023-05-11T13:09:11.534Z"
   },
   {
    "duration": 7,
    "start_time": "2023-05-11T13:09:11.751Z"
   },
   {
    "duration": 2588,
    "start_time": "2023-05-11T13:09:11.774Z"
   },
   {
    "duration": 28,
    "start_time": "2023-05-11T13:09:14.363Z"
   },
   {
    "duration": 614,
    "start_time": "2023-05-11T13:09:14.392Z"
   },
   {
    "duration": 392,
    "start_time": "2023-05-11T13:09:15.009Z"
   },
   {
    "duration": 404,
    "start_time": "2023-05-11T13:09:15.403Z"
   },
   {
    "duration": 286,
    "start_time": "2023-05-11T13:09:15.809Z"
   },
   {
    "duration": 594,
    "start_time": "2023-05-11T13:09:16.097Z"
   },
   {
    "duration": 314,
    "start_time": "2023-05-11T13:09:16.693Z"
   },
   {
    "duration": 287,
    "start_time": "2023-05-11T13:09:17.009Z"
   },
   {
    "duration": 6,
    "start_time": "2023-05-11T13:09:17.298Z"
   },
   {
    "duration": 77,
    "start_time": "2023-05-11T13:09:23.549Z"
   },
   {
    "duration": 75,
    "start_time": "2023-05-11T13:09:49.742Z"
   },
   {
    "duration": 202,
    "start_time": "2023-05-11T13:10:08.663Z"
   },
   {
    "duration": 91,
    "start_time": "2023-05-11T13:10:12.167Z"
   },
   {
    "duration": 85,
    "start_time": "2023-05-11T13:11:04.596Z"
   },
   {
    "duration": 12,
    "start_time": "2023-05-11T13:11:26.989Z"
   },
   {
    "duration": 11,
    "start_time": "2023-05-11T13:11:42.253Z"
   },
   {
    "duration": 14,
    "start_time": "2023-05-11T13:11:44.790Z"
   },
   {
    "duration": 164,
    "start_time": "2023-05-11T13:13:55.830Z"
   },
   {
    "duration": 181,
    "start_time": "2023-05-11T13:15:12.335Z"
   },
   {
    "duration": 165,
    "start_time": "2023-05-11T13:15:39.486Z"
   },
   {
    "duration": 150,
    "start_time": "2023-05-11T13:16:02.786Z"
   },
   {
    "duration": 167,
    "start_time": "2023-05-11T13:18:10.757Z"
   },
   {
    "duration": 214,
    "start_time": "2023-05-11T13:18:15.876Z"
   },
   {
    "duration": 291,
    "start_time": "2023-05-11T13:19:27.239Z"
   },
   {
    "duration": 171,
    "start_time": "2023-05-11T13:19:32.636Z"
   },
   {
    "duration": 169,
    "start_time": "2023-05-11T13:19:55.967Z"
   },
   {
    "duration": 171,
    "start_time": "2023-05-11T13:20:07.500Z"
   },
   {
    "duration": 169,
    "start_time": "2023-05-11T13:20:15.842Z"
   },
   {
    "duration": 166,
    "start_time": "2023-05-11T13:20:26.683Z"
   },
   {
    "duration": 164,
    "start_time": "2023-05-11T13:20:40.777Z"
   },
   {
    "duration": 149,
    "start_time": "2023-05-11T13:23:20.605Z"
   },
   {
    "duration": 174,
    "start_time": "2023-05-11T13:23:42.270Z"
   },
   {
    "duration": 179,
    "start_time": "2023-05-11T13:23:59.264Z"
   },
   {
    "duration": 172,
    "start_time": "2023-05-11T13:26:13.936Z"
   },
   {
    "duration": 161,
    "start_time": "2023-05-11T13:26:43.465Z"
   },
   {
    "duration": 200,
    "start_time": "2023-05-11T13:27:28.777Z"
   },
   {
    "duration": 167,
    "start_time": "2023-05-11T13:27:32.394Z"
   },
   {
    "duration": 300,
    "start_time": "2023-05-11T13:27:37.605Z"
   },
   {
    "duration": 159,
    "start_time": "2023-05-11T13:27:54.151Z"
   },
   {
    "duration": 660,
    "start_time": "2023-05-11T13:33:40.840Z"
   },
   {
    "duration": 7715,
    "start_time": "2023-05-11T13:34:05.844Z"
   },
   {
    "duration": 659,
    "start_time": "2023-05-11T13:34:13.748Z"
   },
   {
    "duration": 866,
    "start_time": "2023-05-11T13:34:59.236Z"
   },
   {
    "duration": 879,
    "start_time": "2023-05-11T13:36:19.460Z"
   },
   {
    "duration": 850,
    "start_time": "2023-05-11T13:36:38.169Z"
   },
   {
    "duration": 870,
    "start_time": "2023-05-11T13:36:44.568Z"
   },
   {
    "duration": 884,
    "start_time": "2023-05-11T13:36:53.748Z"
   },
   {
    "duration": 460,
    "start_time": "2023-05-11T13:39:44.800Z"
   },
   {
    "duration": 450,
    "start_time": "2023-05-11T13:39:58.934Z"
   },
   {
    "duration": 404,
    "start_time": "2023-05-11T13:40:49.381Z"
   },
   {
    "duration": 518,
    "start_time": "2023-05-11T13:41:07.344Z"
   },
   {
    "duration": 676,
    "start_time": "2023-05-11T13:41:15.590Z"
   },
   {
    "duration": 696,
    "start_time": "2023-05-11T13:41:48.522Z"
   },
   {
    "duration": 945,
    "start_time": "2023-05-11T13:41:51.790Z"
   },
   {
    "duration": 1065,
    "start_time": "2023-05-11T13:45:25.142Z"
   },
   {
    "duration": 883,
    "start_time": "2023-05-11T14:04:02.405Z"
   },
   {
    "duration": 416,
    "start_time": "2023-05-11T14:11:21.437Z"
   },
   {
    "duration": 809,
    "start_time": "2023-05-11T14:13:35.188Z"
   },
   {
    "duration": 825,
    "start_time": "2023-05-11T14:14:50.243Z"
   },
   {
    "duration": 1039,
    "start_time": "2023-05-11T14:15:01.146Z"
   },
   {
    "duration": 808,
    "start_time": "2023-05-11T14:15:07.147Z"
   },
   {
    "duration": 946,
    "start_time": "2023-05-11T14:15:38.143Z"
   },
   {
    "duration": 632,
    "start_time": "2023-05-11T14:16:26.407Z"
   },
   {
    "duration": 632,
    "start_time": "2023-05-11T14:16:32.882Z"
   },
   {
    "duration": 621,
    "start_time": "2023-05-11T14:18:42.189Z"
   },
   {
    "duration": 633,
    "start_time": "2023-05-11T14:18:59.487Z"
   },
   {
    "duration": 568,
    "start_time": "2023-05-11T14:19:03.286Z"
   },
   {
    "duration": 567,
    "start_time": "2023-05-11T14:20:21.594Z"
   },
   {
    "duration": 161,
    "start_time": "2023-05-11T14:21:50.942Z"
   },
   {
    "duration": 592,
    "start_time": "2023-05-11T14:22:34.370Z"
   },
   {
    "duration": 786,
    "start_time": "2023-05-11T14:22:45.950Z"
   },
   {
    "duration": 449,
    "start_time": "2023-05-11T14:23:33.588Z"
   },
   {
    "duration": 260,
    "start_time": "2023-05-11T14:24:04.755Z"
   },
   {
    "duration": 318,
    "start_time": "2023-05-11T14:24:12.847Z"
   },
   {
    "duration": 566,
    "start_time": "2023-05-11T14:24:21.710Z"
   },
   {
    "duration": 88,
    "start_time": "2023-05-11T14:37:27.800Z"
   },
   {
    "duration": 243,
    "start_time": "2023-05-11T14:41:31.948Z"
   },
   {
    "duration": 269,
    "start_time": "2023-05-11T14:41:40.086Z"
   },
   {
    "duration": 391,
    "start_time": "2023-05-11T14:43:22.843Z"
   },
   {
    "duration": 377,
    "start_time": "2023-05-11T14:44:02.536Z"
   },
   {
    "duration": 667,
    "start_time": "2023-05-11T14:44:52.642Z"
   },
   {
    "duration": 1885,
    "start_time": "2023-05-11T14:46:32.700Z"
   },
   {
    "duration": 1325,
    "start_time": "2023-05-11T14:46:34.587Z"
   },
   {
    "duration": 15,
    "start_time": "2023-05-11T14:46:35.914Z"
   },
   {
    "duration": 79,
    "start_time": "2023-05-11T14:46:35.931Z"
   },
   {
    "duration": 26,
    "start_time": "2023-05-11T14:46:36.013Z"
   },
   {
    "duration": 152,
    "start_time": "2023-05-11T14:46:36.042Z"
   },
   {
    "duration": 36,
    "start_time": "2023-05-11T14:46:36.197Z"
   },
   {
    "duration": 55,
    "start_time": "2023-05-11T14:46:36.236Z"
   },
   {
    "duration": 1068,
    "start_time": "2023-05-11T14:46:36.296Z"
   },
   {
    "duration": 21,
    "start_time": "2023-05-11T14:46:37.371Z"
   },
   {
    "duration": 9,
    "start_time": "2023-05-11T14:46:37.393Z"
   },
   {
    "duration": 32,
    "start_time": "2023-05-11T14:46:37.404Z"
   },
   {
    "duration": 193,
    "start_time": "2023-05-11T14:46:37.438Z"
   },
   {
    "duration": 210,
    "start_time": "2023-05-11T14:46:37.633Z"
   },
   {
    "duration": 28,
    "start_time": "2023-05-11T14:46:37.847Z"
   },
   {
    "duration": 220,
    "start_time": "2023-05-11T14:46:37.881Z"
   },
   {
    "duration": 5,
    "start_time": "2023-05-11T14:46:38.103Z"
   },
   {
    "duration": 3117,
    "start_time": "2023-05-11T14:46:38.109Z"
   },
   {
    "duration": 17,
    "start_time": "2023-05-11T14:46:41.228Z"
   },
   {
    "duration": 588,
    "start_time": "2023-05-11T14:46:41.247Z"
   },
   {
    "duration": 558,
    "start_time": "2023-05-11T14:46:41.837Z"
   },
   {
    "duration": 269,
    "start_time": "2023-05-11T14:46:42.397Z"
   },
   {
    "duration": 249,
    "start_time": "2023-05-11T14:46:42.683Z"
   },
   {
    "duration": 553,
    "start_time": "2023-05-11T14:46:42.935Z"
   },
   {
    "duration": 273,
    "start_time": "2023-05-11T14:46:43.490Z"
   },
   {
    "duration": 288,
    "start_time": "2023-05-11T14:46:43.765Z"
   },
   {
    "duration": 5,
    "start_time": "2023-05-11T14:46:44.055Z"
   },
   {
    "duration": 108,
    "start_time": "2023-05-11T14:46:44.072Z"
   },
   {
    "duration": 10,
    "start_time": "2023-05-11T14:46:44.188Z"
   },
   {
    "duration": 27,
    "start_time": "2023-05-11T14:46:44.200Z"
   },
   {
    "duration": 181,
    "start_time": "2023-05-11T14:46:44.229Z"
   },
   {
    "duration": 867,
    "start_time": "2023-05-11T14:46:44.413Z"
   },
   {
    "duration": 604,
    "start_time": "2023-05-11T14:46:45.287Z"
   },
   {
    "duration": 881,
    "start_time": "2023-05-11T14:47:27.070Z"
   },
   {
    "duration": 338,
    "start_time": "2023-05-11T14:47:36.791Z"
   },
   {
    "duration": 82,
    "start_time": "2023-05-11T14:48:03.184Z"
   },
   {
    "duration": 175,
    "start_time": "2023-05-11T14:49:02.982Z"
   },
   {
    "duration": 80,
    "start_time": "2023-05-11T14:50:02.124Z"
   },
   {
    "duration": 209,
    "start_time": "2023-05-11T14:50:10.546Z"
   },
   {
    "duration": 3,
    "start_time": "2023-05-11T14:53:48.091Z"
   },
   {
    "duration": 4,
    "start_time": "2023-05-11T14:53:58.816Z"
   },
   {
    "duration": 33,
    "start_time": "2023-05-11T14:54:06.586Z"
   },
   {
    "duration": 7,
    "start_time": "2023-05-11T14:54:23.491Z"
   },
   {
    "duration": 151,
    "start_time": "2023-05-11T14:54:34.581Z"
   },
   {
    "duration": 70,
    "start_time": "2023-05-11T14:54:39.994Z"
   },
   {
    "duration": 163,
    "start_time": "2023-05-11T14:55:16.270Z"
   },
   {
    "duration": 25,
    "start_time": "2023-05-11T14:55:36.677Z"
   },
   {
    "duration": 56,
    "start_time": "2023-05-11T14:55:45.796Z"
   },
   {
    "duration": 0,
    "start_time": "2023-05-11T14:55:45.854Z"
   },
   {
    "duration": 41,
    "start_time": "2023-05-11T14:56:39.694Z"
   },
   {
    "duration": 24,
    "start_time": "2023-05-11T14:56:45.893Z"
   },
   {
    "duration": 224,
    "start_time": "2023-05-11T14:57:01.886Z"
   },
   {
    "duration": 296,
    "start_time": "2023-05-11T14:57:30.431Z"
   },
   {
    "duration": 275,
    "start_time": "2023-05-11T14:59:03.328Z"
   },
   {
    "duration": 280,
    "start_time": "2023-05-11T15:01:34.370Z"
   },
   {
    "duration": 98,
    "start_time": "2023-05-11T15:02:31.326Z"
   },
   {
    "duration": 85,
    "start_time": "2023-05-11T15:03:44.185Z"
   },
   {
    "duration": 89,
    "start_time": "2023-05-11T15:04:15.743Z"
   },
   {
    "duration": 103,
    "start_time": "2023-05-11T15:04:47.840Z"
   },
   {
    "duration": 92,
    "start_time": "2023-05-11T15:05:46.647Z"
   },
   {
    "duration": 107,
    "start_time": "2023-05-11T15:06:00.580Z"
   },
   {
    "duration": 97,
    "start_time": "2023-05-11T15:06:13.646Z"
   },
   {
    "duration": 105,
    "start_time": "2023-05-11T15:06:23.843Z"
   },
   {
    "duration": 95,
    "start_time": "2023-05-11T15:06:58.152Z"
   },
   {
    "duration": 90,
    "start_time": "2023-05-11T15:07:26.989Z"
   },
   {
    "duration": 89,
    "start_time": "2023-05-11T15:08:14.290Z"
   },
   {
    "duration": 957,
    "start_time": "2023-05-11T15:10:06.171Z"
   },
   {
    "duration": 1109,
    "start_time": "2023-05-11T15:10:17.536Z"
   },
   {
    "duration": 890,
    "start_time": "2023-05-11T15:10:34.014Z"
   },
   {
    "duration": 942,
    "start_time": "2023-05-11T15:15:16.931Z"
   },
   {
    "duration": 1221,
    "start_time": "2023-05-11T15:15:25.675Z"
   },
   {
    "duration": 658,
    "start_time": "2023-05-11T15:15:58.605Z"
   },
   {
    "duration": 941,
    "start_time": "2023-05-11T15:16:14.690Z"
   },
   {
    "duration": 678,
    "start_time": "2023-05-11T15:16:17.818Z"
   },
   {
    "duration": 711,
    "start_time": "2023-05-11T15:26:55.929Z"
   },
   {
    "duration": 12,
    "start_time": "2023-05-11T15:27:50.986Z"
   },
   {
    "duration": 13,
    "start_time": "2023-05-11T15:28:22.150Z"
   },
   {
    "duration": 17,
    "start_time": "2023-05-11T15:28:29.016Z"
   },
   {
    "duration": 645,
    "start_time": "2023-05-11T15:28:34.453Z"
   },
   {
    "duration": 690,
    "start_time": "2023-05-11T15:28:55.788Z"
   },
   {
    "duration": 335,
    "start_time": "2023-05-11T15:31:40.293Z"
   },
   {
    "duration": 250,
    "start_time": "2023-05-11T15:32:05.171Z"
   },
   {
    "duration": 238,
    "start_time": "2023-05-11T15:34:00.688Z"
   },
   {
    "duration": 227,
    "start_time": "2023-05-11T15:34:20.611Z"
   },
   {
    "duration": 713,
    "start_time": "2023-05-11T15:34:45.851Z"
   },
   {
    "duration": 655,
    "start_time": "2023-05-11T15:35:11.051Z"
   },
   {
    "duration": 683,
    "start_time": "2023-05-11T15:41:19.567Z"
   },
   {
    "duration": 8,
    "start_time": "2023-05-11T15:42:49.824Z"
   },
   {
    "duration": 1564,
    "start_time": "2023-05-11T15:42:49.835Z"
   },
   {
    "duration": 14,
    "start_time": "2023-05-11T15:42:51.401Z"
   },
   {
    "duration": 39,
    "start_time": "2023-05-11T15:42:51.418Z"
   },
   {
    "duration": 30,
    "start_time": "2023-05-11T15:42:51.460Z"
   },
   {
    "duration": 159,
    "start_time": "2023-05-11T15:42:51.494Z"
   },
   {
    "duration": 53,
    "start_time": "2023-05-11T15:42:51.656Z"
   },
   {
    "duration": 36,
    "start_time": "2023-05-11T15:42:51.713Z"
   },
   {
    "duration": 1176,
    "start_time": "2023-05-11T15:42:51.752Z"
   },
   {
    "duration": 18,
    "start_time": "2023-05-11T15:42:52.931Z"
   },
   {
    "duration": 24,
    "start_time": "2023-05-11T15:42:52.951Z"
   },
   {
    "duration": 41,
    "start_time": "2023-05-11T15:42:52.980Z"
   },
   {
    "duration": 223,
    "start_time": "2023-05-11T15:42:53.024Z"
   },
   {
    "duration": 207,
    "start_time": "2023-05-11T15:42:53.250Z"
   },
   {
    "duration": 34,
    "start_time": "2023-05-11T15:42:53.459Z"
   },
   {
    "duration": 214,
    "start_time": "2023-05-11T15:42:53.496Z"
   },
   {
    "duration": 5,
    "start_time": "2023-05-11T15:42:53.713Z"
   },
   {
    "duration": 3175,
    "start_time": "2023-05-11T15:42:53.721Z"
   },
   {
    "duration": 25,
    "start_time": "2023-05-11T15:42:56.898Z"
   },
   {
    "duration": 642,
    "start_time": "2023-05-11T15:42:56.926Z"
   },
   {
    "duration": 472,
    "start_time": "2023-05-11T15:42:57.577Z"
   },
   {
    "duration": 312,
    "start_time": "2023-05-11T15:42:58.051Z"
   },
   {
    "duration": 286,
    "start_time": "2023-05-11T15:42:58.372Z"
   },
   {
    "duration": 657,
    "start_time": "2023-05-11T15:42:58.661Z"
   },
   {
    "duration": 337,
    "start_time": "2023-05-11T15:42:59.323Z"
   },
   {
    "duration": 396,
    "start_time": "2023-05-11T15:42:59.662Z"
   },
   {
    "duration": 16,
    "start_time": "2023-05-11T15:43:00.061Z"
   },
   {
    "duration": 157,
    "start_time": "2023-05-11T15:43:00.082Z"
   },
   {
    "duration": 16,
    "start_time": "2023-05-11T15:43:00.241Z"
   },
   {
    "duration": 109,
    "start_time": "2023-05-11T15:43:00.260Z"
   },
   {
    "duration": 255,
    "start_time": "2023-05-11T15:43:00.371Z"
   },
   {
    "duration": 1125,
    "start_time": "2023-05-11T15:43:00.628Z"
   },
   {
    "duration": 942,
    "start_time": "2023-05-11T15:43:01.755Z"
   },
   {
    "duration": 215,
    "start_time": "2023-05-11T15:43:02.704Z"
   },
   {
    "duration": 131,
    "start_time": "2023-05-11T15:43:02.923Z"
   },
   {
    "duration": 150,
    "start_time": "2023-05-11T15:43:03.057Z"
   },
   {
    "duration": 1025,
    "start_time": "2023-05-11T15:43:03.210Z"
   },
   {
    "duration": 683,
    "start_time": "2023-05-11T15:43:04.237Z"
   },
   {
    "duration": 768,
    "start_time": "2023-05-11T15:43:04.922Z"
   },
   {
    "duration": 236,
    "start_time": "2023-05-11T15:43:05.696Z"
   },
   {
    "duration": 986,
    "start_time": "2023-05-11T15:45:55.359Z"
   },
   {
    "duration": 1079,
    "start_time": "2023-05-11T15:46:06.206Z"
   },
   {
    "duration": 615,
    "start_time": "2023-05-11T15:59:06.892Z"
   },
   {
    "duration": 665,
    "start_time": "2023-05-11T15:59:20.124Z"
   },
   {
    "duration": 708,
    "start_time": "2023-05-11T15:59:25.896Z"
   },
   {
    "duration": 690,
    "start_time": "2023-05-11T15:59:31.392Z"
   },
   {
    "duration": 656,
    "start_time": "2023-05-11T15:59:50.701Z"
   },
   {
    "duration": 188,
    "start_time": "2023-05-11T16:01:39.741Z"
   },
   {
    "duration": 141,
    "start_time": "2023-05-11T16:01:57.606Z"
   },
   {
    "duration": 798,
    "start_time": "2023-05-11T16:02:18.781Z"
   },
   {
    "duration": 650,
    "start_time": "2023-05-11T16:02:27.091Z"
   },
   {
    "duration": 607,
    "start_time": "2023-05-11T16:06:59.368Z"
   },
   {
    "duration": 675,
    "start_time": "2023-05-11T16:07:12.140Z"
   },
   {
    "duration": 636,
    "start_time": "2023-05-11T16:09:40.888Z"
   },
   {
    "duration": 684,
    "start_time": "2023-05-11T16:09:58.325Z"
   },
   {
    "duration": 657,
    "start_time": "2023-05-11T16:10:31.125Z"
   },
   {
    "duration": 97,
    "start_time": "2023-05-11T16:12:53.686Z"
   },
   {
    "duration": 687,
    "start_time": "2023-05-11T16:13:07.806Z"
   },
   {
    "duration": 806,
    "start_time": "2023-05-11T16:13:45.271Z"
   },
   {
    "duration": 695,
    "start_time": "2023-05-11T16:14:45.490Z"
   },
   {
    "duration": 731,
    "start_time": "2023-05-11T16:15:37.892Z"
   },
   {
    "duration": 730,
    "start_time": "2023-05-11T16:15:55.248Z"
   },
   {
    "duration": 721,
    "start_time": "2023-05-11T16:16:21.720Z"
   },
   {
    "duration": 740,
    "start_time": "2023-05-11T16:26:36.647Z"
   },
   {
    "duration": 7,
    "start_time": "2023-05-11T17:06:26.919Z"
   },
   {
    "duration": 2033,
    "start_time": "2023-05-11T17:06:26.928Z"
   },
   {
    "duration": 20,
    "start_time": "2023-05-11T17:06:28.964Z"
   },
   {
    "duration": 37,
    "start_time": "2023-05-11T17:06:28.990Z"
   },
   {
    "duration": 18,
    "start_time": "2023-05-11T17:06:29.029Z"
   },
   {
    "duration": 166,
    "start_time": "2023-05-11T17:06:29.050Z"
   },
   {
    "duration": 34,
    "start_time": "2023-05-11T17:06:29.218Z"
   },
   {
    "duration": 37,
    "start_time": "2023-05-11T17:06:29.271Z"
   },
   {
    "duration": 1176,
    "start_time": "2023-05-11T17:06:29.310Z"
   },
   {
    "duration": 20,
    "start_time": "2023-05-11T17:06:30.491Z"
   },
   {
    "duration": 39,
    "start_time": "2023-05-11T17:06:30.513Z"
   },
   {
    "duration": 49,
    "start_time": "2023-05-11T17:06:30.554Z"
   },
   {
    "duration": 224,
    "start_time": "2023-05-11T17:06:30.605Z"
   },
   {
    "duration": 278,
    "start_time": "2023-05-11T17:06:30.831Z"
   },
   {
    "duration": 19,
    "start_time": "2023-05-11T17:06:31.111Z"
   },
   {
    "duration": 253,
    "start_time": "2023-05-11T17:06:31.133Z"
   },
   {
    "duration": 6,
    "start_time": "2023-05-11T17:06:31.388Z"
   },
   {
    "duration": 3927,
    "start_time": "2023-05-11T17:06:31.396Z"
   },
   {
    "duration": 17,
    "start_time": "2023-05-11T17:06:35.325Z"
   },
   {
    "duration": 714,
    "start_time": "2023-05-11T17:06:35.344Z"
   },
   {
    "duration": 458,
    "start_time": "2023-05-11T17:06:36.073Z"
   },
   {
    "duration": 323,
    "start_time": "2023-05-11T17:06:36.534Z"
   },
   {
    "duration": 358,
    "start_time": "2023-05-11T17:06:36.859Z"
   },
   {
    "duration": 673,
    "start_time": "2023-05-11T17:06:37.220Z"
   },
   {
    "duration": 370,
    "start_time": "2023-05-11T17:06:37.896Z"
   },
   {
    "duration": 360,
    "start_time": "2023-05-11T17:06:38.269Z"
   },
   {
    "duration": 7,
    "start_time": "2023-05-11T17:06:38.632Z"
   },
   {
    "duration": 142,
    "start_time": "2023-05-11T17:06:38.645Z"
   },
   {
    "duration": 10,
    "start_time": "2023-05-11T17:06:38.789Z"
   },
   {
    "duration": 17,
    "start_time": "2023-05-11T17:06:38.802Z"
   },
   {
    "duration": 181,
    "start_time": "2023-05-11T17:06:38.822Z"
   },
   {
    "duration": 986,
    "start_time": "2023-05-11T17:06:39.005Z"
   },
   {
    "duration": 867,
    "start_time": "2023-05-11T17:06:39.993Z"
   },
   {
    "duration": 231,
    "start_time": "2023-05-11T17:06:40.863Z"
   },
   {
    "duration": 113,
    "start_time": "2023-05-11T17:06:41.096Z"
   },
   {
    "duration": 133,
    "start_time": "2023-05-11T17:06:41.211Z"
   },
   {
    "duration": 1000,
    "start_time": "2023-05-11T17:06:41.346Z"
   },
   {
    "duration": 673,
    "start_time": "2023-05-11T17:06:42.349Z"
   },
   {
    "duration": 721,
    "start_time": "2023-05-11T17:06:43.024Z"
   },
   {
    "duration": 713,
    "start_time": "2023-05-11T17:06:43.747Z"
   },
   {
    "duration": 2314,
    "start_time": "2023-05-12T15:03:25.999Z"
   },
   {
    "duration": 1440,
    "start_time": "2023-05-12T15:03:28.316Z"
   },
   {
    "duration": 19,
    "start_time": "2023-05-12T15:03:29.758Z"
   },
   {
    "duration": 53,
    "start_time": "2023-05-12T15:03:29.783Z"
   },
   {
    "duration": 22,
    "start_time": "2023-05-12T15:03:29.839Z"
   },
   {
    "duration": 150,
    "start_time": "2023-05-12T15:03:29.863Z"
   },
   {
    "duration": 32,
    "start_time": "2023-05-12T15:03:30.016Z"
   },
   {
    "duration": 61,
    "start_time": "2023-05-12T15:03:30.051Z"
   },
   {
    "duration": 1226,
    "start_time": "2023-05-12T15:03:30.115Z"
   },
   {
    "duration": 48,
    "start_time": "2023-05-12T15:03:31.344Z"
   },
   {
    "duration": 27,
    "start_time": "2023-05-12T15:03:31.396Z"
   },
   {
    "duration": 76,
    "start_time": "2023-05-12T15:03:31.426Z"
   },
   {
    "duration": 248,
    "start_time": "2023-05-12T15:03:31.504Z"
   },
   {
    "duration": 227,
    "start_time": "2023-05-12T15:03:31.756Z"
   },
   {
    "duration": 41,
    "start_time": "2023-05-12T15:03:31.986Z"
   },
   {
    "duration": 242,
    "start_time": "2023-05-12T15:03:32.029Z"
   },
   {
    "duration": 11,
    "start_time": "2023-05-12T15:03:32.273Z"
   },
   {
    "duration": 3825,
    "start_time": "2023-05-12T15:03:32.286Z"
   },
   {
    "duration": 19,
    "start_time": "2023-05-12T15:03:36.114Z"
   },
   {
    "duration": 908,
    "start_time": "2023-05-12T15:03:36.136Z"
   },
   {
    "duration": 406,
    "start_time": "2023-05-12T15:03:37.046Z"
   },
   {
    "duration": 288,
    "start_time": "2023-05-12T15:03:37.453Z"
   },
   {
    "duration": 311,
    "start_time": "2023-05-12T15:03:37.743Z"
   },
   {
    "duration": 589,
    "start_time": "2023-05-12T15:03:38.057Z"
   },
   {
    "duration": 338,
    "start_time": "2023-05-12T15:03:38.648Z"
   },
   {
    "duration": 316,
    "start_time": "2023-05-12T15:03:38.991Z"
   },
   {
    "duration": 12,
    "start_time": "2023-05-12T15:03:39.317Z"
   },
   {
    "duration": 120,
    "start_time": "2023-05-12T15:03:39.333Z"
   },
   {
    "duration": 8,
    "start_time": "2023-05-12T15:03:39.455Z"
   },
   {
    "duration": 45,
    "start_time": "2023-05-12T15:03:39.476Z"
   },
   {
    "duration": 185,
    "start_time": "2023-05-12T15:03:39.523Z"
   },
   {
    "duration": 910,
    "start_time": "2023-05-12T15:03:39.711Z"
   },
   {
    "duration": 626,
    "start_time": "2023-05-12T15:03:40.624Z"
   },
   {
    "duration": 203,
    "start_time": "2023-05-12T15:03:41.252Z"
   },
   {
    "duration": 100,
    "start_time": "2023-05-12T15:03:41.457Z"
   },
   {
    "duration": 121,
    "start_time": "2023-05-12T15:03:41.559Z"
   },
   {
    "duration": 1112,
    "start_time": "2023-05-12T15:03:41.690Z"
   },
   {
    "duration": 748,
    "start_time": "2023-05-12T15:03:42.805Z"
   },
   {
    "duration": 722,
    "start_time": "2023-05-12T15:03:43.556Z"
   },
   {
    "duration": 680,
    "start_time": "2023-05-12T15:03:44.280Z"
   },
   {
    "duration": 20,
    "start_time": "2023-05-12T15:04:02.200Z"
   },
   {
    "duration": 11,
    "start_time": "2023-05-12T15:04:07.392Z"
   },
   {
    "duration": 1327,
    "start_time": "2023-05-12T15:04:07.406Z"
   },
   {
    "duration": 13,
    "start_time": "2023-05-12T15:04:08.735Z"
   },
   {
    "duration": 33,
    "start_time": "2023-05-12T15:04:08.750Z"
   },
   {
    "duration": 53,
    "start_time": "2023-05-12T15:04:08.786Z"
   },
   {
    "duration": 132,
    "start_time": "2023-05-12T15:04:08.841Z"
   },
   {
    "duration": 36,
    "start_time": "2023-05-12T15:04:08.984Z"
   },
   {
    "duration": 25,
    "start_time": "2023-05-12T15:04:09.314Z"
   },
   {
    "duration": 26,
    "start_time": "2023-05-12T15:04:20.629Z"
   },
   {
    "duration": 1531,
    "start_time": "2023-05-13T07:09:33.634Z"
   },
   {
    "duration": 1821,
    "start_time": "2023-05-13T07:09:35.168Z"
   },
   {
    "duration": 13,
    "start_time": "2023-05-13T07:09:36.991Z"
   },
   {
    "duration": 21,
    "start_time": "2023-05-13T07:09:37.005Z"
   },
   {
    "duration": 18,
    "start_time": "2023-05-13T07:09:37.029Z"
   },
   {
    "duration": 110,
    "start_time": "2023-05-13T07:09:37.048Z"
   },
   {
    "duration": 39,
    "start_time": "2023-05-13T07:09:37.159Z"
   },
   {
    "duration": 22,
    "start_time": "2023-05-13T07:09:37.200Z"
   },
   {
    "duration": 956,
    "start_time": "2023-05-13T07:09:37.224Z"
   },
   {
    "duration": 15,
    "start_time": "2023-05-13T07:09:38.182Z"
   },
   {
    "duration": 5,
    "start_time": "2023-05-13T07:09:38.198Z"
   },
   {
    "duration": 5,
    "start_time": "2023-05-13T07:09:38.205Z"
   },
   {
    "duration": 168,
    "start_time": "2023-05-13T07:09:38.211Z"
   },
   {
    "duration": 151,
    "start_time": "2023-05-13T07:09:38.383Z"
   },
   {
    "duration": 16,
    "start_time": "2023-05-13T07:09:38.536Z"
   },
   {
    "duration": 173,
    "start_time": "2023-05-13T07:09:38.553Z"
   },
   {
    "duration": 5,
    "start_time": "2023-05-13T07:09:38.727Z"
   },
   {
    "duration": 3917,
    "start_time": "2023-05-13T07:09:38.734Z"
   },
   {
    "duration": 29,
    "start_time": "2023-05-13T07:09:42.653Z"
   },
   {
    "duration": 485,
    "start_time": "2023-05-13T07:09:42.684Z"
   },
   {
    "duration": 441,
    "start_time": "2023-05-13T07:09:43.172Z"
   },
   {
    "duration": 237,
    "start_time": "2023-05-13T07:09:43.615Z"
   },
   {
    "duration": 217,
    "start_time": "2023-05-13T07:09:43.854Z"
   },
   {
    "duration": 520,
    "start_time": "2023-05-13T07:09:44.073Z"
   },
   {
    "duration": 284,
    "start_time": "2023-05-13T07:09:44.595Z"
   },
   {
    "duration": 243,
    "start_time": "2023-05-13T07:09:44.881Z"
   },
   {
    "duration": 5,
    "start_time": "2023-05-13T07:09:45.126Z"
   },
   {
    "duration": 86,
    "start_time": "2023-05-13T07:09:45.133Z"
   },
   {
    "duration": 7,
    "start_time": "2023-05-13T07:09:45.221Z"
   },
   {
    "duration": 10,
    "start_time": "2023-05-13T07:09:45.230Z"
   },
   {
    "duration": 153,
    "start_time": "2023-05-13T07:09:45.241Z"
   },
   {
    "duration": 874,
    "start_time": "2023-05-13T07:09:45.396Z"
   },
   {
    "duration": 581,
    "start_time": "2023-05-13T07:09:46.272Z"
   },
   {
    "duration": 176,
    "start_time": "2023-05-13T07:09:46.855Z"
   },
   {
    "duration": 107,
    "start_time": "2023-05-13T07:12:50.253Z"
   },
   {
    "duration": 112,
    "start_time": "2023-05-13T07:15:15.457Z"
   },
   {
    "duration": 15,
    "start_time": "2023-05-13T07:15:38.276Z"
   },
   {
    "duration": 80,
    "start_time": "2023-05-13T07:21:00.752Z"
   },
   {
    "duration": 76,
    "start_time": "2023-05-13T07:21:22.415Z"
   },
   {
    "duration": 45,
    "start_time": "2023-05-13T07:22:36.940Z"
   },
   {
    "duration": 49,
    "start_time": "2023-05-13T07:23:58.976Z"
   },
   {
    "duration": 44,
    "start_time": "2023-05-13T07:25:20.645Z"
   },
   {
    "duration": 17,
    "start_time": "2023-05-13T07:57:56.000Z"
   },
   {
    "duration": 2056,
    "start_time": "2023-05-13T07:57:56.019Z"
   },
   {
    "duration": 21,
    "start_time": "2023-05-13T07:57:58.077Z"
   },
   {
    "duration": 30,
    "start_time": "2023-05-13T07:57:58.100Z"
   },
   {
    "duration": 16,
    "start_time": "2023-05-13T07:57:58.132Z"
   },
   {
    "duration": 177,
    "start_time": "2023-05-13T07:57:58.150Z"
   },
   {
    "duration": 31,
    "start_time": "2023-05-13T07:57:58.330Z"
   },
   {
    "duration": 60,
    "start_time": "2023-05-13T07:57:58.363Z"
   },
   {
    "duration": 972,
    "start_time": "2023-05-13T07:57:58.427Z"
   },
   {
    "duration": 22,
    "start_time": "2023-05-13T07:57:59.410Z"
   },
   {
    "duration": 4,
    "start_time": "2023-05-13T07:57:59.434Z"
   },
   {
    "duration": 7,
    "start_time": "2023-05-13T07:57:59.440Z"
   },
   {
    "duration": 215,
    "start_time": "2023-05-13T07:57:59.449Z"
   },
   {
    "duration": 200,
    "start_time": "2023-05-13T07:57:59.667Z"
   },
   {
    "duration": 35,
    "start_time": "2023-05-13T07:57:59.868Z"
   },
   {
    "duration": 412,
    "start_time": "2023-05-13T07:57:59.905Z"
   },
   {
    "duration": 4,
    "start_time": "2023-05-13T07:58:00.320Z"
   },
   {
    "duration": 3118,
    "start_time": "2023-05-13T07:58:00.326Z"
   },
   {
    "duration": 14,
    "start_time": "2023-05-13T07:58:03.445Z"
   },
   {
    "duration": 659,
    "start_time": "2023-05-13T07:58:03.461Z"
   },
   {
    "duration": 417,
    "start_time": "2023-05-13T07:58:04.122Z"
   },
   {
    "duration": 309,
    "start_time": "2023-05-13T07:58:04.541Z"
   },
   {
    "duration": 291,
    "start_time": "2023-05-13T07:58:04.852Z"
   },
   {
    "duration": 665,
    "start_time": "2023-05-13T07:58:05.145Z"
   },
   {
    "duration": 372,
    "start_time": "2023-05-13T07:58:05.825Z"
   },
   {
    "duration": 274,
    "start_time": "2023-05-13T07:58:06.200Z"
   },
   {
    "duration": 5,
    "start_time": "2023-05-13T07:58:06.480Z"
   },
   {
    "duration": 258,
    "start_time": "2023-05-13T07:58:06.487Z"
   },
   {
    "duration": 6,
    "start_time": "2023-05-13T07:58:06.746Z"
   },
   {
    "duration": 11,
    "start_time": "2023-05-13T07:58:06.754Z"
   },
   {
    "duration": 180,
    "start_time": "2023-05-13T07:58:06.767Z"
   },
   {
    "duration": 1088,
    "start_time": "2023-05-13T07:58:06.949Z"
   },
   {
    "duration": 696,
    "start_time": "2023-05-13T07:58:08.038Z"
   },
   {
    "duration": 243,
    "start_time": "2023-05-13T07:58:08.736Z"
   },
   {
    "duration": 62,
    "start_time": "2023-05-13T07:58:08.984Z"
   },
   {
    "duration": 66,
    "start_time": "2023-05-13T07:58:09.048Z"
   },
   {
    "duration": 943,
    "start_time": "2023-05-13T07:58:09.117Z"
   },
   {
    "duration": 711,
    "start_time": "2023-05-13T07:58:10.062Z"
   },
   {
    "duration": 744,
    "start_time": "2023-05-13T07:58:10.781Z"
   },
   {
    "duration": 826,
    "start_time": "2023-05-13T07:58:11.527Z"
   },
   {
    "duration": 6,
    "start_time": "2023-05-13T08:44:50.924Z"
   },
   {
    "duration": 1284,
    "start_time": "2023-05-13T08:44:50.932Z"
   },
   {
    "duration": 11,
    "start_time": "2023-05-13T08:44:52.218Z"
   },
   {
    "duration": 17,
    "start_time": "2023-05-13T08:44:52.232Z"
   },
   {
    "duration": 13,
    "start_time": "2023-05-13T08:44:52.251Z"
   },
   {
    "duration": 95,
    "start_time": "2023-05-13T08:44:52.265Z"
   },
   {
    "duration": 38,
    "start_time": "2023-05-13T08:44:52.361Z"
   },
   {
    "duration": 21,
    "start_time": "2023-05-13T08:44:52.401Z"
   },
   {
    "duration": 979,
    "start_time": "2023-05-13T08:44:52.426Z"
   },
   {
    "duration": 16,
    "start_time": "2023-05-13T08:44:53.407Z"
   },
   {
    "duration": 14,
    "start_time": "2023-05-13T08:44:53.425Z"
   },
   {
    "duration": 15,
    "start_time": "2023-05-13T08:44:53.441Z"
   },
   {
    "duration": 206,
    "start_time": "2023-05-13T08:44:53.458Z"
   },
   {
    "duration": 164,
    "start_time": "2023-05-13T08:44:53.666Z"
   },
   {
    "duration": 14,
    "start_time": "2023-05-13T08:44:53.832Z"
   },
   {
    "duration": 182,
    "start_time": "2023-05-13T08:44:53.848Z"
   },
   {
    "duration": 4,
    "start_time": "2023-05-13T08:44:54.032Z"
   },
   {
    "duration": 3541,
    "start_time": "2023-05-13T08:44:54.038Z"
   },
   {
    "duration": 16,
    "start_time": "2023-05-13T08:44:57.581Z"
   },
   {
    "duration": 686,
    "start_time": "2023-05-13T08:44:57.599Z"
   },
   {
    "duration": 347,
    "start_time": "2023-05-13T08:44:58.287Z"
   },
   {
    "duration": 243,
    "start_time": "2023-05-13T08:44:58.636Z"
   },
   {
    "duration": 240,
    "start_time": "2023-05-13T08:44:58.881Z"
   },
   {
    "duration": 516,
    "start_time": "2023-05-13T08:44:59.124Z"
   },
   {
    "duration": 317,
    "start_time": "2023-05-13T08:44:59.641Z"
   },
   {
    "duration": 269,
    "start_time": "2023-05-13T08:44:59.959Z"
   },
   {
    "duration": 6,
    "start_time": "2023-05-13T08:45:00.230Z"
   },
   {
    "duration": 112,
    "start_time": "2023-05-13T08:45:00.238Z"
   },
   {
    "duration": 7,
    "start_time": "2023-05-13T08:45:00.352Z"
   },
   {
    "duration": 27,
    "start_time": "2023-05-13T08:45:00.361Z"
   },
   {
    "duration": 165,
    "start_time": "2023-05-13T08:45:00.390Z"
   },
   {
    "duration": 887,
    "start_time": "2023-05-13T08:45:00.557Z"
   },
   {
    "duration": 602,
    "start_time": "2023-05-13T08:45:01.446Z"
   },
   {
    "duration": 185,
    "start_time": "2023-05-13T08:45:02.050Z"
   },
   {
    "duration": 58,
    "start_time": "2023-05-13T08:45:02.237Z"
   },
   {
    "duration": 45,
    "start_time": "2023-05-13T08:45:02.297Z"
   },
   {
    "duration": 965,
    "start_time": "2023-05-13T08:45:02.343Z"
   },
   {
    "duration": 635,
    "start_time": "2023-05-13T08:45:03.310Z"
   },
   {
    "duration": 620,
    "start_time": "2023-05-13T08:45:03.947Z"
   },
   {
    "duration": 703,
    "start_time": "2023-05-13T08:45:04.569Z"
   },
   {
    "duration": 6,
    "start_time": "2023-05-13T08:51:49.076Z"
   },
   {
    "duration": 1204,
    "start_time": "2023-05-13T08:51:49.084Z"
   },
   {
    "duration": 15,
    "start_time": "2023-05-13T08:51:50.290Z"
   },
   {
    "duration": 19,
    "start_time": "2023-05-13T08:51:50.307Z"
   },
   {
    "duration": 15,
    "start_time": "2023-05-13T08:51:50.329Z"
   },
   {
    "duration": 143,
    "start_time": "2023-05-13T08:51:50.379Z"
   },
   {
    "duration": 28,
    "start_time": "2023-05-13T08:51:50.524Z"
   },
   {
    "duration": 32,
    "start_time": "2023-05-13T08:51:50.578Z"
   },
   {
    "duration": 1046,
    "start_time": "2023-05-13T08:51:50.613Z"
   },
   {
    "duration": 27,
    "start_time": "2023-05-13T08:51:51.662Z"
   },
   {
    "duration": 5,
    "start_time": "2023-05-13T08:51:51.691Z"
   },
   {
    "duration": 5,
    "start_time": "2023-05-13T08:51:51.698Z"
   },
   {
    "duration": 192,
    "start_time": "2023-05-13T08:51:51.706Z"
   },
   {
    "duration": 184,
    "start_time": "2023-05-13T08:51:51.900Z"
   },
   {
    "duration": 14,
    "start_time": "2023-05-13T08:51:52.086Z"
   },
   {
    "duration": 196,
    "start_time": "2023-05-13T08:51:52.102Z"
   },
   {
    "duration": 6,
    "start_time": "2023-05-13T08:51:52.302Z"
   },
   {
    "duration": 2815,
    "start_time": "2023-05-13T08:51:52.311Z"
   },
   {
    "duration": 15,
    "start_time": "2023-05-13T08:51:55.128Z"
   },
   {
    "duration": 562,
    "start_time": "2023-05-13T08:51:55.144Z"
   },
   {
    "duration": 373,
    "start_time": "2023-05-13T08:51:55.708Z"
   },
   {
    "duration": 269,
    "start_time": "2023-05-13T08:51:56.082Z"
   },
   {
    "duration": 280,
    "start_time": "2023-05-13T08:51:56.353Z"
   },
   {
    "duration": 791,
    "start_time": "2023-05-13T08:51:56.635Z"
   },
   {
    "duration": 361,
    "start_time": "2023-05-13T08:51:57.428Z"
   },
   {
    "duration": 257,
    "start_time": "2023-05-13T08:51:57.791Z"
   },
   {
    "duration": 5,
    "start_time": "2023-05-13T08:51:58.050Z"
   },
   {
    "duration": 101,
    "start_time": "2023-05-13T08:51:58.056Z"
   },
   {
    "duration": 22,
    "start_time": "2023-05-13T08:51:58.159Z"
   },
   {
    "duration": 15,
    "start_time": "2023-05-13T08:51:58.183Z"
   },
   {
    "duration": 193,
    "start_time": "2023-05-13T08:51:58.200Z"
   },
   {
    "duration": 853,
    "start_time": "2023-05-13T08:51:58.395Z"
   },
   {
    "duration": 626,
    "start_time": "2023-05-13T08:51:59.249Z"
   },
   {
    "duration": 212,
    "start_time": "2023-05-13T08:51:59.878Z"
   },
   {
    "duration": 46,
    "start_time": "2023-05-13T08:52:00.092Z"
   },
   {
    "duration": 72,
    "start_time": "2023-05-13T08:52:00.140Z"
   },
   {
    "duration": 822,
    "start_time": "2023-05-13T08:52:00.217Z"
   },
   {
    "duration": 630,
    "start_time": "2023-05-13T08:52:01.041Z"
   },
   {
    "duration": 628,
    "start_time": "2023-05-13T08:52:01.678Z"
   },
   {
    "duration": 662,
    "start_time": "2023-05-13T08:52:02.308Z"
   },
   {
    "duration": 8,
    "start_time": "2023-05-13T09:35:16.721Z"
   },
   {
    "duration": 1392,
    "start_time": "2023-05-13T09:35:16.733Z"
   },
   {
    "duration": 16,
    "start_time": "2023-05-13T09:35:18.128Z"
   },
   {
    "duration": 29,
    "start_time": "2023-05-13T09:35:18.146Z"
   },
   {
    "duration": 19,
    "start_time": "2023-05-13T09:35:18.178Z"
   },
   {
    "duration": 320,
    "start_time": "2023-05-13T09:35:18.199Z"
   },
   {
    "duration": 60,
    "start_time": "2023-05-13T09:35:18.521Z"
   },
   {
    "duration": 27,
    "start_time": "2023-05-13T09:35:18.583Z"
   },
   {
    "duration": 930,
    "start_time": "2023-05-13T09:35:18.612Z"
   },
   {
    "duration": 35,
    "start_time": "2023-05-13T09:35:19.545Z"
   },
   {
    "duration": 6,
    "start_time": "2023-05-13T09:35:19.581Z"
   },
   {
    "duration": 9,
    "start_time": "2023-05-13T09:35:19.588Z"
   },
   {
    "duration": 187,
    "start_time": "2023-05-13T09:35:19.599Z"
   },
   {
    "duration": 194,
    "start_time": "2023-05-13T09:35:19.791Z"
   },
   {
    "duration": 18,
    "start_time": "2023-05-13T09:35:19.989Z"
   },
   {
    "duration": 198,
    "start_time": "2023-05-13T09:35:20.009Z"
   },
   {
    "duration": 5,
    "start_time": "2023-05-13T09:35:20.209Z"
   },
   {
    "duration": 2835,
    "start_time": "2023-05-13T09:35:20.216Z"
   },
   {
    "duration": 28,
    "start_time": "2023-05-13T09:35:23.052Z"
   },
   {
    "duration": 553,
    "start_time": "2023-05-13T09:35:23.082Z"
   },
   {
    "duration": 404,
    "start_time": "2023-05-13T09:35:23.637Z"
   },
   {
    "duration": 284,
    "start_time": "2023-05-13T09:35:24.043Z"
   },
   {
    "duration": 254,
    "start_time": "2023-05-13T09:35:24.329Z"
   },
   {
    "duration": 544,
    "start_time": "2023-05-13T09:35:24.585Z"
   },
   {
    "duration": 334,
    "start_time": "2023-05-13T09:35:25.131Z"
   },
   {
    "duration": 300,
    "start_time": "2023-05-13T09:35:25.467Z"
   },
   {
    "duration": 10,
    "start_time": "2023-05-13T09:35:25.769Z"
   },
   {
    "duration": 115,
    "start_time": "2023-05-13T09:35:25.782Z"
   },
   {
    "duration": 8,
    "start_time": "2023-05-13T09:35:25.899Z"
   },
   {
    "duration": 11,
    "start_time": "2023-05-13T09:35:25.909Z"
   },
   {
    "duration": 198,
    "start_time": "2023-05-13T09:35:25.923Z"
   },
   {
    "duration": 931,
    "start_time": "2023-05-13T09:35:26.123Z"
   },
   {
    "duration": 904,
    "start_time": "2023-05-13T09:35:27.056Z"
   },
   {
    "duration": 220,
    "start_time": "2023-05-13T09:35:27.962Z"
   },
   {
    "duration": 68,
    "start_time": "2023-05-13T09:35:28.185Z"
   },
   {
    "duration": 73,
    "start_time": "2023-05-13T09:35:28.255Z"
   },
   {
    "duration": 824,
    "start_time": "2023-05-13T09:35:28.330Z"
   },
   {
    "duration": 643,
    "start_time": "2023-05-13T09:35:29.157Z"
   },
   {
    "duration": 695,
    "start_time": "2023-05-13T09:35:29.801Z"
   },
   {
    "duration": 662,
    "start_time": "2023-05-13T09:35:30.499Z"
   },
   {
    "duration": 54,
    "start_time": "2023-05-13T09:41:57.777Z"
   },
   {
    "duration": 52,
    "start_time": "2023-05-13T09:42:11.225Z"
   },
   {
    "duration": 761,
    "start_time": "2023-05-13T09:42:23.821Z"
   },
   {
    "duration": 740,
    "start_time": "2023-05-13T09:42:30.931Z"
   },
   {
    "duration": 681,
    "start_time": "2023-05-13T09:42:41.133Z"
   },
   {
    "duration": 819,
    "start_time": "2023-05-13T09:42:46.770Z"
   },
   {
    "duration": 671,
    "start_time": "2023-05-13T09:45:09.902Z"
   },
   {
    "duration": 705,
    "start_time": "2023-05-13T09:48:41.253Z"
   },
   {
    "duration": 746,
    "start_time": "2023-05-13T09:49:04.702Z"
   },
   {
    "duration": 696,
    "start_time": "2023-05-13T09:49:42.953Z"
   },
   {
    "duration": 624,
    "start_time": "2023-05-13T09:50:12.082Z"
   },
   {
    "duration": 653,
    "start_time": "2023-05-13T09:50:42.466Z"
   },
   {
    "duration": 656,
    "start_time": "2023-05-13T09:50:54.741Z"
   },
   {
    "duration": 718,
    "start_time": "2023-05-13T09:50:57.170Z"
   },
   {
    "duration": 785,
    "start_time": "2023-05-13T09:51:14.315Z"
   },
   {
    "duration": 1450,
    "start_time": "2023-05-13T23:55:10.392Z"
   },
   {
    "duration": 1389,
    "start_time": "2023-05-13T23:55:13.812Z"
   },
   {
    "duration": 1141,
    "start_time": "2023-05-14T00:44:41.201Z"
   },
   {
    "duration": 1409,
    "start_time": "2023-05-14T00:44:42.344Z"
   },
   {
    "duration": 12,
    "start_time": "2023-05-14T00:44:43.754Z"
   },
   {
    "duration": 15,
    "start_time": "2023-05-14T00:44:43.768Z"
   },
   {
    "duration": 17,
    "start_time": "2023-05-14T00:44:43.785Z"
   },
   {
    "duration": 107,
    "start_time": "2023-05-14T00:44:43.803Z"
   },
   {
    "duration": 45,
    "start_time": "2023-05-14T00:44:43.912Z"
   },
   {
    "duration": 27,
    "start_time": "2023-05-14T00:44:43.959Z"
   },
   {
    "duration": 933,
    "start_time": "2023-05-14T00:44:43.988Z"
   },
   {
    "duration": 18,
    "start_time": "2023-05-14T00:44:44.931Z"
   },
   {
    "duration": 8,
    "start_time": "2023-05-14T00:44:44.951Z"
   },
   {
    "duration": 7,
    "start_time": "2023-05-14T00:44:44.961Z"
   },
   {
    "duration": 166,
    "start_time": "2023-05-14T00:44:44.970Z"
   },
   {
    "duration": 172,
    "start_time": "2023-05-14T00:44:45.138Z"
   },
   {
    "duration": 15,
    "start_time": "2023-05-14T00:44:45.312Z"
   },
   {
    "duration": 170,
    "start_time": "2023-05-14T00:44:45.329Z"
   },
   {
    "duration": 5,
    "start_time": "2023-05-14T00:44:45.501Z"
   },
   {
    "duration": 3133,
    "start_time": "2023-05-14T00:44:45.507Z"
   },
   {
    "duration": 14,
    "start_time": "2023-05-14T00:44:48.642Z"
   },
   {
    "duration": 445,
    "start_time": "2023-05-14T00:44:48.658Z"
   },
   {
    "duration": 420,
    "start_time": "2023-05-14T00:44:49.105Z"
   },
   {
    "duration": 233,
    "start_time": "2023-05-14T00:44:49.526Z"
   },
   {
    "duration": 233,
    "start_time": "2023-05-14T00:44:49.760Z"
   },
   {
    "duration": 472,
    "start_time": "2023-05-14T00:44:49.994Z"
   },
   {
    "duration": 277,
    "start_time": "2023-05-14T00:44:50.467Z"
   },
   {
    "duration": 233,
    "start_time": "2023-05-14T00:44:50.745Z"
   },
   {
    "duration": 4,
    "start_time": "2023-05-14T00:44:50.980Z"
   },
   {
    "duration": 85,
    "start_time": "2023-05-14T00:44:50.987Z"
   },
   {
    "duration": 6,
    "start_time": "2023-05-14T00:44:51.074Z"
   },
   {
    "duration": 34,
    "start_time": "2023-05-14T00:44:51.082Z"
   },
   {
    "duration": 141,
    "start_time": "2023-05-14T00:44:51.118Z"
   },
   {
    "duration": 795,
    "start_time": "2023-05-14T00:44:51.261Z"
   },
   {
    "duration": 504,
    "start_time": "2023-05-14T00:44:52.058Z"
   },
   {
    "duration": 179,
    "start_time": "2023-05-14T00:44:52.563Z"
   },
   {
    "duration": 52,
    "start_time": "2023-05-14T00:44:52.743Z"
   },
   {
    "duration": 60,
    "start_time": "2023-05-14T00:44:52.797Z"
   },
   {
    "duration": 724,
    "start_time": "2023-05-14T00:44:52.859Z"
   },
   {
    "duration": 718,
    "start_time": "2023-05-14T00:44:53.585Z"
   },
   {
    "duration": 650,
    "start_time": "2023-05-14T00:44:54.305Z"
   },
   {
    "duration": 612,
    "start_time": "2023-05-14T00:44:54.957Z"
   },
   {
    "duration": 5,
    "start_time": "2023-05-14T00:50:55.239Z"
   },
   {
    "duration": 1034,
    "start_time": "2023-05-14T00:50:55.246Z"
   },
   {
    "duration": 11,
    "start_time": "2023-05-14T00:50:56.282Z"
   },
   {
    "duration": 35,
    "start_time": "2023-05-14T00:50:56.295Z"
   },
   {
    "duration": 17,
    "start_time": "2023-05-14T00:50:56.332Z"
   },
   {
    "duration": 81,
    "start_time": "2023-05-14T00:50:56.350Z"
   },
   {
    "duration": 38,
    "start_time": "2023-05-14T00:50:56.432Z"
   },
   {
    "duration": 20,
    "start_time": "2023-05-14T00:50:56.472Z"
   },
   {
    "duration": 849,
    "start_time": "2023-05-14T00:50:56.495Z"
   },
   {
    "duration": 19,
    "start_time": "2023-05-14T00:50:57.346Z"
   },
   {
    "duration": 5,
    "start_time": "2023-05-14T00:50:57.367Z"
   },
   {
    "duration": 6,
    "start_time": "2023-05-14T00:50:57.373Z"
   },
   {
    "duration": 146,
    "start_time": "2023-05-14T00:50:57.381Z"
   },
   {
    "duration": 148,
    "start_time": "2023-05-14T00:50:57.529Z"
   },
   {
    "duration": 14,
    "start_time": "2023-05-14T00:50:57.678Z"
   },
   {
    "duration": 154,
    "start_time": "2023-05-14T00:50:57.693Z"
   },
   {
    "duration": 7425,
    "start_time": "2023-05-14T00:50:59.191Z"
   },
   {
    "duration": 6820,
    "start_time": "2023-05-14T00:52:17.928Z"
   },
   {
    "duration": 7102,
    "start_time": "2023-05-14T00:52:42.410Z"
   },
   {
    "duration": 14,
    "start_time": "2023-05-14T00:52:56.825Z"
   },
   {
    "duration": 6,
    "start_time": "2023-05-14T00:54:07.407Z"
   },
   {
    "duration": 8,
    "start_time": "2023-05-14T00:55:41.900Z"
   },
   {
    "duration": 7,
    "start_time": "2023-05-14T00:56:07.843Z"
   },
   {
    "duration": 9,
    "start_time": "2023-05-14T00:56:50.601Z"
   },
   {
    "duration": 4,
    "start_time": "2023-05-14T00:58:45.470Z"
   },
   {
    "duration": 11,
    "start_time": "2023-05-14T01:00:41.714Z"
   },
   {
    "duration": 11,
    "start_time": "2023-05-14T01:00:47.990Z"
   },
   {
    "duration": 7372,
    "start_time": "2023-05-14T01:23:12.624Z"
   },
   {
    "duration": 0,
    "start_time": "2023-05-14T01:23:19.997Z"
   },
   {
    "duration": 6800,
    "start_time": "2023-05-14T01:24:05.358Z"
   },
   {
    "duration": 12,
    "start_time": "2023-05-14T01:24:14.029Z"
   },
   {
    "duration": 6,
    "start_time": "2023-05-14T01:30:00.547Z"
   },
   {
    "duration": 2157,
    "start_time": "2023-05-14T01:30:00.555Z"
   },
   {
    "duration": 11,
    "start_time": "2023-05-14T01:30:02.714Z"
   },
   {
    "duration": 26,
    "start_time": "2023-05-14T01:30:02.727Z"
   },
   {
    "duration": 63,
    "start_time": "2023-05-14T01:30:02.755Z"
   },
   {
    "duration": 96,
    "start_time": "2023-05-14T01:30:02.820Z"
   },
   {
    "duration": 43,
    "start_time": "2023-05-14T01:30:02.918Z"
   },
   {
    "duration": 22,
    "start_time": "2023-05-14T01:30:02.963Z"
   },
   {
    "duration": 747,
    "start_time": "2023-05-14T01:30:02.987Z"
   },
   {
    "duration": 22,
    "start_time": "2023-05-14T01:30:03.736Z"
   },
   {
    "duration": 5,
    "start_time": "2023-05-14T01:30:03.760Z"
   },
   {
    "duration": 22,
    "start_time": "2023-05-14T01:30:03.767Z"
   },
   {
    "duration": 287,
    "start_time": "2023-05-14T01:30:03.791Z"
   },
   {
    "duration": 150,
    "start_time": "2023-05-14T01:30:04.080Z"
   },
   {
    "duration": 14,
    "start_time": "2023-05-14T01:30:04.232Z"
   },
   {
    "duration": 156,
    "start_time": "2023-05-14T01:30:04.247Z"
   },
   {
    "duration": 5,
    "start_time": "2023-05-14T01:30:04.404Z"
   },
   {
    "duration": 1170,
    "start_time": "2023-05-14T01:30:08.279Z"
   },
   {
    "duration": 1143,
    "start_time": "2023-05-14T01:30:09.451Z"
   },
   {
    "duration": 12,
    "start_time": "2023-05-14T01:30:10.596Z"
   },
   {
    "duration": 19,
    "start_time": "2023-05-14T01:30:10.609Z"
   },
   {
    "duration": 17,
    "start_time": "2023-05-14T01:30:10.630Z"
   },
   {
    "duration": 110,
    "start_time": "2023-05-14T01:30:10.649Z"
   },
   {
    "duration": 23,
    "start_time": "2023-05-14T01:30:10.761Z"
   },
   {
    "duration": 21,
    "start_time": "2023-05-14T01:30:10.786Z"
   },
   {
    "duration": 890,
    "start_time": "2023-05-14T01:30:10.809Z"
   },
   {
    "duration": 14,
    "start_time": "2023-05-14T01:30:11.701Z"
   },
   {
    "duration": 4,
    "start_time": "2023-05-14T01:30:11.717Z"
   },
   {
    "duration": 10,
    "start_time": "2023-05-14T01:30:11.723Z"
   },
   {
    "duration": 149,
    "start_time": "2023-05-14T01:30:11.735Z"
   },
   {
    "duration": 148,
    "start_time": "2023-05-14T01:30:11.889Z"
   },
   {
    "duration": 20,
    "start_time": "2023-05-14T01:30:12.038Z"
   },
   {
    "duration": 154,
    "start_time": "2023-05-14T01:30:12.059Z"
   },
   {
    "duration": 3,
    "start_time": "2023-05-14T01:30:12.215Z"
   },
   {
    "duration": 2852,
    "start_time": "2023-05-14T01:30:12.220Z"
   },
   {
    "duration": 14,
    "start_time": "2023-05-14T01:30:15.074Z"
   },
   {
    "duration": 488,
    "start_time": "2023-05-14T01:30:15.090Z"
   },
   {
    "duration": 429,
    "start_time": "2023-05-14T01:30:15.580Z"
   },
   {
    "duration": 7213,
    "start_time": "2023-05-14T01:30:16.011Z"
   },
   {
    "duration": 11,
    "start_time": "2023-05-14T01:30:23.225Z"
   },
   {
    "duration": 222,
    "start_time": "2023-05-14T01:30:23.238Z"
   },
   {
    "duration": 215,
    "start_time": "2023-05-14T01:30:23.462Z"
   },
   {
    "duration": 542,
    "start_time": "2023-05-14T01:30:23.679Z"
   },
   {
    "duration": 268,
    "start_time": "2023-05-14T01:30:24.222Z"
   },
   {
    "duration": 224,
    "start_time": "2023-05-14T01:30:24.491Z"
   },
   {
    "duration": 4,
    "start_time": "2023-05-14T01:30:24.717Z"
   },
   {
    "duration": 76,
    "start_time": "2023-05-14T01:30:24.722Z"
   },
   {
    "duration": 6,
    "start_time": "2023-05-14T01:30:24.799Z"
   },
   {
    "duration": 33,
    "start_time": "2023-05-14T01:30:24.807Z"
   },
   {
    "duration": 135,
    "start_time": "2023-05-14T01:30:24.841Z"
   },
   {
    "duration": 748,
    "start_time": "2023-05-14T01:30:24.977Z"
   },
   {
    "duration": 601,
    "start_time": "2023-05-14T01:30:25.726Z"
   },
   {
    "duration": 178,
    "start_time": "2023-05-14T01:30:26.328Z"
   },
   {
    "duration": 54,
    "start_time": "2023-05-14T01:30:26.508Z"
   },
   {
    "duration": 40,
    "start_time": "2023-05-14T01:30:26.564Z"
   },
   {
    "duration": 747,
    "start_time": "2023-05-14T01:30:26.606Z"
   },
   {
    "duration": 549,
    "start_time": "2023-05-14T01:30:27.355Z"
   },
   {
    "duration": 588,
    "start_time": "2023-05-14T01:30:27.907Z"
   },
   {
    "duration": 566,
    "start_time": "2023-05-14T01:30:28.496Z"
   },
   {
    "duration": 13,
    "start_time": "2023-05-14T01:43:33.789Z"
   },
   {
    "duration": 1697,
    "start_time": "2023-05-14T01:46:27.372Z"
   },
   {
    "duration": 12,
    "start_time": "2023-05-14T01:46:39.423Z"
   },
   {
    "duration": 5,
    "start_time": "2023-05-14T01:46:46.060Z"
   },
   {
    "duration": 106,
    "start_time": "2023-05-14T01:47:59.060Z"
   },
   {
    "duration": 12,
    "start_time": "2023-05-14T01:48:02.711Z"
   },
   {
    "duration": 1498,
    "start_time": "2023-05-14T10:58:50.381Z"
   },
   {
    "duration": 1080,
    "start_time": "2023-05-14T10:58:51.881Z"
   },
   {
    "duration": 14,
    "start_time": "2023-05-14T10:58:52.963Z"
   },
   {
    "duration": 26,
    "start_time": "2023-05-14T10:58:52.979Z"
   },
   {
    "duration": 17,
    "start_time": "2023-05-14T10:58:53.007Z"
   },
   {
    "duration": 109,
    "start_time": "2023-05-14T10:58:53.026Z"
   },
   {
    "duration": 20,
    "start_time": "2023-05-14T10:58:53.136Z"
   },
   {
    "duration": 47,
    "start_time": "2023-05-14T10:58:53.158Z"
   },
   {
    "duration": 897,
    "start_time": "2023-05-14T10:58:53.207Z"
   },
   {
    "duration": 17,
    "start_time": "2023-05-14T10:58:54.105Z"
   },
   {
    "duration": 5,
    "start_time": "2023-05-14T10:58:54.124Z"
   },
   {
    "duration": 8,
    "start_time": "2023-05-14T10:58:54.130Z"
   },
   {
    "duration": 185,
    "start_time": "2023-05-14T10:58:54.140Z"
   },
   {
    "duration": 181,
    "start_time": "2023-05-14T10:58:54.328Z"
   },
   {
    "duration": 16,
    "start_time": "2023-05-14T10:58:54.511Z"
   },
   {
    "duration": 204,
    "start_time": "2023-05-14T10:58:54.528Z"
   },
   {
    "duration": 5,
    "start_time": "2023-05-14T10:58:54.734Z"
   },
   {
    "duration": 3483,
    "start_time": "2023-05-14T10:58:54.740Z"
   },
   {
    "duration": 12,
    "start_time": "2023-05-14T10:58:58.225Z"
   },
   {
    "duration": 495,
    "start_time": "2023-05-14T10:58:58.239Z"
   },
   {
    "duration": 432,
    "start_time": "2023-05-14T10:58:58.736Z"
   },
   {
    "duration": 123,
    "start_time": "2023-05-14T10:59:50.298Z"
   },
   {
    "duration": 7,
    "start_time": "2023-05-14T11:00:02.252Z"
   },
   {
    "duration": 5,
    "start_time": "2023-05-14T11:07:52.998Z"
   },
   {
    "duration": 7,
    "start_time": "2023-05-14T11:08:01.481Z"
   },
   {
    "duration": 1571,
    "start_time": "2023-05-14T12:04:15.267Z"
   },
   {
    "duration": 1471,
    "start_time": "2023-05-14T12:04:16.840Z"
   },
   {
    "duration": 14,
    "start_time": "2023-05-14T12:04:18.316Z"
   },
   {
    "duration": 24,
    "start_time": "2023-05-14T12:04:18.335Z"
   },
   {
    "duration": 25,
    "start_time": "2023-05-14T12:04:18.361Z"
   },
   {
    "duration": 117,
    "start_time": "2023-05-14T12:04:18.389Z"
   },
   {
    "duration": 29,
    "start_time": "2023-05-14T12:04:18.508Z"
   },
   {
    "duration": 37,
    "start_time": "2023-05-14T12:04:18.539Z"
   },
   {
    "duration": 967,
    "start_time": "2023-05-14T12:04:18.578Z"
   },
   {
    "duration": 18,
    "start_time": "2023-05-14T12:04:19.547Z"
   },
   {
    "duration": 4,
    "start_time": "2023-05-14T12:04:19.567Z"
   },
   {
    "duration": 27,
    "start_time": "2023-05-14T12:04:19.573Z"
   },
   {
    "duration": 174,
    "start_time": "2023-05-14T12:04:19.604Z"
   },
   {
    "duration": 163,
    "start_time": "2023-05-14T12:04:19.780Z"
   },
   {
    "duration": 12,
    "start_time": "2023-05-14T12:04:19.945Z"
   },
   {
    "duration": 186,
    "start_time": "2023-05-14T12:04:19.959Z"
   },
   {
    "duration": 3,
    "start_time": "2023-05-14T12:04:20.147Z"
   },
   {
    "duration": 3256,
    "start_time": "2023-05-14T12:04:20.152Z"
   },
   {
    "duration": 19,
    "start_time": "2023-05-14T12:04:23.409Z"
   },
   {
    "duration": 519,
    "start_time": "2023-05-14T12:04:23.430Z"
   },
   {
    "duration": 431,
    "start_time": "2023-05-14T12:04:23.951Z"
   },
   {
    "duration": 17,
    "start_time": "2023-05-14T12:04:24.384Z"
   },
   {
    "duration": 8738,
    "start_time": "2023-05-14T12:04:28.424Z"
   },
   {
    "duration": 0,
    "start_time": "2023-05-14T12:05:01.582Z"
   },
   {
    "duration": 7806,
    "start_time": "2023-05-14T12:05:14.849Z"
   },
   {
    "duration": 6,
    "start_time": "2023-05-14T13:47:58.546Z"
   },
   {
    "duration": 1992,
    "start_time": "2023-05-14T13:47:58.554Z"
   },
   {
    "duration": 17,
    "start_time": "2023-05-14T13:48:00.548Z"
   },
   {
    "duration": 101,
    "start_time": "2023-05-14T13:48:00.568Z"
   },
   {
    "duration": 117,
    "start_time": "2023-05-14T13:48:00.672Z"
   },
   {
    "duration": 236,
    "start_time": "2023-05-14T13:48:00.791Z"
   },
   {
    "duration": 41,
    "start_time": "2023-05-14T13:48:01.028Z"
   },
   {
    "duration": 90,
    "start_time": "2023-05-14T13:48:01.071Z"
   },
   {
    "duration": 1293,
    "start_time": "2023-05-14T13:48:01.164Z"
   },
   {
    "duration": 21,
    "start_time": "2023-05-14T13:48:02.465Z"
   },
   {
    "duration": 70,
    "start_time": "2023-05-14T13:48:02.492Z"
   },
   {
    "duration": 101,
    "start_time": "2023-05-14T13:48:02.565Z"
   },
   {
    "duration": 272,
    "start_time": "2023-05-14T13:48:02.668Z"
   },
   {
    "duration": 213,
    "start_time": "2023-05-14T13:48:02.947Z"
   },
   {
    "duration": 19,
    "start_time": "2023-05-14T13:48:03.162Z"
   },
   {
    "duration": 233,
    "start_time": "2023-05-14T13:48:03.196Z"
   },
   {
    "duration": 10161,
    "start_time": "2023-05-14T13:48:03.435Z"
   },
   {
    "duration": 158,
    "start_time": "2023-05-14T13:48:13.601Z"
   },
   {
    "duration": 157,
    "start_time": "2023-05-14T13:48:13.760Z"
   },
   {
    "duration": 26,
    "start_time": "2023-05-14T13:48:13.918Z"
   },
   {
    "duration": 618,
    "start_time": "2023-05-14T13:48:13.946Z"
   },
   {
    "duration": 421,
    "start_time": "2023-05-14T13:48:14.566Z"
   },
   {
    "duration": 321,
    "start_time": "2023-05-14T13:48:14.991Z"
   },
   {
    "duration": 310,
    "start_time": "2023-05-14T13:48:15.316Z"
   },
   {
    "duration": 779,
    "start_time": "2023-05-14T13:48:15.631Z"
   },
   {
    "duration": 418,
    "start_time": "2023-05-14T13:48:16.417Z"
   },
   {
    "duration": 252,
    "start_time": "2023-05-14T13:48:16.840Z"
   },
   {
    "duration": 19,
    "start_time": "2023-05-14T13:48:17.094Z"
   },
   {
    "duration": 152,
    "start_time": "2023-05-14T13:48:17.119Z"
   },
   {
    "duration": 8,
    "start_time": "2023-05-14T13:48:17.272Z"
   },
   {
    "duration": 73,
    "start_time": "2023-05-14T13:48:17.282Z"
   },
   {
    "duration": 211,
    "start_time": "2023-05-14T13:48:17.356Z"
   },
   {
    "duration": 1021,
    "start_time": "2023-05-14T13:48:17.569Z"
   },
   {
    "duration": 849,
    "start_time": "2023-05-14T13:48:18.594Z"
   },
   {
    "duration": 239,
    "start_time": "2023-05-14T13:48:19.448Z"
   },
   {
    "duration": 51,
    "start_time": "2023-05-14T13:48:19.688Z"
   },
   {
    "duration": 67,
    "start_time": "2023-05-14T13:48:19.740Z"
   },
   {
    "duration": 865,
    "start_time": "2023-05-14T13:48:19.817Z"
   },
   {
    "duration": 597,
    "start_time": "2023-05-14T13:48:20.684Z"
   },
   {
    "duration": 684,
    "start_time": "2023-05-14T13:48:21.283Z"
   },
   {
    "duration": 660,
    "start_time": "2023-05-14T13:48:21.971Z"
   },
   {
    "duration": 685,
    "start_time": "2023-05-14T13:50:42.955Z"
   },
   {
    "duration": 1039,
    "start_time": "2023-05-14T13:51:08.048Z"
   },
   {
    "duration": 309,
    "start_time": "2023-05-14T13:51:54.763Z"
   },
   {
    "duration": 731,
    "start_time": "2023-05-14T13:52:49.521Z"
   },
   {
    "duration": 50,
    "start_time": "2023-05-14T13:53:25.135Z"
   },
   {
    "duration": 444,
    "start_time": "2023-05-14T13:53:26.792Z"
   },
   {
    "duration": 18,
    "start_time": "2023-05-14T13:53:28.647Z"
   },
   {
    "duration": 1321,
    "start_time": "2023-05-14T13:55:21.846Z"
   },
   {
    "duration": 1052,
    "start_time": "2023-05-14T13:55:23.169Z"
   },
   {
    "duration": 15,
    "start_time": "2023-05-14T13:55:24.226Z"
   },
   {
    "duration": 26,
    "start_time": "2023-05-14T13:55:24.242Z"
   },
   {
    "duration": 24,
    "start_time": "2023-05-14T13:55:24.269Z"
   },
   {
    "duration": 108,
    "start_time": "2023-05-14T13:55:24.294Z"
   },
   {
    "duration": 29,
    "start_time": "2023-05-14T13:55:24.406Z"
   },
   {
    "duration": 76,
    "start_time": "2023-05-14T13:55:24.438Z"
   },
   {
    "duration": 1063,
    "start_time": "2023-05-14T13:55:24.515Z"
   },
   {
    "duration": 26,
    "start_time": "2023-05-14T13:55:25.580Z"
   },
   {
    "duration": 42,
    "start_time": "2023-05-14T13:55:25.610Z"
   },
   {
    "duration": 26,
    "start_time": "2023-05-14T13:55:25.653Z"
   },
   {
    "duration": 200,
    "start_time": "2023-05-14T13:55:25.680Z"
   },
   {
    "duration": 169,
    "start_time": "2023-05-14T13:55:25.882Z"
   },
   {
    "duration": 13,
    "start_time": "2023-05-14T13:55:26.053Z"
   },
   {
    "duration": 194,
    "start_time": "2023-05-14T13:55:26.067Z"
   },
   {
    "duration": 8785,
    "start_time": "2023-05-14T13:56:23.038Z"
   },
   {
    "duration": 49,
    "start_time": "2023-05-14T13:56:34.537Z"
   },
   {
    "duration": 183,
    "start_time": "2023-05-14T13:56:36.757Z"
   },
   {
    "duration": 24,
    "start_time": "2023-05-14T13:56:40.732Z"
   },
   {
    "duration": 711,
    "start_time": "2023-05-14T13:56:47.018Z"
   },
   {
    "duration": 341,
    "start_time": "2023-05-14T13:57:02.334Z"
   },
   {
    "duration": 275,
    "start_time": "2023-05-14T13:58:26.389Z"
   },
   {
    "duration": 29,
    "start_time": "2023-05-14T14:00:33.527Z"
   },
   {
    "duration": 299,
    "start_time": "2023-05-14T14:00:36.115Z"
   },
   {
    "duration": 273,
    "start_time": "2023-05-14T14:00:39.128Z"
   },
   {
    "duration": 759,
    "start_time": "2023-05-14T14:00:41.020Z"
   },
   {
    "duration": 611,
    "start_time": "2023-05-14T14:00:51.879Z"
   },
   {
    "duration": 159,
    "start_time": "2023-05-14T14:02:31.996Z"
   },
   {
    "duration": 63,
    "start_time": "2023-05-14T14:06:43.268Z"
   },
   {
    "duration": 51,
    "start_time": "2023-05-14T14:06:52.895Z"
   },
   {
    "duration": 54,
    "start_time": "2023-05-14T14:06:54.551Z"
   },
   {
    "duration": 119,
    "start_time": "2023-05-14T14:07:43.657Z"
   },
   {
    "duration": 22,
    "start_time": "2023-05-14T14:07:47.665Z"
   },
   {
    "duration": 56,
    "start_time": "2023-05-14T14:10:27.976Z"
   },
   {
    "duration": 43,
    "start_time": "2023-05-14T14:16:42.211Z"
   },
   {
    "duration": 24,
    "start_time": "2023-05-14T14:16:43.933Z"
   },
   {
    "duration": 8,
    "start_time": "2023-05-14T14:16:46.549Z"
   },
   {
    "duration": 10,
    "start_time": "2023-05-14T14:16:57.031Z"
   },
   {
    "duration": 2019,
    "start_time": "2023-05-14T14:17:02.143Z"
   },
   {
    "duration": 1263,
    "start_time": "2023-05-14T14:17:04.164Z"
   },
   {
    "duration": 19,
    "start_time": "2023-05-14T14:17:05.429Z"
   },
   {
    "duration": 24,
    "start_time": "2023-05-14T14:17:05.451Z"
   },
   {
    "duration": 33,
    "start_time": "2023-05-14T14:17:05.477Z"
   },
   {
    "duration": 106,
    "start_time": "2023-05-14T14:17:05.511Z"
   },
   {
    "duration": 26,
    "start_time": "2023-05-14T14:17:05.619Z"
   },
   {
    "duration": 23,
    "start_time": "2023-05-14T14:17:05.646Z"
   },
   {
    "duration": 1079,
    "start_time": "2023-05-14T14:17:05.671Z"
   },
   {
    "duration": 18,
    "start_time": "2023-05-14T14:17:06.754Z"
   },
   {
    "duration": 64,
    "start_time": "2023-05-14T14:17:06.774Z"
   },
   {
    "duration": 16,
    "start_time": "2023-05-14T14:17:06.840Z"
   },
   {
    "duration": 190,
    "start_time": "2023-05-14T14:17:06.857Z"
   },
   {
    "duration": 230,
    "start_time": "2023-05-14T14:17:07.050Z"
   },
   {
    "duration": 47,
    "start_time": "2023-05-14T14:17:07.282Z"
   },
   {
    "duration": 314,
    "start_time": "2023-05-14T14:17:07.336Z"
   },
   {
    "duration": 9170,
    "start_time": "2023-05-14T14:17:10.636Z"
   },
   {
    "duration": 44,
    "start_time": "2023-05-14T14:17:21.175Z"
   },
   {
    "duration": 34,
    "start_time": "2023-05-14T14:17:23.165Z"
   },
   {
    "duration": 170,
    "start_time": "2023-05-14T14:17:30.868Z"
   },
   {
    "duration": 30,
    "start_time": "2023-05-14T14:17:32.875Z"
   },
   {
    "duration": 728,
    "start_time": "2023-05-14T14:17:36.628Z"
   },
   {
    "duration": 410,
    "start_time": "2023-05-14T14:17:41.552Z"
   },
   {
    "duration": 357,
    "start_time": "2023-05-14T14:20:19.931Z"
   },
   {
    "duration": 12,
    "start_time": "2023-05-14T14:21:47.731Z"
   },
   {
    "duration": 1558,
    "start_time": "2023-05-14T14:21:47.746Z"
   },
   {
    "duration": 14,
    "start_time": "2023-05-14T14:21:49.311Z"
   },
   {
    "duration": 98,
    "start_time": "2023-05-14T14:21:49.327Z"
   },
   {
    "duration": 41,
    "start_time": "2023-05-14T14:21:49.431Z"
   },
   {
    "duration": 159,
    "start_time": "2023-05-14T14:21:49.474Z"
   },
   {
    "duration": 28,
    "start_time": "2023-05-14T14:21:49.635Z"
   },
   {
    "duration": 45,
    "start_time": "2023-05-14T14:21:49.665Z"
   },
   {
    "duration": 939,
    "start_time": "2023-05-14T14:21:49.711Z"
   },
   {
    "duration": 14,
    "start_time": "2023-05-14T14:21:50.654Z"
   },
   {
    "duration": 6,
    "start_time": "2023-05-14T14:21:50.670Z"
   },
   {
    "duration": 7,
    "start_time": "2023-05-14T14:21:50.678Z"
   },
   {
    "duration": 162,
    "start_time": "2023-05-14T14:21:50.704Z"
   },
   {
    "duration": 200,
    "start_time": "2023-05-14T14:21:50.868Z"
   },
   {
    "duration": 16,
    "start_time": "2023-05-14T14:21:51.070Z"
   },
   {
    "duration": 222,
    "start_time": "2023-05-14T14:21:51.097Z"
   },
   {
    "duration": 10037,
    "start_time": "2023-05-14T14:21:51.324Z"
   },
   {
    "duration": 53,
    "start_time": "2023-05-14T14:22:01.363Z"
   },
   {
    "duration": 296,
    "start_time": "2023-05-14T14:22:01.425Z"
   },
   {
    "duration": 41,
    "start_time": "2023-05-14T14:22:01.729Z"
   },
   {
    "duration": 693,
    "start_time": "2023-05-14T14:22:01.774Z"
   },
   {
    "duration": 391,
    "start_time": "2023-05-14T14:22:02.477Z"
   },
   {
    "duration": 286,
    "start_time": "2023-05-14T14:22:02.870Z"
   },
   {
    "duration": 292,
    "start_time": "2023-05-14T14:22:03.161Z"
   },
   {
    "duration": 583,
    "start_time": "2023-05-14T14:22:03.459Z"
   },
   {
    "duration": 295,
    "start_time": "2023-05-14T14:22:04.047Z"
   },
   {
    "duration": 434,
    "start_time": "2023-05-14T14:22:04.344Z"
   },
   {
    "duration": 123,
    "start_time": "2023-05-14T14:22:04.782Z"
   },
   {
    "duration": 15,
    "start_time": "2023-05-14T14:22:04.907Z"
   },
   {
    "duration": 79,
    "start_time": "2023-05-14T14:22:04.927Z"
   },
   {
    "duration": 179,
    "start_time": "2023-05-14T14:22:06.780Z"
   },
   {
    "duration": 977,
    "start_time": "2023-05-14T14:22:18.461Z"
   },
   {
    "duration": 1081,
    "start_time": "2023-05-14T14:22:24.882Z"
   },
   {
    "duration": 11,
    "start_time": "2023-05-14T14:26:10.547Z"
   },
   {
    "duration": 1073,
    "start_time": "2023-05-14T14:27:12.015Z"
   },
   {
    "duration": 5,
    "start_time": "2023-05-14T14:28:56.251Z"
   },
   {
    "duration": 7,
    "start_time": "2023-05-14T14:34:17.679Z"
   },
   {
    "duration": 21,
    "start_time": "2023-05-14T14:34:24.645Z"
   },
   {
    "duration": 1218,
    "start_time": "2023-05-14T14:34:24.669Z"
   },
   {
    "duration": 24,
    "start_time": "2023-05-14T14:34:25.891Z"
   },
   {
    "duration": 53,
    "start_time": "2023-05-14T14:34:25.921Z"
   },
   {
    "duration": 24,
    "start_time": "2023-05-14T14:34:25.978Z"
   },
   {
    "duration": 145,
    "start_time": "2023-05-14T14:34:26.007Z"
   },
   {
    "duration": 36,
    "start_time": "2023-05-14T14:34:26.158Z"
   },
   {
    "duration": 137,
    "start_time": "2023-05-14T14:34:26.200Z"
   },
   {
    "duration": 1125,
    "start_time": "2023-05-14T14:34:26.339Z"
   },
   {
    "duration": 14,
    "start_time": "2023-05-14T14:34:27.468Z"
   },
   {
    "duration": 6,
    "start_time": "2023-05-14T14:34:27.495Z"
   },
   {
    "duration": 5,
    "start_time": "2023-05-14T14:34:27.502Z"
   },
   {
    "duration": 8,
    "start_time": "2023-05-14T14:34:31.123Z"
   },
   {
    "duration": 5,
    "start_time": "2023-05-14T14:34:48.419Z"
   },
   {
    "duration": 12,
    "start_time": "2023-05-14T14:35:03.427Z"
   },
   {
    "duration": 1209,
    "start_time": "2023-05-14T14:35:03.443Z"
   },
   {
    "duration": 23,
    "start_time": "2023-05-14T14:35:04.658Z"
   },
   {
    "duration": 33,
    "start_time": "2023-05-14T14:35:04.683Z"
   },
   {
    "duration": 52,
    "start_time": "2023-05-14T14:35:04.723Z"
   },
   {
    "duration": 343,
    "start_time": "2023-05-14T14:35:04.782Z"
   },
   {
    "duration": 35,
    "start_time": "2023-05-14T14:35:05.134Z"
   },
   {
    "duration": 56,
    "start_time": "2023-05-14T14:35:05.173Z"
   },
   {
    "duration": 1347,
    "start_time": "2023-05-14T14:35:05.232Z"
   },
   {
    "duration": 35,
    "start_time": "2023-05-14T14:35:06.583Z"
   },
   {
    "duration": 49,
    "start_time": "2023-05-14T14:35:06.629Z"
   },
   {
    "duration": 23,
    "start_time": "2023-05-14T14:35:06.680Z"
   },
   {
    "duration": 328,
    "start_time": "2023-05-14T14:35:06.705Z"
   },
   {
    "duration": 245,
    "start_time": "2023-05-14T14:35:07.040Z"
   },
   {
    "duration": 5,
    "start_time": "2023-05-14T14:35:10.854Z"
   },
   {
    "duration": 7,
    "start_time": "2023-05-14T14:35:28.239Z"
   },
   {
    "duration": 1202,
    "start_time": "2023-05-14T14:35:28.249Z"
   },
   {
    "duration": 15,
    "start_time": "2023-05-14T14:35:29.454Z"
   },
   {
    "duration": 33,
    "start_time": "2023-05-14T14:35:29.470Z"
   },
   {
    "duration": 19,
    "start_time": "2023-05-14T14:35:29.506Z"
   },
   {
    "duration": 169,
    "start_time": "2023-05-14T14:35:29.527Z"
   },
   {
    "duration": 29,
    "start_time": "2023-05-14T14:35:29.698Z"
   },
   {
    "duration": 72,
    "start_time": "2023-05-14T14:35:29.729Z"
   },
   {
    "duration": 1671,
    "start_time": "2023-05-14T14:35:29.806Z"
   },
   {
    "duration": 34,
    "start_time": "2023-05-14T14:35:31.480Z"
   },
   {
    "duration": 103,
    "start_time": "2023-05-14T14:35:31.521Z"
   },
   {
    "duration": 109,
    "start_time": "2023-05-14T14:35:31.630Z"
   },
   {
    "duration": 223,
    "start_time": "2023-05-14T14:35:31.746Z"
   },
   {
    "duration": 228,
    "start_time": "2023-05-14T14:35:31.973Z"
   },
   {
    "duration": 27,
    "start_time": "2023-05-14T14:35:32.209Z"
   },
   {
    "duration": 320,
    "start_time": "2023-05-14T14:35:32.244Z"
   },
   {
    "duration": 13,
    "start_time": "2023-05-14T14:35:35.936Z"
   },
   {
    "duration": 6,
    "start_time": "2023-05-14T14:37:30.242Z"
   },
   {
    "duration": 1421,
    "start_time": "2023-05-14T14:37:30.250Z"
   },
   {
    "duration": 15,
    "start_time": "2023-05-14T14:37:31.673Z"
   },
   {
    "duration": 36,
    "start_time": "2023-05-14T14:37:31.690Z"
   },
   {
    "duration": 57,
    "start_time": "2023-05-14T14:37:31.735Z"
   },
   {
    "duration": 188,
    "start_time": "2023-05-14T14:37:31.794Z"
   },
   {
    "duration": 53,
    "start_time": "2023-05-14T14:37:31.983Z"
   },
   {
    "duration": 54,
    "start_time": "2023-05-14T14:37:32.037Z"
   },
   {
    "duration": 1188,
    "start_time": "2023-05-14T14:37:32.093Z"
   },
   {
    "duration": 28,
    "start_time": "2023-05-14T14:37:33.283Z"
   },
   {
    "duration": 46,
    "start_time": "2023-05-14T14:37:33.312Z"
   },
   {
    "duration": 18,
    "start_time": "2023-05-14T14:37:33.360Z"
   },
   {
    "duration": 259,
    "start_time": "2023-05-14T14:37:33.380Z"
   },
   {
    "duration": 230,
    "start_time": "2023-05-14T14:37:33.644Z"
   },
   {
    "duration": 20,
    "start_time": "2023-05-14T14:37:33.876Z"
   },
   {
    "duration": 252,
    "start_time": "2023-05-14T14:37:33.897Z"
   },
   {
    "duration": 4,
    "start_time": "2023-05-14T14:37:34.151Z"
   },
   {
    "duration": 11399,
    "start_time": "2023-05-14T14:37:34.157Z"
   },
   {
    "duration": 51,
    "start_time": "2023-05-14T14:37:45.564Z"
   },
   {
    "duration": 240,
    "start_time": "2023-05-14T14:37:45.617Z"
   },
   {
    "duration": 7,
    "start_time": "2023-05-14T14:37:50.431Z"
   },
   {
    "duration": 11,
    "start_time": "2023-05-14T14:39:02.327Z"
   },
   {
    "duration": 1135,
    "start_time": "2023-05-14T14:39:02.340Z"
   },
   {
    "duration": 16,
    "start_time": "2023-05-14T14:39:03.477Z"
   },
   {
    "duration": 86,
    "start_time": "2023-05-14T14:39:03.495Z"
   },
   {
    "duration": 22,
    "start_time": "2023-05-14T14:39:03.584Z"
   },
   {
    "duration": 203,
    "start_time": "2023-05-14T14:39:03.608Z"
   },
   {
    "duration": 33,
    "start_time": "2023-05-14T14:39:03.816Z"
   },
   {
    "duration": 33,
    "start_time": "2023-05-14T14:39:03.851Z"
   },
   {
    "duration": 1046,
    "start_time": "2023-05-14T14:39:03.886Z"
   },
   {
    "duration": 17,
    "start_time": "2023-05-14T14:39:04.934Z"
   },
   {
    "duration": 12,
    "start_time": "2023-05-14T14:39:04.953Z"
   },
   {
    "duration": 13,
    "start_time": "2023-05-14T14:39:04.969Z"
   },
   {
    "duration": 240,
    "start_time": "2023-05-14T14:39:04.984Z"
   },
   {
    "duration": 228,
    "start_time": "2023-05-14T14:39:05.228Z"
   },
   {
    "duration": 20,
    "start_time": "2023-05-14T14:39:05.458Z"
   },
   {
    "duration": 192,
    "start_time": "2023-05-14T14:39:05.480Z"
   },
   {
    "duration": 6,
    "start_time": "2023-05-14T14:39:05.673Z"
   },
   {
    "duration": 10805,
    "start_time": "2023-05-14T14:39:05.680Z"
   },
   {
    "duration": 68,
    "start_time": "2023-05-14T14:39:16.488Z"
   },
   {
    "duration": 219,
    "start_time": "2023-05-14T14:39:18.958Z"
   },
   {
    "duration": 6,
    "start_time": "2023-05-14T14:40:13.349Z"
   },
   {
    "duration": 916,
    "start_time": "2023-05-14T14:40:13.357Z"
   },
   {
    "duration": 13,
    "start_time": "2023-05-14T14:40:14.275Z"
   },
   {
    "duration": 62,
    "start_time": "2023-05-14T14:40:14.290Z"
   },
   {
    "duration": 18,
    "start_time": "2023-05-14T14:40:14.355Z"
   },
   {
    "duration": 150,
    "start_time": "2023-05-14T14:40:14.375Z"
   },
   {
    "duration": 35,
    "start_time": "2023-05-14T14:40:14.529Z"
   },
   {
    "duration": 41,
    "start_time": "2023-05-14T14:40:14.570Z"
   },
   {
    "duration": 1096,
    "start_time": "2023-05-14T14:40:14.616Z"
   },
   {
    "duration": 19,
    "start_time": "2023-05-14T14:40:15.714Z"
   },
   {
    "duration": 6,
    "start_time": "2023-05-14T14:40:15.736Z"
   },
   {
    "duration": 10,
    "start_time": "2023-05-14T14:40:15.744Z"
   },
   {
    "duration": 181,
    "start_time": "2023-05-14T14:40:15.756Z"
   },
   {
    "duration": 221,
    "start_time": "2023-05-14T14:40:15.943Z"
   },
   {
    "duration": 28,
    "start_time": "2023-05-14T14:40:16.166Z"
   },
   {
    "duration": 181,
    "start_time": "2023-05-14T14:40:16.200Z"
   },
   {
    "duration": 20,
    "start_time": "2023-05-14T14:40:16.383Z"
   },
   {
    "duration": 8714,
    "start_time": "2023-05-14T14:40:16.406Z"
   },
   {
    "duration": 174,
    "start_time": "2023-05-14T14:40:25.123Z"
   },
   {
    "duration": 189,
    "start_time": "2023-05-14T14:40:26.733Z"
   },
   {
    "duration": 260,
    "start_time": "2023-05-14T14:41:20.286Z"
   },
   {
    "duration": 195,
    "start_time": "2023-05-14T14:41:39.019Z"
   },
   {
    "duration": 229,
    "start_time": "2023-05-14T14:42:27.523Z"
   },
   {
    "duration": 24,
    "start_time": "2023-05-14T14:44:39.851Z"
   },
   {
    "duration": 28,
    "start_time": "2023-05-14T14:44:52.855Z"
   },
   {
    "duration": 4494,
    "start_time": "2023-05-14T14:46:05.186Z"
   },
   {
    "duration": 58,
    "start_time": "2023-05-14T14:46:11.311Z"
   },
   {
    "duration": 161,
    "start_time": "2023-05-14T14:46:14.652Z"
   },
   {
    "duration": 132,
    "start_time": "2023-05-14T15:02:56.530Z"
   },
   {
    "duration": 5,
    "start_time": "2023-05-14T15:03:02.355Z"
   },
   {
    "duration": 1421,
    "start_time": "2023-05-14T15:03:02.362Z"
   },
   {
    "duration": 17,
    "start_time": "2023-05-14T15:03:03.785Z"
   },
   {
    "duration": 78,
    "start_time": "2023-05-14T15:03:03.805Z"
   },
   {
    "duration": 20,
    "start_time": "2023-05-14T15:03:03.886Z"
   },
   {
    "duration": 189,
    "start_time": "2023-05-14T15:03:03.908Z"
   },
   {
    "duration": 41,
    "start_time": "2023-05-14T15:03:04.103Z"
   },
   {
    "duration": 42,
    "start_time": "2023-05-14T15:03:04.149Z"
   },
   {
    "duration": 1210,
    "start_time": "2023-05-14T15:03:04.193Z"
   },
   {
    "duration": 24,
    "start_time": "2023-05-14T15:03:05.409Z"
   },
   {
    "duration": 27,
    "start_time": "2023-05-14T15:03:05.436Z"
   },
   {
    "duration": 27,
    "start_time": "2023-05-14T15:03:05.465Z"
   },
   {
    "duration": 243,
    "start_time": "2023-05-14T15:03:05.495Z"
   },
   {
    "duration": 399,
    "start_time": "2023-05-14T15:03:05.740Z"
   },
   {
    "duration": 17,
    "start_time": "2023-05-14T15:03:06.141Z"
   },
   {
    "duration": 215,
    "start_time": "2023-05-14T15:03:06.161Z"
   },
   {
    "duration": 7,
    "start_time": "2023-05-14T15:03:06.378Z"
   },
   {
    "duration": 5116,
    "start_time": "2023-05-14T15:03:06.395Z"
   },
   {
    "duration": 35,
    "start_time": "2023-05-14T15:03:11.530Z"
   },
   {
    "duration": 88,
    "start_time": "2023-05-14T15:03:11.567Z"
   },
   {
    "duration": 15,
    "start_time": "2023-05-14T15:03:11.657Z"
   },
   {
    "duration": 28,
    "start_time": "2023-05-14T15:03:11.674Z"
   },
   {
    "duration": 14,
    "start_time": "2023-05-14T15:03:44.234Z"
   },
   {
    "duration": 684,
    "start_time": "2023-05-14T15:03:46.554Z"
   },
   {
    "duration": 460,
    "start_time": "2023-05-14T15:03:56.145Z"
   },
   {
    "duration": 386,
    "start_time": "2023-05-14T15:04:34.886Z"
   },
   {
    "duration": 327,
    "start_time": "2023-05-14T15:04:40.355Z"
   },
   {
    "duration": 873,
    "start_time": "2023-05-14T15:04:44.279Z"
   },
   {
    "duration": 372,
    "start_time": "2023-05-14T15:04:53.061Z"
   },
   {
    "duration": 340,
    "start_time": "2023-05-14T15:05:18.416Z"
   },
   {
    "duration": 102,
    "start_time": "2023-05-14T15:05:25.047Z"
   },
   {
    "duration": 122,
    "start_time": "2023-05-14T15:05:41.858Z"
   },
   {
    "duration": 116,
    "start_time": "2023-05-14T15:05:46.464Z"
   },
   {
    "duration": 70,
    "start_time": "2023-05-14T15:05:51.901Z"
   },
   {
    "duration": 10,
    "start_time": "2023-05-14T15:05:56.252Z"
   },
   {
    "duration": 13,
    "start_time": "2023-05-14T15:05:58.056Z"
   },
   {
    "duration": 215,
    "start_time": "2023-05-14T15:06:01.968Z"
   },
   {
    "duration": 1215,
    "start_time": "2023-05-14T15:06:11.419Z"
   },
   {
    "duration": 1319,
    "start_time": "2023-05-14T15:06:16.872Z"
   },
   {
    "duration": 816,
    "start_time": "2023-05-14T15:06:25.559Z"
   },
   {
    "duration": 296,
    "start_time": "2023-05-14T15:06:29.675Z"
   },
   {
    "duration": 71,
    "start_time": "2023-05-14T15:06:32.953Z"
   },
   {
    "duration": 65,
    "start_time": "2023-05-14T15:06:38.646Z"
   },
   {
    "duration": 1150,
    "start_time": "2023-05-14T15:06:43.319Z"
   },
   {
    "duration": 39,
    "start_time": "2023-05-14T15:07:15.727Z"
   },
   {
    "duration": 5,
    "start_time": "2023-05-14T15:07:23.174Z"
   },
   {
    "duration": 1158,
    "start_time": "2023-05-14T15:08:04.317Z"
   },
   {
    "duration": 881,
    "start_time": "2023-05-14T15:08:15.465Z"
   },
   {
    "duration": 877,
    "start_time": "2023-05-14T15:08:26.380Z"
   },
   {
    "duration": 912,
    "start_time": "2023-05-14T15:08:43.758Z"
   },
   {
    "duration": 6,
    "start_time": "2023-05-14T15:09:21.836Z"
   },
   {
    "duration": 1596,
    "start_time": "2023-05-14T15:09:21.844Z"
   },
   {
    "duration": 26,
    "start_time": "2023-05-14T15:09:23.444Z"
   },
   {
    "duration": 19,
    "start_time": "2023-05-14T15:09:23.473Z"
   },
   {
    "duration": 20,
    "start_time": "2023-05-14T15:09:23.494Z"
   },
   {
    "duration": 135,
    "start_time": "2023-05-14T15:09:23.516Z"
   },
   {
    "duration": 27,
    "start_time": "2023-05-14T15:09:23.652Z"
   },
   {
    "duration": 38,
    "start_time": "2023-05-14T15:09:23.696Z"
   },
   {
    "duration": 1160,
    "start_time": "2023-05-14T15:09:23.735Z"
   },
   {
    "duration": 16,
    "start_time": "2023-05-14T15:09:24.899Z"
   },
   {
    "duration": 73,
    "start_time": "2023-05-14T15:09:24.917Z"
   },
   {
    "duration": 80,
    "start_time": "2023-05-14T15:09:24.992Z"
   },
   {
    "duration": 264,
    "start_time": "2023-05-14T15:09:25.074Z"
   },
   {
    "duration": 212,
    "start_time": "2023-05-14T15:09:25.340Z"
   },
   {
    "duration": 22,
    "start_time": "2023-05-14T15:09:25.564Z"
   },
   {
    "duration": 290,
    "start_time": "2023-05-14T15:09:25.588Z"
   },
   {
    "duration": 5066,
    "start_time": "2023-05-14T15:09:25.881Z"
   },
   {
    "duration": 37,
    "start_time": "2023-05-14T15:09:30.949Z"
   },
   {
    "duration": 203,
    "start_time": "2023-05-14T15:09:30.988Z"
   },
   {
    "duration": 31,
    "start_time": "2023-05-14T15:09:31.193Z"
   },
   {
    "duration": 702,
    "start_time": "2023-05-14T15:09:31.230Z"
   },
   {
    "duration": 477,
    "start_time": "2023-05-14T15:09:31.939Z"
   },
   {
    "duration": 461,
    "start_time": "2023-05-14T15:09:32.421Z"
   },
   {
    "duration": 292,
    "start_time": "2023-05-14T15:09:32.884Z"
   },
   {
    "duration": 670,
    "start_time": "2023-05-14T15:09:33.181Z"
   },
   {
    "duration": 342,
    "start_time": "2023-05-14T15:09:33.855Z"
   },
   {
    "duration": 303,
    "start_time": "2023-05-14T15:09:34.199Z"
   },
   {
    "duration": 99,
    "start_time": "2023-05-14T15:09:34.507Z"
   },
   {
    "duration": 10,
    "start_time": "2023-05-14T15:09:34.610Z"
   },
   {
    "duration": 103,
    "start_time": "2023-05-14T15:09:34.626Z"
   },
   {
    "duration": 235,
    "start_time": "2023-05-14T15:09:34.733Z"
   },
   {
    "duration": 1348,
    "start_time": "2023-05-14T15:09:34.970Z"
   },
   {
    "duration": 1101,
    "start_time": "2023-05-14T15:09:36.325Z"
   },
   {
    "duration": 327,
    "start_time": "2023-05-14T15:09:37.432Z"
   },
   {
    "duration": 94,
    "start_time": "2023-05-14T15:09:37.761Z"
   },
   {
    "duration": 74,
    "start_time": "2023-05-14T15:09:37.857Z"
   },
   {
    "duration": 1193,
    "start_time": "2023-05-14T15:09:37.935Z"
   },
   {
    "duration": 810,
    "start_time": "2023-05-14T15:09:39.130Z"
   },
   {
    "duration": 1006,
    "start_time": "2023-05-14T15:09:39.946Z"
   },
   {
    "duration": 767,
    "start_time": "2023-05-14T15:09:40.965Z"
   }
  ],
  "kernelspec": {
   "display_name": "Python 3 (ipykernel)",
   "language": "python",
   "name": "python3"
  },
  "language_info": {
   "codemirror_mode": {
    "name": "ipython",
    "version": 3
   },
   "file_extension": ".py",
   "mimetype": "text/x-python",
   "name": "python",
   "nbconvert_exporter": "python",
   "pygments_lexer": "ipython3",
   "version": "3.9.5"
  },
  "toc": {
   "base_numbering": 1,
   "nav_menu": {},
   "number_sections": true,
   "sideBar": true,
   "skip_h1_title": true,
   "title_cell": "Table of Contents",
   "title_sidebar": "Contents",
   "toc_cell": false,
   "toc_position": {},
   "toc_section_display": true,
   "toc_window_display": false
  }
 },
 "nbformat": 4,
 "nbformat_minor": 2
}
