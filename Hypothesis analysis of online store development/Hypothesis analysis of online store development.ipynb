{
 "cells": [
  {
   "attachments": {},
   "cell_type": "markdown",
   "metadata": {},
   "source": [
    "# Hypothesis analysis of online store development\n",
    "\n",
    "The following tasks should be accomplished as part of this study:\n",
    "- prepare a list of hypotheses for revenue growth\n",
    "- prioritize the hypotheses in the list\n",
    "- run an A/B test to test the selected hypotheses\n",
    "- analyze the results of the A/B-test and make recommendations for further actions\n",
    "\n",
    "**Summary**:  \n",
    "Conducted hypothesis prioritization on the ICE and RICE frameworks. Then I analyzed the results of the A/B-test and plotted the cumulative revenue, average check, conversion by groups, and then calculated the statistical significance of differences in conversions and average checks on raw and purified data. Based on the analysis, I decided that it was inexpedient to continue the test."
   ]
  },
  {
   "attachments": {},
   "cell_type": "markdown",
   "metadata": {},
   "source": [
    "## import libs"
   ]
  },
  {
   "cell_type": "code",
   "execution_count": 1,
   "metadata": {},
   "outputs": [],
   "source": [
    "# import libraries \n",
    "import pandas as pd\n",
    "import matplotlib.pyplot as plt\n",
    "import seaborn as sn\n",
    "from scipy import stats as st\n",
    "import numpy as np\n",
    "\n",
    "# set options\n",
    "pd.set_option('display.max_colwidth', None)\n",
    "pd.options.display.float_format = '{:20,.2f}'.format\n"
   ]
  },
  {
   "attachments": {},
   "cell_type": "markdown",
   "metadata": {},
   "source": [
    "## data reading"
   ]
  },
  {
   "cell_type": "code",
   "execution_count": 2,
   "metadata": {},
   "outputs": [],
   "source": [
    "# read data\n",
    "\n",
    "try:\n",
    "    hypothesis = pd.read_csv('/datasets/hypothesis.csv')\n",
    "    orders = pd.read_csv('/datasets/orders.csv')\n",
    "    visitors = pd.read_csv('/datasets/visitors.csv')\n",
    "except:\n",
    "    hypothesis = pd.read_csv('datasets\\\\hypothesis.csv')\n",
    "    orders = pd.read_csv('datasets\\\\orders.csv')\n",
    "    visitors = pd.read_csv('datasets\\\\visitors.csv')"
   ]
  },
  {
   "attachments": {},
   "cell_type": "markdown",
   "metadata": {},
   "source": [
    "## data cleaning"
   ]
  },
  {
   "cell_type": "code",
   "execution_count": 3,
   "metadata": {},
   "outputs": [],
   "source": [
    "# lowercase for columns' headers\n",
    "hypothesis.columns = [x.lower() for x in hypothesis.columns]\n",
    "\n",
    "# datetime in orders\n",
    "orders.date = pd.to_datetime(orders.date)\n",
    "\n",
    "# datetime in visitors\n",
    "visitors.date = pd.to_datetime(visitors.date)"
   ]
  },
  {
   "attachments": {},
   "cell_type": "markdown",
   "metadata": {},
   "source": [
    "## hypothesis prioritizing"
   ]
  },
  {
   "attachments": {},
   "cell_type": "markdown",
   "metadata": {},
   "source": [
    "### ICE framework"
   ]
  },
  {
   "cell_type": "code",
   "execution_count": 4,
   "metadata": {},
   "outputs": [
    {
     "data": {
      "text/html": [
       "<div>\n",
       "<style scoped>\n",
       "    .dataframe tbody tr th:only-of-type {\n",
       "        vertical-align: middle;\n",
       "    }\n",
       "\n",
       "    .dataframe tbody tr th {\n",
       "        vertical-align: top;\n",
       "    }\n",
       "\n",
       "    .dataframe thead th {\n",
       "        text-align: right;\n",
       "    }\n",
       "</style>\n",
       "<table border=\"1\" class=\"dataframe\">\n",
       "  <thead>\n",
       "    <tr style=\"text-align: right;\">\n",
       "      <th></th>\n",
       "      <th>hypothesis</th>\n",
       "      <th>reach</th>\n",
       "      <th>impact</th>\n",
       "      <th>confidence</th>\n",
       "      <th>efforts</th>\n",
       "      <th>ICE</th>\n",
       "      <th>ICE_priority</th>\n",
       "    </tr>\n",
       "  </thead>\n",
       "  <tbody>\n",
       "    <tr>\n",
       "      <th>8</th>\n",
       "      <td>Запустить акцию, дающую скидку на товар в день рождения</td>\n",
       "      <td>1</td>\n",
       "      <td>9</td>\n",
       "      <td>9</td>\n",
       "      <td>5</td>\n",
       "      <td>16.20</td>\n",
       "      <td>1.00</td>\n",
       "    </tr>\n",
       "    <tr>\n",
       "      <th>0</th>\n",
       "      <td>Добавить два новых канала привлечения трафика, что позволит привлекать на 30% больше пользователей</td>\n",
       "      <td>3</td>\n",
       "      <td>10</td>\n",
       "      <td>8</td>\n",
       "      <td>6</td>\n",
       "      <td>13.33</td>\n",
       "      <td>2.00</td>\n",
       "    </tr>\n",
       "    <tr>\n",
       "      <th>7</th>\n",
       "      <td>Добавить форму подписки на все основные страницы, чтобы собрать базу клиентов для email-рассылок</td>\n",
       "      <td>10</td>\n",
       "      <td>7</td>\n",
       "      <td>8</td>\n",
       "      <td>5</td>\n",
       "      <td>11.20</td>\n",
       "      <td>3.00</td>\n",
       "    </tr>\n",
       "    <tr>\n",
       "      <th>6</th>\n",
       "      <td>Показать на главной странице баннеры с актуальными акциями и распродажами, чтобы увеличить конверсию</td>\n",
       "      <td>5</td>\n",
       "      <td>3</td>\n",
       "      <td>8</td>\n",
       "      <td>3</td>\n",
       "      <td>8.00</td>\n",
       "      <td>4.00</td>\n",
       "    </tr>\n",
       "    <tr>\n",
       "      <th>2</th>\n",
       "      <td>Добавить блоки рекомендаций товаров на сайт интернет магазина, чтобы повысить конверсию и средний чек заказа</td>\n",
       "      <td>8</td>\n",
       "      <td>3</td>\n",
       "      <td>7</td>\n",
       "      <td>3</td>\n",
       "      <td>7.00</td>\n",
       "      <td>5.00</td>\n",
       "    </tr>\n",
       "    <tr>\n",
       "      <th>1</th>\n",
       "      <td>Запустить собственную службу доставки, что сократит срок доставки заказов</td>\n",
       "      <td>2</td>\n",
       "      <td>5</td>\n",
       "      <td>4</td>\n",
       "      <td>10</td>\n",
       "      <td>2.00</td>\n",
       "      <td>6.00</td>\n",
       "    </tr>\n",
       "    <tr>\n",
       "      <th>5</th>\n",
       "      <td>Добавить страницу отзывов клиентов о магазине, что позволит увеличить количество заказов</td>\n",
       "      <td>3</td>\n",
       "      <td>2</td>\n",
       "      <td>2</td>\n",
       "      <td>3</td>\n",
       "      <td>1.33</td>\n",
       "      <td>7.00</td>\n",
       "    </tr>\n",
       "    <tr>\n",
       "      <th>3</th>\n",
       "      <td>Изменить структура категорий, что увеличит конверсию, т.к. пользователи быстрее найдут нужный товар</td>\n",
       "      <td>8</td>\n",
       "      <td>3</td>\n",
       "      <td>3</td>\n",
       "      <td>8</td>\n",
       "      <td>1.12</td>\n",
       "      <td>8.00</td>\n",
       "    </tr>\n",
       "    <tr>\n",
       "      <th>4</th>\n",
       "      <td>Изменить цвет фона главной страницы, чтобы увеличить вовлеченность пользователей</td>\n",
       "      <td>3</td>\n",
       "      <td>1</td>\n",
       "      <td>1</td>\n",
       "      <td>1</td>\n",
       "      <td>1.00</td>\n",
       "      <td>9.00</td>\n",
       "    </tr>\n",
       "  </tbody>\n",
       "</table>\n",
       "</div>"
      ],
      "text/plain": [
       "                                                                                                     hypothesis  \\\n",
       "8                                                       Запустить акцию, дающую скидку на товар в день рождения   \n",
       "0            Добавить два новых канала привлечения трафика, что позволит привлекать на 30% больше пользователей   \n",
       "7              Добавить форму подписки на все основные страницы, чтобы собрать базу клиентов для email-рассылок   \n",
       "6          Показать на главной странице баннеры с актуальными акциями и распродажами, чтобы увеличить конверсию   \n",
       "2  Добавить блоки рекомендаций товаров на сайт интернет магазина, чтобы повысить конверсию и средний чек заказа   \n",
       "1                                     Запустить собственную службу доставки, что сократит срок доставки заказов   \n",
       "5                      Добавить страницу отзывов клиентов о магазине, что позволит увеличить количество заказов   \n",
       "3           Изменить структура категорий, что увеличит конверсию, т.к. пользователи быстрее найдут нужный товар   \n",
       "4                              Изменить цвет фона главной страницы, чтобы увеличить вовлеченность пользователей   \n",
       "\n",
       "   reach  impact  confidence  efforts                  ICE  \\\n",
       "8      1       9           9        5                16.20   \n",
       "0      3      10           8        6                13.33   \n",
       "7     10       7           8        5                11.20   \n",
       "6      5       3           8        3                 8.00   \n",
       "2      8       3           7        3                 7.00   \n",
       "1      2       5           4       10                 2.00   \n",
       "5      3       2           2        3                 1.33   \n",
       "3      8       3           3        8                 1.12   \n",
       "4      3       1           1        1                 1.00   \n",
       "\n",
       "          ICE_priority  \n",
       "8                 1.00  \n",
       "0                 2.00  \n",
       "7                 3.00  \n",
       "6                 4.00  \n",
       "2                 5.00  \n",
       "1                 6.00  \n",
       "5                 7.00  \n",
       "3                 8.00  \n",
       "4                 9.00  "
      ]
     },
     "metadata": {},
     "output_type": "display_data"
    }
   ],
   "source": [
    "hypothesis['ICE'] = hypothesis.impact * hypothesis.confidence / hypothesis.efforts\n",
    "hypothesis['ICE_priority'] = hypothesis.ICE.rank(method='max', ascending=False)\n",
    "display(hypothesis.sort_values('ICE', ascending=False))"
   ]
  },
  {
   "attachments": {},
   "cell_type": "markdown",
   "metadata": {},
   "source": [
    "### RICE framework"
   ]
  },
  {
   "cell_type": "code",
   "execution_count": 5,
   "metadata": {},
   "outputs": [
    {
     "data": {
      "text/html": [
       "<div>\n",
       "<style scoped>\n",
       "    .dataframe tbody tr th:only-of-type {\n",
       "        vertical-align: middle;\n",
       "    }\n",
       "\n",
       "    .dataframe tbody tr th {\n",
       "        vertical-align: top;\n",
       "    }\n",
       "\n",
       "    .dataframe thead th {\n",
       "        text-align: right;\n",
       "    }\n",
       "</style>\n",
       "<table border=\"1\" class=\"dataframe\">\n",
       "  <thead>\n",
       "    <tr style=\"text-align: right;\">\n",
       "      <th></th>\n",
       "      <th>hypothesis</th>\n",
       "      <th>reach</th>\n",
       "      <th>impact</th>\n",
       "      <th>confidence</th>\n",
       "      <th>efforts</th>\n",
       "      <th>ICE</th>\n",
       "      <th>ICE_priority</th>\n",
       "      <th>RICE</th>\n",
       "      <th>RICE_priority</th>\n",
       "    </tr>\n",
       "  </thead>\n",
       "  <tbody>\n",
       "    <tr>\n",
       "      <th>7</th>\n",
       "      <td>Добавить форму подписки на все основные страницы, чтобы собрать базу клиентов для email-рассылок</td>\n",
       "      <td>10</td>\n",
       "      <td>7</td>\n",
       "      <td>8</td>\n",
       "      <td>5</td>\n",
       "      <td>11.20</td>\n",
       "      <td>3.00</td>\n",
       "      <td>112.00</td>\n",
       "      <td>1.00</td>\n",
       "    </tr>\n",
       "    <tr>\n",
       "      <th>2</th>\n",
       "      <td>Добавить блоки рекомендаций товаров на сайт интернет магазина, чтобы повысить конверсию и средний чек заказа</td>\n",
       "      <td>8</td>\n",
       "      <td>3</td>\n",
       "      <td>7</td>\n",
       "      <td>3</td>\n",
       "      <td>7.00</td>\n",
       "      <td>5.00</td>\n",
       "      <td>56.00</td>\n",
       "      <td>2.00</td>\n",
       "    </tr>\n",
       "    <tr>\n",
       "      <th>0</th>\n",
       "      <td>Добавить два новых канала привлечения трафика, что позволит привлекать на 30% больше пользователей</td>\n",
       "      <td>3</td>\n",
       "      <td>10</td>\n",
       "      <td>8</td>\n",
       "      <td>6</td>\n",
       "      <td>13.33</td>\n",
       "      <td>2.00</td>\n",
       "      <td>40.00</td>\n",
       "      <td>4.00</td>\n",
       "    </tr>\n",
       "    <tr>\n",
       "      <th>6</th>\n",
       "      <td>Показать на главной странице баннеры с актуальными акциями и распродажами, чтобы увеличить конверсию</td>\n",
       "      <td>5</td>\n",
       "      <td>3</td>\n",
       "      <td>8</td>\n",
       "      <td>3</td>\n",
       "      <td>8.00</td>\n",
       "      <td>4.00</td>\n",
       "      <td>40.00</td>\n",
       "      <td>4.00</td>\n",
       "    </tr>\n",
       "    <tr>\n",
       "      <th>8</th>\n",
       "      <td>Запустить акцию, дающую скидку на товар в день рождения</td>\n",
       "      <td>1</td>\n",
       "      <td>9</td>\n",
       "      <td>9</td>\n",
       "      <td>5</td>\n",
       "      <td>16.20</td>\n",
       "      <td>1.00</td>\n",
       "      <td>16.20</td>\n",
       "      <td>5.00</td>\n",
       "    </tr>\n",
       "    <tr>\n",
       "      <th>3</th>\n",
       "      <td>Изменить структура категорий, что увеличит конверсию, т.к. пользователи быстрее найдут нужный товар</td>\n",
       "      <td>8</td>\n",
       "      <td>3</td>\n",
       "      <td>3</td>\n",
       "      <td>8</td>\n",
       "      <td>1.12</td>\n",
       "      <td>8.00</td>\n",
       "      <td>9.00</td>\n",
       "      <td>6.00</td>\n",
       "    </tr>\n",
       "    <tr>\n",
       "      <th>1</th>\n",
       "      <td>Запустить собственную службу доставки, что сократит срок доставки заказов</td>\n",
       "      <td>2</td>\n",
       "      <td>5</td>\n",
       "      <td>4</td>\n",
       "      <td>10</td>\n",
       "      <td>2.00</td>\n",
       "      <td>6.00</td>\n",
       "      <td>4.00</td>\n",
       "      <td>8.00</td>\n",
       "    </tr>\n",
       "    <tr>\n",
       "      <th>5</th>\n",
       "      <td>Добавить страницу отзывов клиентов о магазине, что позволит увеличить количество заказов</td>\n",
       "      <td>3</td>\n",
       "      <td>2</td>\n",
       "      <td>2</td>\n",
       "      <td>3</td>\n",
       "      <td>1.33</td>\n",
       "      <td>7.00</td>\n",
       "      <td>4.00</td>\n",
       "      <td>8.00</td>\n",
       "    </tr>\n",
       "    <tr>\n",
       "      <th>4</th>\n",
       "      <td>Изменить цвет фона главной страницы, чтобы увеличить вовлеченность пользователей</td>\n",
       "      <td>3</td>\n",
       "      <td>1</td>\n",
       "      <td>1</td>\n",
       "      <td>1</td>\n",
       "      <td>1.00</td>\n",
       "      <td>9.00</td>\n",
       "      <td>3.00</td>\n",
       "      <td>9.00</td>\n",
       "    </tr>\n",
       "  </tbody>\n",
       "</table>\n",
       "</div>"
      ],
      "text/plain": [
       "                                                                                                     hypothesis  \\\n",
       "7              Добавить форму подписки на все основные страницы, чтобы собрать базу клиентов для email-рассылок   \n",
       "2  Добавить блоки рекомендаций товаров на сайт интернет магазина, чтобы повысить конверсию и средний чек заказа   \n",
       "0            Добавить два новых канала привлечения трафика, что позволит привлекать на 30% больше пользователей   \n",
       "6          Показать на главной странице баннеры с актуальными акциями и распродажами, чтобы увеличить конверсию   \n",
       "8                                                       Запустить акцию, дающую скидку на товар в день рождения   \n",
       "3           Изменить структура категорий, что увеличит конверсию, т.к. пользователи быстрее найдут нужный товар   \n",
       "1                                     Запустить собственную службу доставки, что сократит срок доставки заказов   \n",
       "5                      Добавить страницу отзывов клиентов о магазине, что позволит увеличить количество заказов   \n",
       "4                              Изменить цвет фона главной страницы, чтобы увеличить вовлеченность пользователей   \n",
       "\n",
       "   reach  impact  confidence  efforts                  ICE  \\\n",
       "7     10       7           8        5                11.20   \n",
       "2      8       3           7        3                 7.00   \n",
       "0      3      10           8        6                13.33   \n",
       "6      5       3           8        3                 8.00   \n",
       "8      1       9           9        5                16.20   \n",
       "3      8       3           3        8                 1.12   \n",
       "1      2       5           4       10                 2.00   \n",
       "5      3       2           2        3                 1.33   \n",
       "4      3       1           1        1                 1.00   \n",
       "\n",
       "          ICE_priority                 RICE        RICE_priority  \n",
       "7                 3.00               112.00                 1.00  \n",
       "2                 5.00                56.00                 2.00  \n",
       "0                 2.00                40.00                 4.00  \n",
       "6                 4.00                40.00                 4.00  \n",
       "8                 1.00                16.20                 5.00  \n",
       "3                 8.00                 9.00                 6.00  \n",
       "1                 6.00                 4.00                 8.00  \n",
       "5                 7.00                 4.00                 8.00  \n",
       "4                 9.00                 3.00                 9.00  "
      ]
     },
     "metadata": {},
     "output_type": "display_data"
    }
   ],
   "source": [
    "hypothesis['RICE'] = hypothesis.reach * hypothesis.impact * hypothesis.confidence / hypothesis.efforts\n",
    "hypothesis['RICE_priority'] = hypothesis.RICE.rank(method='max', ascending=False)\n",
    "display(hypothesis.sort_values('RICE', ascending=False))"
   ]
  },
  {
   "attachments": {},
   "cell_type": "markdown",
   "metadata": {},
   "source": [
    "### conclusion\n",
    "\n",
    "When applying the RICE methodology, the following changes occurred in the priorities of hypothesis implementation:\n",
    "- six hypotheses changed their priority\n",
    "- the priority of hypotheses #6, 1, 4 did not change\n",
    "- The highest-priority hypothesis to analyze: \"Add a subscription form to all main pages to gather a customer base for email newsletters\"\n",
    "\n",
    "The changes were due to the fact that the RICE methodology in addition to the Impact, Confidence, Effort (Ease) factors takes into account an additional factor Reach, which allows prioritizing hypotheses (tasks) depending on the potential audience reach. \n",
    "\n",
    "Translated with www.DeepL.com/Translator (free version)"
   ]
  },
  {
   "attachments": {},
   "cell_type": "markdown",
   "metadata": {},
   "source": [
    "## A/B test\n",
    "\n",
    "A/B test parameters:\n",
    "- There are two groups in the test\n",
    "- test start date: 2019-08-01\n",
    "- test end date: 2019-08-31\n",
    "- the groups are balanced as follows:\n",
    "    - group A 46.2%\n",
    "    - group B 53.8%"
   ]
  },
  {
   "cell_type": "code",
   "execution_count": 6,
   "metadata": {},
   "outputs": [
    {
     "data": {
      "text/html": [
       "<div>\n",
       "<style scoped>\n",
       "    .dataframe tbody tr th:only-of-type {\n",
       "        vertical-align: middle;\n",
       "    }\n",
       "\n",
       "    .dataframe tbody tr th {\n",
       "        vertical-align: top;\n",
       "    }\n",
       "\n",
       "    .dataframe thead th {\n",
       "        text-align: right;\n",
       "    }\n",
       "</style>\n",
       "<table border=\"1\" class=\"dataframe\">\n",
       "  <thead>\n",
       "    <tr style=\"text-align: right;\">\n",
       "      <th></th>\n",
       "      <th>group</th>\n",
       "      <th>visitorId</th>\n",
       "      <th>share</th>\n",
       "    </tr>\n",
       "  </thead>\n",
       "  <tbody>\n",
       "    <tr>\n",
       "      <th>0</th>\n",
       "      <td>A</td>\n",
       "      <td>503</td>\n",
       "      <td>0.46</td>\n",
       "    </tr>\n",
       "    <tr>\n",
       "      <th>1</th>\n",
       "      <td>B</td>\n",
       "      <td>586</td>\n",
       "      <td>0.54</td>\n",
       "    </tr>\n",
       "  </tbody>\n",
       "</table>\n",
       "</div>"
      ],
      "text/plain": [
       "  group  visitorId                share\n",
       "0     A        503                 0.46\n",
       "1     B        586                 0.54"
      ]
     },
     "metadata": {},
     "output_type": "display_data"
    }
   ],
   "source": [
    "check = orders.groupby('group',as_index=False).agg({'visitorId':'nunique'})\n",
    "check['share'] = check.visitorId / check.visitorId.sum()\n",
    "display(check)"
   ]
  },
  {
   "cell_type": "code",
   "execution_count": 7,
   "metadata": {},
   "outputs": [
    {
     "name": "stdout",
     "output_type": "stream",
     "text": [
      "wrong visitors 58\n",
      "share of wrong visitors, %: 5.6\n",
      "duplicates\n"
     ]
    },
    {
     "data": {
      "text/html": [
       "<div>\n",
       "<style scoped>\n",
       "    .dataframe tbody tr th:only-of-type {\n",
       "        vertical-align: middle;\n",
       "    }\n",
       "\n",
       "    .dataframe tbody tr th {\n",
       "        vertical-align: top;\n",
       "    }\n",
       "\n",
       "    .dataframe thead th {\n",
       "        text-align: right;\n",
       "    }\n",
       "</style>\n",
       "<table border=\"1\" class=\"dataframe\">\n",
       "  <thead>\n",
       "    <tr style=\"text-align: right;\">\n",
       "      <th></th>\n",
       "      <th>transactionId</th>\n",
       "      <th>visitorId</th>\n",
       "      <th>date</th>\n",
       "      <th>revenue</th>\n",
       "      <th>group</th>\n",
       "    </tr>\n",
       "  </thead>\n",
       "  <tbody>\n",
       "  </tbody>\n",
       "</table>\n",
       "</div>"
      ],
      "text/plain": [
       "Empty DataFrame\n",
       "Columns: [transactionId, visitorId, date, revenue, group]\n",
       "Index: []"
      ]
     },
     "metadata": {},
     "output_type": "display_data"
    },
    {
     "data": {
      "text/html": [
       "<div>\n",
       "<style scoped>\n",
       "    .dataframe tbody tr th:only-of-type {\n",
       "        vertical-align: middle;\n",
       "    }\n",
       "\n",
       "    .dataframe tbody tr th {\n",
       "        vertical-align: top;\n",
       "    }\n",
       "\n",
       "    .dataframe thead th {\n",
       "        text-align: right;\n",
       "    }\n",
       "</style>\n",
       "<table border=\"1\" class=\"dataframe\">\n",
       "  <thead>\n",
       "    <tr style=\"text-align: right;\">\n",
       "      <th></th>\n",
       "      <th>date</th>\n",
       "      <th>group</th>\n",
       "      <th>visitors</th>\n",
       "    </tr>\n",
       "  </thead>\n",
       "  <tbody>\n",
       "  </tbody>\n",
       "</table>\n",
       "</div>"
      ],
      "text/plain": [
       "Empty DataFrame\n",
       "Columns: [date, group, visitors]\n",
       "Index: []"
      ]
     },
     "metadata": {},
     "output_type": "display_data"
    },
    {
     "name": "stdout",
     "output_type": "stream",
     "text": [
      "empty values\n"
     ]
    },
    {
     "data": {
      "text/plain": [
       "transactionId    0\n",
       "visitorId        0\n",
       "date             0\n",
       "revenue          0\n",
       "group            0\n",
       "dtype: int64"
      ]
     },
     "metadata": {},
     "output_type": "display_data"
    },
    {
     "data": {
      "text/plain": [
       "date        0\n",
       "group       0\n",
       "visitors    0\n",
       "dtype: int64"
      ]
     },
     "metadata": {},
     "output_type": "display_data"
    }
   ],
   "source": [
    "# проверка ошибок разделения пользователей на группы \n",
    "wrong_visitors = orders.groupby('visitorId', as_index=False).agg({'group':'nunique'}).query('group > 1')['visitorId']\n",
    "print('wrong visitors', len(wrong_visitors))\n",
    "print('share of wrong visitors, %:', round(len(wrong_visitors) / orders.visitorId.nunique() * 100, 1))\n",
    "# orders = orders.query('~visitorId.isin(@wrong_visitors)')\n",
    "\n",
    "# проверка явных дубликатов\n",
    "print('duplicates')\n",
    "display(orders[orders.duplicated()])\n",
    "display(visitors[visitors.duplicated()])\n",
    "\n",
    "# проверка пустых значений\n",
    "print('empty values')\n",
    "display(orders.isna().sum())\n",
    "display(visitors.isna().sum())\n"
   ]
  },
  {
   "cell_type": "code",
   "execution_count": 8,
   "metadata": {},
   "outputs": [
    {
     "data": {
      "text/html": [
       "<div>\n",
       "<style scoped>\n",
       "    .dataframe tbody tr th:only-of-type {\n",
       "        vertical-align: middle;\n",
       "    }\n",
       "\n",
       "    .dataframe tbody tr th {\n",
       "        vertical-align: top;\n",
       "    }\n",
       "\n",
       "    .dataframe thead th {\n",
       "        text-align: right;\n",
       "    }\n",
       "</style>\n",
       "<table border=\"1\" class=\"dataframe\">\n",
       "  <thead>\n",
       "    <tr style=\"text-align: right;\">\n",
       "      <th></th>\n",
       "      <th>date</th>\n",
       "      <th>group</th>\n",
       "      <th>revenue</th>\n",
       "      <th>orders</th>\n",
       "      <th>customers</th>\n",
       "      <th>cum_revenue</th>\n",
       "      <th>cum_orders</th>\n",
       "      <th>cum_customers</th>\n",
       "    </tr>\n",
       "  </thead>\n",
       "  <tbody>\n",
       "    <tr>\n",
       "      <th>0</th>\n",
       "      <td>2019-08-01</td>\n",
       "      <td>A</td>\n",
       "      <td>148579</td>\n",
       "      <td>24</td>\n",
       "      <td>20</td>\n",
       "      <td>148579</td>\n",
       "      <td>24</td>\n",
       "      <td>20</td>\n",
       "    </tr>\n",
       "    <tr>\n",
       "      <th>1</th>\n",
       "      <td>2019-08-02</td>\n",
       "      <td>A</td>\n",
       "      <td>93822</td>\n",
       "      <td>20</td>\n",
       "      <td>19</td>\n",
       "      <td>242401</td>\n",
       "      <td>44</td>\n",
       "      <td>39</td>\n",
       "    </tr>\n",
       "    <tr>\n",
       "      <th>2</th>\n",
       "      <td>2019-08-03</td>\n",
       "      <td>A</td>\n",
       "      <td>112473</td>\n",
       "      <td>24</td>\n",
       "      <td>24</td>\n",
       "      <td>354874</td>\n",
       "      <td>68</td>\n",
       "      <td>63</td>\n",
       "    </tr>\n",
       "    <tr>\n",
       "      <th>3</th>\n",
       "      <td>2019-08-04</td>\n",
       "      <td>A</td>\n",
       "      <td>70825</td>\n",
       "      <td>16</td>\n",
       "      <td>15</td>\n",
       "      <td>425699</td>\n",
       "      <td>84</td>\n",
       "      <td>78</td>\n",
       "    </tr>\n",
       "    <tr>\n",
       "      <th>4</th>\n",
       "      <td>2019-08-05</td>\n",
       "      <td>A</td>\n",
       "      <td>124218</td>\n",
       "      <td>25</td>\n",
       "      <td>25</td>\n",
       "      <td>549917</td>\n",
       "      <td>109</td>\n",
       "      <td>103</td>\n",
       "    </tr>\n",
       "  </tbody>\n",
       "</table>\n",
       "</div>"
      ],
      "text/plain": [
       "        date group  revenue  orders  customers  cum_revenue  cum_orders  \\\n",
       "0 2019-08-01     A   148579      24         20       148579          24   \n",
       "1 2019-08-02     A    93822      20         19       242401          44   \n",
       "2 2019-08-03     A   112473      24         24       354874          68   \n",
       "3 2019-08-04     A    70825      16         15       425699          84   \n",
       "4 2019-08-05     A   124218      25         25       549917         109   \n",
       "\n",
       "   cum_customers  \n",
       "0             20  \n",
       "1             39  \n",
       "2             63  \n",
       "3             78  \n",
       "4            103  "
      ]
     },
     "metadata": {},
     "output_type": "display_data"
    }
   ],
   "source": [
    "# подготовка кумулятивных данных для группы A\n",
    "\n",
    "# separate group A\n",
    "A = orders.query('group == \"A\"')\n",
    "\n",
    "# group and aggregate data by days \n",
    "A = A.groupby('date', as_index=False).agg({\n",
    "    'group':'max', \n",
    "    'revenue':'sum', \n",
    "    'transactionId':'nunique', \n",
    "    'visitorId':'nunique'\n",
    "    })\n",
    "\n",
    "# rename columns\n",
    "A = A.rename(columns={'transactionId':'orders', 'visitorId':'customers'})\n",
    "\n",
    "# add cumulative data\n",
    "A['cum_revenue'] = A.apply(lambda x: A[A.date <= x.date].agg({'revenue':'sum'}), axis=1)\n",
    "A['cum_orders'] = A.apply(lambda x: A[A.date <= x.date].agg({'orders':'sum'}), axis=1)\n",
    "A['cum_customers'] = A.apply(lambda x: A[A.date <= x.date].agg({'customers':'sum'}), axis=1)\n",
    "\n",
    "display(A.head())"
   ]
  },
  {
   "cell_type": "code",
   "execution_count": 9,
   "metadata": {},
   "outputs": [
    {
     "data": {
      "text/html": [
       "<div>\n",
       "<style scoped>\n",
       "    .dataframe tbody tr th:only-of-type {\n",
       "        vertical-align: middle;\n",
       "    }\n",
       "\n",
       "    .dataframe tbody tr th {\n",
       "        vertical-align: top;\n",
       "    }\n",
       "\n",
       "    .dataframe thead th {\n",
       "        text-align: right;\n",
       "    }\n",
       "</style>\n",
       "<table border=\"1\" class=\"dataframe\">\n",
       "  <thead>\n",
       "    <tr style=\"text-align: right;\">\n",
       "      <th></th>\n",
       "      <th>date</th>\n",
       "      <th>group</th>\n",
       "      <th>revenue</th>\n",
       "      <th>orders</th>\n",
       "      <th>customers</th>\n",
       "      <th>cum_revenue</th>\n",
       "      <th>cum_orders</th>\n",
       "      <th>cum_customers</th>\n",
       "    </tr>\n",
       "  </thead>\n",
       "  <tbody>\n",
       "    <tr>\n",
       "      <th>0</th>\n",
       "      <td>2019-08-01</td>\n",
       "      <td>B</td>\n",
       "      <td>101217</td>\n",
       "      <td>21</td>\n",
       "      <td>20</td>\n",
       "      <td>101217</td>\n",
       "      <td>21</td>\n",
       "      <td>20</td>\n",
       "    </tr>\n",
       "    <tr>\n",
       "      <th>1</th>\n",
       "      <td>2019-08-02</td>\n",
       "      <td>B</td>\n",
       "      <td>165531</td>\n",
       "      <td>24</td>\n",
       "      <td>23</td>\n",
       "      <td>266748</td>\n",
       "      <td>45</td>\n",
       "      <td>43</td>\n",
       "    </tr>\n",
       "    <tr>\n",
       "      <th>2</th>\n",
       "      <td>2019-08-03</td>\n",
       "      <td>B</td>\n",
       "      <td>114248</td>\n",
       "      <td>16</td>\n",
       "      <td>16</td>\n",
       "      <td>380996</td>\n",
       "      <td>61</td>\n",
       "      <td>59</td>\n",
       "    </tr>\n",
       "    <tr>\n",
       "      <th>3</th>\n",
       "      <td>2019-08-04</td>\n",
       "      <td>B</td>\n",
       "      <td>108571</td>\n",
       "      <td>17</td>\n",
       "      <td>16</td>\n",
       "      <td>489567</td>\n",
       "      <td>78</td>\n",
       "      <td>75</td>\n",
       "    </tr>\n",
       "    <tr>\n",
       "      <th>4</th>\n",
       "      <td>2019-08-05</td>\n",
       "      <td>B</td>\n",
       "      <td>92428</td>\n",
       "      <td>23</td>\n",
       "      <td>23</td>\n",
       "      <td>581995</td>\n",
       "      <td>101</td>\n",
       "      <td>98</td>\n",
       "    </tr>\n",
       "  </tbody>\n",
       "</table>\n",
       "</div>"
      ],
      "text/plain": [
       "        date group  revenue  orders  customers  cum_revenue  cum_orders  \\\n",
       "0 2019-08-01     B   101217      21         20       101217          21   \n",
       "1 2019-08-02     B   165531      24         23       266748          45   \n",
       "2 2019-08-03     B   114248      16         16       380996          61   \n",
       "3 2019-08-04     B   108571      17         16       489567          78   \n",
       "4 2019-08-05     B    92428      23         23       581995         101   \n",
       "\n",
       "   cum_customers  \n",
       "0             20  \n",
       "1             43  \n",
       "2             59  \n",
       "3             75  \n",
       "4             98  "
      ]
     },
     "metadata": {},
     "output_type": "display_data"
    }
   ],
   "source": [
    "# подготовка кумулятивных данных для группы B\n",
    "\n",
    "# separate group B\n",
    "B = orders.query('group == \"B\"')\n",
    "\n",
    "# group and aggregate data by days \n",
    "B = B.groupby('date', as_index=False).agg({\n",
    "    'group':'max', \n",
    "    'revenue':'sum', \n",
    "    'transactionId':'nunique', \n",
    "    'visitorId':'nunique'\n",
    "    })\n",
    "\n",
    "# rename columns\n",
    "B = B.rename(columns={'transactionId':'orders', 'visitorId':'customers'})\n",
    "\n",
    "# add cumulative data\n",
    "B['cum_revenue'] = B.apply(lambda x: B[B.date <= x.date].agg({'revenue':'sum'}), axis=1)\n",
    "B['cum_orders'] = B.apply(lambda x: B[B.date <= x.date].agg({'orders':'sum'}), axis=1)\n",
    "B['cum_customers'] = B.apply(lambda x: B[B.date <= x.date].agg({'customers':'sum'}), axis=1)\n",
    "\n",
    "display(B.head())"
   ]
  },
  {
   "attachments": {},
   "cell_type": "markdown",
   "metadata": {},
   "source": [
    "### cumulative revenue by group"
   ]
  },
  {
   "cell_type": "code",
   "execution_count": 10,
   "metadata": {},
   "outputs": [
    {
     "data": {
      "image/png": "[encoded data removed]",
      "text/plain": [
       "<Figure size 576x216 with 1 Axes>"
      ]
     },
     "metadata": {
      "needs_background": "light"
     },
     "output_type": "display_data"
    }
   ],
   "source": [
    "plt.figure(figsize=(8,3))\n",
    "\n",
    "plt.plot(A.date, A.cum_revenue, label='A')\n",
    "plt.plot(B.date, B.cum_revenue, label='B')\n",
    "\n",
    "plt.legend()\n",
    "plt.title('Cumulative revenue per group')\n",
    "plt.ticklabel_format(axis='y', style='plain')\n",
    "plt.yticks(fontsize=8)\n",
    "plt.xticks(rotation=45, fontsize=8)\n",
    "plt.ylabel('cumulative revenue')\n",
    "plt.xlabel('date')\n",
    "plt.grid()\n",
    "plt.show();\n"
   ]
  },
  {
   "attachments": {},
   "cell_type": "markdown",
   "metadata": {},
   "source": [
    "**conclusions**\n",
    "- cumulative revenue in Group B is higher than in Group A\n",
    "- there is a spike in Group B revenue between August 17 and 21. There is a possible outlier. Should be checked and removed if confirmed"
   ]
  },
  {
   "attachments": {},
   "cell_type": "markdown",
   "metadata": {},
   "source": [
    "### cumulative average check by group"
   ]
  },
  {
   "cell_type": "code",
   "execution_count": 11,
   "metadata": {},
   "outputs": [
    {
     "data": {
      "image/png": "[encoded data removed]",
      "text/plain": [
       "<Figure size 576x216 with 1 Axes>"
      ]
     },
     "metadata": {
      "needs_background": "light"
     },
     "output_type": "display_data"
    }
   ],
   "source": [
    "plt.figure(figsize=(8,3))\n",
    "\n",
    "plt.plot(A.date, A.cum_revenue / A.cum_orders, label='A')\n",
    "plt.plot(B.date, B.cum_revenue / B.cum_orders, label='B')\n",
    "\n",
    "plt.legend()\n",
    "plt.title('cumulative revenue per order per group')\n",
    "plt.ticklabel_format(axis='y', style='plain')\n",
    "plt.yticks(fontsize=8)\n",
    "plt.xticks(rotation=45, fontsize=8)\n",
    "plt.ylabel('cumulative revenue per order')\n",
    "plt.xlabel('date')\n",
    "plt.grid()\n",
    "plt.show();"
   ]
  },
  {
   "attachments": {},
   "cell_type": "markdown",
   "metadata": {},
   "source": [
    "**conclusions**\n",
    "- Group B is also higher than Group A in terms of the average check\n",
    "- The average receipt of Group A leveled off by the middle of August, but began to fluctuate again at the end of August. Perhaps they were caused by an increase in consumption before the school season. If there is an opportunity to look at the product groups which caused the growth of the average check, we will be able to confirm or refute this version. For now, we can assume that the test stabilized in mid-August.\n",
    "- Group B's cumulative average check was heavily influenced by the spike between August 17 and 21 mentioned earlier. There is a growing suspicion of a spike \n",
    "- Group A cumulative average check was influenced by the rise on August 13"
   ]
  },
  {
   "attachments": {},
   "cell_type": "markdown",
   "metadata": {},
   "source": [
    "### the relative change in the cumulative average check of group B to group A"
   ]
  },
  {
   "cell_type": "code",
   "execution_count": 12,
   "metadata": {},
   "outputs": [
    {
     "data": {
      "image/png": "[encoded data removed]",
      "text/plain": [
       "<Figure size 576x216 with 1 Axes>"
      ]
     },
     "metadata": {
      "needs_background": "light"
     },
     "output_type": "display_data"
    }
   ],
   "source": [
    "# объединим датасеты, чтобы посчитать относительное изменение метрики\n",
    "merged = A.merge(B, on='date', how='left', suffixes=['A', 'B'])\n",
    "\n",
    "plt.figure(figsize=(8,3))\n",
    "merged\n",
    "plt.plot(merged.date, ((merged.cum_revenueB / merged.cum_ordersB) / (merged.cum_revenueA / merged.cum_ordersA) - 1)*100)\n",
    "plt.axhline(y=0, color='black', linestyle='--') \n",
    "\n",
    "plt.title('relative variation of revenue per order, group B vs group A')\n",
    "plt.ticklabel_format(axis='y', style='plain')\n",
    "plt.yticks(fontsize=8)\n",
    "plt.xticks(rotation=45, fontsize=8)\n",
    "plt.ylabel('%')\n",
    "plt.xlabel('date')\n",
    "plt.grid()\n",
    "plt.show();"
   ]
  },
  {
   "attachments": {},
   "cell_type": "markdown",
   "metadata": {},
   "source": [
    "**conclusions**\n",
    "- large fluctuations in the relative cumulative average check during the month\n",
    "- test results fluctuated significantly several times\n",
    "- abnormal purchases on spike dates in both groups could be the possible cause of the changes"
   ]
  },
  {
   "attachments": {},
   "cell_type": "markdown",
   "metadata": {},
   "source": [
    "### cumulative average number of orders per visitor by group"
   ]
  },
  {
   "cell_type": "code",
   "execution_count": 13,
   "metadata": {},
   "outputs": [],
   "source": [
    "# добавим посетителей в датасеты каждой группы\n",
    "A = A.merge(visitors.query('group ==\"A\"')[['date', 'visitors']], on='date', how='left')\n",
    "A['cum_visitors'] = A.apply(lambda x: A[A.date <= x.date].agg({'visitors':'sum'}), axis=1)\n",
    "\n",
    "B = B.merge(visitors.query('group ==\"B\"')[['date', 'visitors']], on='date', how='left')\n",
    "B['cum_visitors'] = B.apply(lambda x: B[B.date <= x.date].agg({'visitors':'sum'}), axis=1)"
   ]
  },
  {
   "cell_type": "code",
   "execution_count": 14,
   "metadata": {},
   "outputs": [
    {
     "data": {
      "image/png": "[encoded data removed]",
      "text/plain": [
       "<Figure size 576x216 with 1 Axes>"
      ]
     },
     "metadata": {
      "needs_background": "light"
     },
     "output_type": "display_data"
    }
   ],
   "source": [
    "plt.figure(figsize=(8,3))\n",
    "\n",
    "plt.plot(A.date, A.cum_orders / A.cum_visitors, label='A')\n",
    "plt.plot(B.date, B.cum_orders / B.cum_visitors, label='B')\n",
    "\n",
    "plt.legend()\n",
    "plt.title('cumulative orders per visitors per group')\n",
    "plt.ticklabel_format(axis='y', style='plain')\n",
    "plt.yticks(fontsize=8)\n",
    "plt.xticks(rotation=45, fontsize=8)\n",
    "plt.ylabel('cumulative orders per visitors')\n",
    "plt.xlabel('date')\n",
    "plt.grid()\n",
    "plt.show();"
   ]
  },
  {
   "attachments": {},
   "cell_type": "markdown",
   "metadata": {},
   "source": [
    "**conclusion**\n",
    "- the number of orders per visitor has stabilized by mid-August for both groups\n",
    "- in both groups the fluctuations are noticeable: on the 10th-11th and 18th-19th of August\n",
    "- it is impossible to explain the fluctuations in group B by the growth of visitors of this group, because the traffic in this group did not grow during the same period\n",
    "- since the fluctuations were relatively synchronous in both groups, it can be assumed that they were caused by external factors or advertising activity\n",
    "- we can preliminarily say that in group B customers ordered more often"
   ]
  },
  {
   "attachments": {},
   "cell_type": "markdown",
   "metadata": {},
   "source": [
    "### the relative change in the cumulative average number of orders per visitor of group B to group A"
   ]
  },
  {
   "cell_type": "code",
   "execution_count": 15,
   "metadata": {},
   "outputs": [],
   "source": [
    "# объединим датасеты, чтобы посчитать относительное изменение метрики\n",
    "merged = A.merge(B, on='date', how='left', suffixes=['A', 'B'])"
   ]
  },
  {
   "cell_type": "code",
   "execution_count": 16,
   "metadata": {},
   "outputs": [
    {
     "data": {
      "image/png": "[encoded data removed]",
      "text/plain": [
       "<Figure size 576x216 with 1 Axes>"
      ]
     },
     "metadata": {
      "needs_background": "light"
     },
     "output_type": "display_data"
    }
   ],
   "source": [
    "plt.figure(figsize=(8,3))\n",
    "plt.plot(merged.date, ((merged.cum_ordersB / merged.cum_visitorsB) / (merged.cum_ordersA / merged.cum_visitorsA) - 1) *100)\n",
    "plt.axhline(y=0, color='black', linestyle='--') \n",
    "\n",
    "plt.title('relative variation of orders per visitor, group B vs group A')\n",
    "plt.ticklabel_format(axis='y', style='plain')\n",
    "plt.yticks(fontsize=8)\n",
    "plt.xticks(rotation=45, fontsize=8)\n",
    "plt.ylabel('relative variation, %')\n",
    "plt.xlabel('date')\n",
    "plt.grid()\n",
    "plt.show();"
   ]
  },
  {
   "attachments": {},
   "cell_type": "markdown",
   "metadata": {},
   "source": [
    "**conclusions**\n",
    "- the metric shows strong fluctuations over the period\n",
    "- group B was regularly higher than group A in the number of orders per visitor. This means that visitors of group B are more often (=more likely) to make purchases "
   ]
  },
  {
   "attachments": {},
   "cell_type": "markdown",
   "metadata": {},
   "source": [
    "### number of orders by user"
   ]
  },
  {
   "cell_type": "code",
   "execution_count": 17,
   "metadata": {},
   "outputs": [
    {
     "data": {
      "image/png": "[encoded data removed]",
      "text/plain": [
       "<Figure size 576x216 with 1 Axes>"
      ]
     },
     "metadata": {
      "needs_background": "light"
     },
     "output_type": "display_data"
    }
   ],
   "source": [
    "# сформируем данные о заказах по пользователям\n",
    "orders_per_customer = orders.groupby('visitorId', as_index=False).agg({'transactionId':'nunique'})\n",
    "orders_per_customer.columns = ['visitorId', 'orders']\n",
    "\n",
    "# построим график\n",
    "plt.figure(figsize=(8,3))\n",
    "x_values = pd.Series(range(0, len(orders_per_customer)))\n",
    "plt.scatter(x_values, orders_per_customer.orders)\n",
    "plt.title('orders per customer')\n",
    "plt.yticks(fontsize=8)\n",
    "plt.xticks(fontsize=8)\n",
    "plt.ylabel('number of orders')\n",
    "plt.xlabel('customer ID')\n",
    "plt.grid()\n",
    "plt.show();"
   ]
  },
  {
   "attachments": {},
   "cell_type": "markdown",
   "metadata": {},
   "source": [
    "**conclusions**\n",
    "- visually, most users made 1-2 orders during the whole period\n",
    "- there are users who stand out from the normal picture:\n",
    "    - 2 users made 11 orders\n",
    "    - 1 user - 9 orders\n",
    "    - 1 user - 8 orders\n",
    "- It is worth getting rid of these anomalous orders in the dataset before you move on to statistical tests. They will significantly affect the results of statistical tests"
   ]
  },
  {
   "cell_type": "code",
   "execution_count": 18,
   "metadata": {},
   "outputs": [
    {
     "name": "stdout",
     "output_type": "stream",
     "text": [
      "95ый перцентиль количества заказов на пользователя  2.0\n",
      "99ый перцентиль количества заказов на пользователя  4.0\n"
     ]
    }
   ],
   "source": [
    "print('95ый перцентиль количества заказов на пользователя ', np.percentile(orders_per_customer.orders, 95))\n",
    "print('99ый перцентиль количества заказов на пользователя ', np.percentile(orders_per_customer.orders, 99))"
   ]
  },
  {
   "attachments": {},
   "cell_type": "markdown",
   "metadata": {},
   "source": [
    "**conclusion**\n",
    "- Users who have made more than 4 orders will be deleted when clearing"
   ]
  },
  {
   "attachments": {},
   "cell_type": "markdown",
   "metadata": {},
   "source": [
    "### revenue by orders"
   ]
  },
  {
   "cell_type": "code",
   "execution_count": 19,
   "metadata": {},
   "outputs": [
    {
     "data": {
      "image/png": "[encoded data removed]",
      "text/plain": [
       "<Figure size 576x216 with 1 Axes>"
      ]
     },
     "metadata": {
      "needs_background": "light"
     },
     "output_type": "display_data"
    }
   ],
   "source": [
    "plt.figure(figsize=(8,3))\n",
    "x_values = pd.Series(range(0, len(orders)))\n",
    "plt.ticklabel_format(axis='y', style='plain')\n",
    "plt.scatter(x_values, orders.revenue)\n",
    "plt.title('revenue per order')\n",
    "plt.yticks(fontsize=8)\n",
    "plt.xticks(fontsize=8)\n",
    "plt.ylabel('revenue')\n",
    "plt.xlabel('order ID')\n",
    "plt.grid()\n",
    "plt.show();"
   ]
  },
  {
   "attachments": {},
   "cell_type": "markdown",
   "metadata": {},
   "source": [
    "**сonclusion**\n",
    "- visually, most orders do not exceed 100,000 in value\n",
    "- there are two anomalies:\n",
    "    - 1 order worth more than 1,200,000\n",
    "    - 1 order of 200 000"
   ]
  },
  {
   "cell_type": "code",
   "execution_count": 20,
   "metadata": {},
   "outputs": [
    {
     "data": {
      "image/png": "[encoded data removed]",
      "text/plain": [
       "<Figure size 576x216 with 1 Axes>"
      ]
     },
     "metadata": {
      "needs_background": "light"
     },
     "output_type": "display_data"
    },
    {
     "data": {
      "text/plain": [
       "count               1,197.00\n",
       "mean                8,348.01\n",
       "std                39,191.13\n",
       "min                    50.00\n",
       "25%                 1,220.00\n",
       "50%                 2,978.00\n",
       "75%                 8,290.00\n",
       "max             1,294,500.00\n",
       "Name: revenue, dtype: float64"
      ]
     },
     "execution_count": 20,
     "metadata": {},
     "output_type": "execute_result"
    }
   ],
   "source": [
    "plt.figure(figsize=(8,3))\n",
    "x_values = pd.Series(range(0, len(orders)))\n",
    "plt.ticklabel_format(axis='y', style='plain')\n",
    "plt.scatter(x_values, orders.revenue)\n",
    "plt.title('revenue per order')\n",
    "plt.yticks(fontsize=8)\n",
    "plt.xticks(fontsize=8)\n",
    "plt.ylabel('revenue')\n",
    "plt.ylim(0,100000)\n",
    "plt.xlabel('order ID')\n",
    "plt.grid()\n",
    "plt.show();\n",
    "orders.revenue.describe()"
   ]
  },
  {
   "cell_type": "code",
   "execution_count": 21,
   "metadata": {},
   "outputs": [
    {
     "name": "stdout",
     "output_type": "stream",
     "text": [
      "95ый перцентиль стоимости заказов 28000.0\n",
      "99ый перцентиль стоимости заказов 58233.2\n"
     ]
    }
   ],
   "source": [
    "print('95ый перцентиль стоимости заказов', round(np.percentile(orders.revenue, 95),2))\n",
    "print('99ый перцентиль стоимости заказов', round(np.percentile(orders.revenue, 99),2))"
   ]
  },
  {
   "attachments": {},
   "cell_type": "markdown",
   "metadata": {},
   "source": [
    "**Conclusion**  \n",
    "In this case I will also be guided by the 99th percentile. Orders worth more than 58,233.2 will be considered abnormal"
   ]
  },
  {
   "attachments": {},
   "cell_type": "markdown",
   "metadata": {},
   "source": [
    "### statistical significance of differences in the average number of orders per visitor between groups according to \"raw\" data\n",
    "\n",
    "Mann-Whitney U-test will be used to test the hypotheses of this A/B test, since the data do not follow a normal distribution and using Student's T-criterion will not give an accurate result"
   ]
  },
  {
   "attachments": {},
   "cell_type": "markdown",
   "metadata": {},
   "source": [
    "H0: the average number of orders per visitor in groups A and B does not differ\n",
    "\n",
    "H1: the average number of orders per visitor in groups A and B is different"
   ]
  },
  {
   "cell_type": "code",
   "execution_count": 22,
   "metadata": {},
   "outputs": [
    {
     "name": "stdout",
     "output_type": "stream",
     "text": [
      "Отвергаем нулевую гипотезу. Разница стат значима. p-value = 0.017\n",
      "Относительный прирост среднего числа заказов группы B = 0.138\n"
     ]
    }
   ],
   "source": [
    "# подготовка данных\n",
    "A_orders_per_users = orders.query('group == \"A\"').groupby('visitorId', as_index=False).agg({'transactionId': 'nunique'})\n",
    "A_orders_per_users.columns = ['visitorId', 'orders']\n",
    "A_sample = pd.concat([A_orders_per_users.orders, pd.Series(0, index=np.arange(A.visitors.sum() - len(A_orders_per_users.orders)), name='orders')], axis=0)\n",
    "\n",
    "B_orders_per_users = orders.query('group == \"B\"').groupby('visitorId', as_index=False).agg({'transactionId': 'nunique'})\n",
    "B_orders_per_users.columns = ['visitorId', 'orders']\n",
    "B_sample = pd.concat([B_orders_per_users.orders, pd.Series(0, index=np.arange(B.visitors.sum() - len(B_orders_per_users.orders)), name='orders')], axis=0)\n",
    "\n",
    "# статистическая значимость\n",
    "alpha = 0.05\n",
    "stat_result = st.mannwhitneyu(A_sample, B_sample)\n",
    "if stat_result.pvalue < alpha:\n",
    "    print('Отвергаем нулевую гипотезу. Разница стат значима. p-value = {0:.3f}'.format(stat_result.pvalue))\n",
    "else:\n",
    "    print('Нельзя отвергнуть нулевую гипотезу. Вывод о различии выборок сделать нельзя. p-value = {0:.3f}'.format(stat_result.pvalue))\n",
    "\n",
    "# относительный прирост среднего числа заказов группы B\n",
    "print('Относительный прирост среднего числа заказов группы B = {0:.3f}'.format(B_sample.mean() / A_sample.mean() - 1))"
   ]
  },
  {
   "attachments": {},
   "cell_type": "markdown",
   "metadata": {},
   "source": [
    "**conclusion**\n",
    "- we can reject the null hypothesis: Group B visitors ordered more often than Group A visitors. The difference is statistically significant"
   ]
  },
  {
   "attachments": {},
   "cell_type": "markdown",
   "metadata": {},
   "source": [
    "### statistical significance of differences in the average order check between groups according to \"raw\" data"
   ]
  },
  {
   "attachments": {},
   "cell_type": "markdown",
   "metadata": {},
   "source": [
    "H0: the average check of the clients of groups A and B does not differ \n",
    "\n",
    "H1: the average check of the clients of groups A and B is different "
   ]
  },
  {
   "cell_type": "code",
   "execution_count": 23,
   "metadata": {},
   "outputs": [
    {
     "name": "stdout",
     "output_type": "stream",
     "text": [
      "Нельзя отвергнуть нулевую гипотезу. Вывод о различии выборок сделать нельзя. p-value = 0.729\n",
      "Относительный прирост среднего чека заказов группы B = 0.259\n"
     ]
    }
   ],
   "source": [
    "A_sample = orders.query('group ==\"A\"').revenue\n",
    "B_sample = orders.query('group ==\"B\"').revenue\n",
    "\n",
    "alpha = 0.05\n",
    "stat_result = st.mannwhitneyu(A_sample, B_sample)\n",
    "if stat_result.pvalue < alpha:\n",
    "    print('Отвергаем нулевую гипотезу. Разница стат значима. p-value = {0:.3f}'.format(stat_result.pvalue))\n",
    "else:\n",
    "    print('Нельзя отвергнуть нулевую гипотезу. Вывод о различии выборок сделать нельзя. p-value = {0:.3f}'.format(stat_result.pvalue))\n",
    "\n",
    "# относительный прирост среднего числа заказов группы B\n",
    "print('Относительный прирост среднего чека заказов группы B = {0:.3f}'.format(B_sample.mean() / A_sample.mean() - 1))"
   ]
  },
  {
   "attachments": {},
   "cell_type": "markdown",
   "metadata": {},
   "source": [
    "**Conclusion**\n",
    "- We cannot reject the null hypothesis: we cannot say that the average check differs between customers of groups A and B"
   ]
  },
  {
   "attachments": {},
   "cell_type": "markdown",
   "metadata": {},
   "source": [
    "### statistical significance of differences in the average number of orders per visitor between groups according to \"cleaned\" data"
   ]
  },
  {
   "cell_type": "code",
   "execution_count": 24,
   "metadata": {},
   "outputs": [
    {
     "name": "stdout",
     "output_type": "stream",
     "text": [
      "в результате очистки данных удалено 20 клиентов\n",
      "в результате очистки данных удалено 1.94 % клиентов\n"
     ]
    }
   ],
   "source": [
    "# data cleaning\n",
    "\n",
    "# abnormal customers\n",
    "abnormal_customers = orders.groupby('visitorId', as_index=False).agg({'transactionId':'nunique'}).query('transactionId > 4')\n",
    "\n",
    "# abnormal orders\n",
    "clean_orders = orders[~orders['visitorId'].isin(abnormal_customers.visitorId)]\n",
    "clean_orders = clean_orders[clean_orders['revenue'] < np.percentile(orders.revenue, 99)]\n",
    "print('в результате очистки данных удалено', orders.visitorId.nunique() - clean_orders.visitorId.nunique() , 'клиентов')\n",
    "print('в результате очистки данных удалено', round((1 - (clean_orders.visitorId.nunique() / orders.visitorId.nunique()  )) * 100,2) , '% клиентов')\n"
   ]
  },
  {
   "attachments": {},
   "cell_type": "markdown",
   "metadata": {},
   "source": [
    "H0: the average number of orders per visitor in groups A and B does not differ\n",
    "\n",
    "H1: the average number of orders per visitor in groups A and B is different"
   ]
  },
  {
   "cell_type": "code",
   "execution_count": 25,
   "metadata": {},
   "outputs": [
    {
     "name": "stdout",
     "output_type": "stream",
     "text": [
      "Отвергаем нулевую гипотезу. Разница стат значима. p-value = 0.013\n",
      "относительный прирост среднего числа заказов группы B = 0.156\n"
     ]
    }
   ],
   "source": [
    "# подготовка данных\n",
    "A_orders_per_users = clean_orders.query('group == \"A\"').groupby('visitorId', as_index=False).agg({'transactionId': 'nunique'})\n",
    "A_orders_per_users.columns = ['visitorId', 'orders']\n",
    "A_sample = pd.concat([A_orders_per_users.orders, pd.Series(0, index=np.arange(A.visitors.sum() - len(A_orders_per_users.orders)), name='orders')], axis=0)\n",
    "\n",
    "B_orders_per_users = clean_orders.query('group == \"B\"').groupby('visitorId', as_index=False).agg({'transactionId': 'nunique'})\n",
    "B_orders_per_users.columns = ['visitorId', 'orders']\n",
    "B_sample = pd.concat([B_orders_per_users.orders, pd.Series(0, index=np.arange(B.visitors.sum() - len(B_orders_per_users.orders)), name='orders')], axis=0)\n",
    "\n",
    "# статистическая значимость\n",
    "alpha = 0.05\n",
    "stat_result = st.mannwhitneyu(A_sample, B_sample)\n",
    "if stat_result.pvalue < alpha:\n",
    "    print('Отвергаем нулевую гипотезу. Разница стат значима. p-value = {0:.3f}'.format(stat_result.pvalue))\n",
    "else:\n",
    "    print('Нельзя отвергнуть нулевую гипотезу. Вывод о различии выборок сделать нельзя. p-value = {0:.3f}'.format(stat_result.pvalue))\n",
    "\n",
    "# относительный прирост среднего числа заказов группы B\n",
    "print(\"относительный прирост среднего числа заказов группы B = {0:.3f}\".format(B_sample.mean() / A_sample.mean() - 1))"
   ]
  },
  {
   "attachments": {},
   "cell_type": "markdown",
   "metadata": {},
   "source": [
    "**Conclusion**\n",
    "* We reject the null hypothesis: visitors from group B ordered statistically significantly more often than visitors from group A"
   ]
  },
  {
   "attachments": {},
   "cell_type": "markdown",
   "metadata": {},
   "source": [
    "### statistical significance of differences in the average order check between groups according to \"cleaned\" data"
   ]
  },
  {
   "attachments": {},
   "cell_type": "markdown",
   "metadata": {},
   "source": [
    "H0: the average check of the clients of groups A and B does not differ \n",
    "\n",
    "H1: the average check of the clients of groups A and B is different "
   ]
  },
  {
   "cell_type": "code",
   "execution_count": 26,
   "metadata": {},
   "outputs": [
    {
     "name": "stdout",
     "output_type": "stream",
     "text": [
      "Нельзя отвергнуть нулевую гипотезу. Вывод о различии выборок сделать нельзя. p-value = 0.982\n",
      "Относительный прирост среднего чека заказов группы B = -0.016\n"
     ]
    }
   ],
   "source": [
    "A_sample = clean_orders.query('group ==\"A\"').revenue\n",
    "B_sample = clean_orders.query('group ==\"B\"').revenue\n",
    "\n",
    "alpha = 0.05\n",
    "stat_result = st.mannwhitneyu(A_sample, B_sample)\n",
    "if stat_result.pvalue < alpha:\n",
    "    print('Отвергаем нулевую гипотезу. Разница стат значима. p-value = {0:.3f}'.format(stat_result.pvalue))\n",
    "else:\n",
    "    print('Нельзя отвергнуть нулевую гипотезу. Вывод о различии выборок сделать нельзя. p-value = {0:.3f}'.format(stat_result.pvalue))\n",
    "\n",
    "# относительный прирост среднего числа заказов группы B\n",
    "print('Относительный прирост среднего чека заказов группы B = {0:.3f}'.format(B_sample.mean() / A_sample.mean() - 1))"
   ]
  },
  {
   "attachments": {},
   "cell_type": "markdown",
   "metadata": {},
   "source": [
    "**conclusion**.\n",
    "- We cannot reject the null hypothesis: we cannot say that the average check increased or decreased\n",
    "- After clearing the data, the p-value increased, and the relative increase in the average check has now become its relative decrease"
   ]
  },
  {
   "attachments": {},
   "cell_type": "markdown",
   "metadata": {},
   "source": [
    "### test decision"
   ]
  },
  {
   "attachments": {},
   "cell_type": "markdown",
   "metadata": {},
   "source": [
    "Before deciding on the fate of the test, I will check how the metric \"Average number of orders per visitor\" behaved over time cumulatively in the cleaned data. I want to make sure that the metric has stabilized"
   ]
  },
  {
   "cell_type": "code",
   "execution_count": 27,
   "metadata": {},
   "outputs": [
    {
     "data": {
      "image/png": "[encoded data removed]",
      "text/plain": [
       "<Figure size 576x216 with 1 Axes>"
      ]
     },
     "metadata": {
      "needs_background": "light"
     },
     "output_type": "display_data"
    }
   ],
   "source": [
    "# подготовка кумулятивных данных\n",
    "A_clean = (\n",
    "    clean_orders.\n",
    "    query('group == \"A\"').\n",
    "    groupby('date').\n",
    "    agg({'revenue':'sum', 'transactionId':'nunique'}).\n",
    "    merge(visitors.query('group ==\"A\"'), on='date')\n",
    "    )\n",
    "A_clean = A_clean.rename(columns={'transactionId':'orders'})\n",
    "A_clean['cum_orders'] = A_clean.apply(lambda x: A_clean[A_clean.date <= x.date].agg({'orders':'sum'}), axis=1)\n",
    "A_clean['cum_visitors'] = A_clean.apply(lambda x: A_clean[A_clean.date <= x.date].agg({'visitors':'sum'}), axis=1)\n",
    "\n",
    "B_clean = (\n",
    "    clean_orders.\n",
    "    query('group == \"B\"').\n",
    "    groupby('date').\n",
    "    agg({'revenue':'sum', 'transactionId':'nunique'}).\n",
    "    merge(visitors.query('group ==\"B\"'), on='date')\n",
    "    )\n",
    "B_clean = B_clean.rename(columns={'transactionId':'orders'})\n",
    "B_clean['cum_orders'] = B_clean.apply(lambda x: B[B_clean.date <= x.date].agg({'orders':'sum'}), axis=1)\n",
    "B_clean['cum_visitors'] = B_clean.apply(lambda x: B[B_clean.date <= x.date].agg({'visitors':'sum'}), axis=1)\n",
    "\n",
    "# график\n",
    "plt.figure(figsize=(8,3))\n",
    "plt.plot(A_clean.date, A_clean.cum_orders / A_clean.cum_visitors, label='A')\n",
    "plt.plot(B_clean.date, B_clean.cum_orders / B_clean.cum_visitors, label='B')\n",
    "plt.legend()\n",
    "plt.title('cumulative orders per visitors')\n",
    "plt.ticklabel_format(axis='y', style='plain')\n",
    "plt.yticks(fontsize=8)\n",
    "plt.xticks(rotation=45, fontsize=8)\n",
    "plt.ylabel('orders per visitor')\n",
    "plt.xlabel('date')\n",
    "plt.grid()\n",
    "plt.show();"
   ]
  },
  {
   "attachments": {},
   "cell_type": "markdown",
   "metadata": {},
   "source": [
    "The graphs have leveled off, although it was not possible to completely get rid of the previously identified spikes. It seems that they are still not caused by abnormal customers or abnormal orders, but by the market or advertising"
   ]
  },
  {
   "attachments": {},
   "cell_type": "markdown",
   "metadata": {},
   "source": [
    "**Decision**.\n",
    "- we can stop the test because the metrics have fixed\n",
    "- test result: clients of group B show a higher number of purchases per number of visitors relative to the clients of group A. The difference is statistically significant\n",
    "- I recommend implementing changes for all users\n",
    "- Still recommend involving an analyst in the preparation of the next tests, because there is something to improve. There are two confirmations:\n",
    "    - the groups did not turn out equal, which indicates an uneven distribution of customers into groups during the test \n",
    "    - some clients fell into both groups at once"
   ]
  }
 ],
 "metadata": {
  "ExecuteTimeLog": [
   {
    "duration": 1287,
    "start_time": "2023-03-04T11:17:55.676Z"
   },
   {
    "duration": 150,
    "start_time": "2023-03-04T11:17:56.966Z"
   },
   {
    "duration": 0,
    "start_time": "2023-03-04T11:17:57.119Z"
   },
   {
    "duration": 0,
    "start_time": "2023-03-04T11:17:57.120Z"
   },
   {
    "duration": 0,
    "start_time": "2023-03-04T11:17:57.122Z"
   },
   {
    "duration": 1310,
    "start_time": "2023-03-05T13:27:20.509Z"
   },
   {
    "duration": 170,
    "start_time": "2023-03-05T13:27:21.822Z"
   },
   {
    "duration": 0,
    "start_time": "2023-03-05T13:27:21.995Z"
   },
   {
    "duration": 1,
    "start_time": "2023-03-05T13:27:21.996Z"
   },
   {
    "duration": 0,
    "start_time": "2023-03-05T13:27:21.998Z"
   },
   {
    "duration": 0,
    "start_time": "2023-03-05T13:27:21.999Z"
   },
   {
    "duration": 0,
    "start_time": "2023-03-05T13:27:22.000Z"
   },
   {
    "duration": 0,
    "start_time": "2023-03-05T13:27:22.001Z"
   },
   {
    "duration": 0,
    "start_time": "2023-03-05T13:27:22.002Z"
   },
   {
    "duration": 0,
    "start_time": "2023-03-05T13:27:22.003Z"
   },
   {
    "duration": 0,
    "start_time": "2023-03-05T13:27:22.004Z"
   },
   {
    "duration": 0,
    "start_time": "2023-03-05T13:27:22.005Z"
   },
   {
    "duration": 0,
    "start_time": "2023-03-05T13:27:22.006Z"
   },
   {
    "duration": 0,
    "start_time": "2023-03-05T13:27:22.007Z"
   },
   {
    "duration": 0,
    "start_time": "2023-03-05T13:27:22.008Z"
   },
   {
    "duration": 0,
    "start_time": "2023-03-05T13:27:22.009Z"
   },
   {
    "duration": 0,
    "start_time": "2023-03-05T13:27:22.010Z"
   },
   {
    "duration": 0,
    "start_time": "2023-03-05T13:27:22.011Z"
   },
   {
    "duration": 0,
    "start_time": "2023-03-05T13:27:22.012Z"
   },
   {
    "duration": 0,
    "start_time": "2023-03-05T13:27:22.013Z"
   },
   {
    "duration": 0,
    "start_time": "2023-03-05T13:27:22.014Z"
   },
   {
    "duration": 0,
    "start_time": "2023-03-05T13:27:22.015Z"
   },
   {
    "duration": 0,
    "start_time": "2023-03-05T13:27:22.045Z"
   },
   {
    "duration": 0,
    "start_time": "2023-03-05T13:27:22.046Z"
   },
   {
    "duration": 0,
    "start_time": "2023-03-05T13:27:22.047Z"
   },
   {
    "duration": 0,
    "start_time": "2023-03-05T13:27:22.048Z"
   },
   {
    "duration": 0,
    "start_time": "2023-03-05T13:27:22.049Z"
   },
   {
    "duration": 82,
    "start_time": "2023-03-05T13:27:39.184Z"
   },
   {
    "duration": 9,
    "start_time": "2023-03-05T13:27:39.269Z"
   },
   {
    "duration": 30,
    "start_time": "2023-03-05T13:27:39.280Z"
   },
   {
    "duration": 18,
    "start_time": "2023-03-05T13:27:39.313Z"
   },
   {
    "duration": 21,
    "start_time": "2023-03-05T13:27:39.332Z"
   },
   {
    "duration": 43,
    "start_time": "2023-03-05T13:27:39.355Z"
   },
   {
    "duration": 199,
    "start_time": "2023-03-05T13:27:39.400Z"
   },
   {
    "duration": 160,
    "start_time": "2023-03-05T13:27:39.601Z"
   },
   {
    "duration": 301,
    "start_time": "2023-03-05T13:27:39.763Z"
   },
   {
    "duration": 218,
    "start_time": "2023-03-05T13:27:40.067Z"
   },
   {
    "duration": 354,
    "start_time": "2023-03-05T13:27:40.286Z"
   },
   {
    "duration": 113,
    "start_time": "2023-03-05T13:27:40.645Z"
   },
   {
    "duration": 217,
    "start_time": "2023-03-05T13:27:40.760Z"
   },
   {
    "duration": 8,
    "start_time": "2023-03-05T13:27:40.978Z"
   },
   {
    "duration": 297,
    "start_time": "2023-03-05T13:27:40.988Z"
   },
   {
    "duration": 132,
    "start_time": "2023-03-05T13:27:41.286Z"
   },
   {
    "duration": 5,
    "start_time": "2023-03-05T13:27:41.420Z"
   },
   {
    "duration": 151,
    "start_time": "2023-03-05T13:27:41.427Z"
   },
   {
    "duration": 5,
    "start_time": "2023-03-05T13:27:41.580Z"
   },
   {
    "duration": 130,
    "start_time": "2023-03-05T13:27:41.587Z"
   },
   {
    "duration": 26,
    "start_time": "2023-03-05T13:27:41.719Z"
   },
   {
    "duration": 10,
    "start_time": "2023-03-05T13:27:41.747Z"
   },
   {
    "duration": 0,
    "start_time": "2023-03-05T13:27:41.759Z"
   },
   {
    "duration": 0,
    "start_time": "2023-03-05T13:27:41.760Z"
   },
   {
    "duration": 0,
    "start_time": "2023-03-05T13:27:41.762Z"
   },
   {
    "duration": 0,
    "start_time": "2023-03-05T13:27:41.763Z"
   },
   {
    "duration": 14,
    "start_time": "2023-03-05T13:27:45.866Z"
   },
   {
    "duration": 14,
    "start_time": "2023-03-05T13:27:45.993Z"
   },
   {
    "duration": 7,
    "start_time": "2023-03-05T13:27:51.670Z"
   },
   {
    "duration": 5,
    "start_time": "2023-03-05T13:27:58.072Z"
   },
   {
    "duration": 4,
    "start_time": "2023-03-05T13:28:22.569Z"
   },
   {
    "duration": 4,
    "start_time": "2023-03-05T13:28:26.338Z"
   },
   {
    "duration": 5,
    "start_time": "2023-03-05T13:28:28.139Z"
   },
   {
    "duration": 5,
    "start_time": "2023-03-05T13:28:33.890Z"
   },
   {
    "duration": 1218,
    "start_time": "2023-03-05T13:29:27.262Z"
   },
   {
    "duration": 79,
    "start_time": "2023-03-05T13:29:28.482Z"
   },
   {
    "duration": 7,
    "start_time": "2023-03-05T13:29:28.563Z"
   },
   {
    "duration": 19,
    "start_time": "2023-03-05T13:29:28.572Z"
   },
   {
    "duration": 16,
    "start_time": "2023-03-05T13:29:28.593Z"
   },
   {
    "duration": 16,
    "start_time": "2023-03-05T13:29:28.610Z"
   },
   {
    "duration": 50,
    "start_time": "2023-03-05T13:29:28.628Z"
   },
   {
    "duration": 181,
    "start_time": "2023-03-05T13:29:28.681Z"
   },
   {
    "duration": 162,
    "start_time": "2023-03-05T13:29:28.864Z"
   },
   {
    "duration": 316,
    "start_time": "2023-03-05T13:29:29.029Z"
   },
   {
    "duration": 232,
    "start_time": "2023-03-05T13:29:29.346Z"
   },
   {
    "duration": 290,
    "start_time": "2023-03-05T13:29:29.580Z"
   },
   {
    "duration": 115,
    "start_time": "2023-03-05T13:29:29.872Z"
   },
   {
    "duration": 220,
    "start_time": "2023-03-05T13:29:29.989Z"
   },
   {
    "duration": 8,
    "start_time": "2023-03-05T13:29:30.210Z"
   },
   {
    "duration": 387,
    "start_time": "2023-03-05T13:29:30.220Z"
   },
   {
    "duration": 141,
    "start_time": "2023-03-05T13:29:30.608Z"
   },
   {
    "duration": 5,
    "start_time": "2023-03-05T13:29:30.751Z"
   },
   {
    "duration": 166,
    "start_time": "2023-03-05T13:29:30.758Z"
   },
   {
    "duration": 5,
    "start_time": "2023-03-05T13:29:30.926Z"
   },
   {
    "duration": 135,
    "start_time": "2023-03-05T13:29:30.933Z"
   },
   {
    "duration": 12,
    "start_time": "2023-03-05T13:29:31.070Z"
   },
   {
    "duration": 52,
    "start_time": "2023-03-05T13:29:31.084Z"
   },
   {
    "duration": 58,
    "start_time": "2023-03-05T13:29:31.138Z"
   },
   {
    "duration": 13,
    "start_time": "2023-03-05T13:29:31.198Z"
   },
   {
    "duration": 469,
    "start_time": "2023-03-05T13:29:31.213Z"
   },
   {
    "duration": 49,
    "start_time": "2023-03-05T15:05:42.893Z"
   },
   {
    "duration": 1508,
    "start_time": "2023-03-05T15:05:54.295Z"
   },
   {
    "duration": 275,
    "start_time": "2023-03-05T15:05:55.805Z"
   },
   {
    "duration": 8,
    "start_time": "2023-03-05T15:05:56.082Z"
   },
   {
    "duration": 17,
    "start_time": "2023-03-05T15:05:59.178Z"
   },
   {
    "duration": 24,
    "start_time": "2023-03-05T15:06:49.952Z"
   },
   {
    "duration": 157,
    "start_time": "2023-03-05T15:09:40.790Z"
   },
   {
    "duration": 161,
    "start_time": "2023-03-05T15:09:53.782Z"
   },
   {
    "duration": 222,
    "start_time": "2023-03-05T15:10:55.089Z"
   },
   {
    "duration": 186,
    "start_time": "2023-03-05T15:10:58.276Z"
   },
   {
    "duration": 187,
    "start_time": "2023-03-05T15:12:39.730Z"
   },
   {
    "duration": 180,
    "start_time": "2023-03-05T15:13:04.499Z"
   },
   {
    "duration": 157,
    "start_time": "2023-03-05T15:13:11.987Z"
   },
   {
    "duration": 202,
    "start_time": "2023-03-05T15:13:33.501Z"
   },
   {
    "duration": 244,
    "start_time": "2023-03-05T15:14:46.732Z"
   },
   {
    "duration": 140,
    "start_time": "2023-03-05T15:14:50.577Z"
   },
   {
    "duration": 3,
    "start_time": "2023-03-05T15:16:32.795Z"
   },
   {
    "duration": 185,
    "start_time": "2023-03-05T15:16:42.498Z"
   },
   {
    "duration": 16,
    "start_time": "2023-03-05T15:17:25.740Z"
   },
   {
    "duration": 20,
    "start_time": "2023-03-05T15:18:11.241Z"
   },
   {
    "duration": 1307,
    "start_time": "2023-03-05T15:40:49.980Z"
   },
   {
    "duration": 102,
    "start_time": "2023-03-05T15:40:51.290Z"
   },
   {
    "duration": 7,
    "start_time": "2023-03-05T15:40:51.394Z"
   },
   {
    "duration": 44,
    "start_time": "2023-03-05T15:40:51.404Z"
   },
   {
    "duration": 83,
    "start_time": "2023-03-05T15:40:51.450Z"
   },
   {
    "duration": 80,
    "start_time": "2023-03-05T15:40:51.535Z"
   },
   {
    "duration": 52,
    "start_time": "2023-03-05T15:40:51.617Z"
   },
   {
    "duration": 188,
    "start_time": "2023-03-05T15:40:51.675Z"
   },
   {
    "duration": 167,
    "start_time": "2023-03-05T15:40:51.874Z"
   },
   {
    "duration": 352,
    "start_time": "2023-03-05T15:40:52.044Z"
   },
   {
    "duration": 244,
    "start_time": "2023-03-05T15:40:52.398Z"
   },
   {
    "duration": 370,
    "start_time": "2023-03-05T15:40:52.644Z"
   },
   {
    "duration": 146,
    "start_time": "2023-03-05T15:40:53.017Z"
   },
   {
    "duration": 245,
    "start_time": "2023-03-05T15:40:53.165Z"
   },
   {
    "duration": 8,
    "start_time": "2023-03-05T15:40:53.412Z"
   },
   {
    "duration": 391,
    "start_time": "2023-03-05T15:40:53.422Z"
   },
   {
    "duration": 177,
    "start_time": "2023-03-05T15:40:53.814Z"
   },
   {
    "duration": 6,
    "start_time": "2023-03-05T15:40:53.993Z"
   },
   {
    "duration": 205,
    "start_time": "2023-03-05T15:40:54.001Z"
   },
   {
    "duration": 282,
    "start_time": "2023-03-05T15:40:54.208Z"
   },
   {
    "duration": 6,
    "start_time": "2023-03-05T15:40:54.493Z"
   },
   {
    "duration": 91,
    "start_time": "2023-03-05T15:40:54.500Z"
   },
   {
    "duration": 13,
    "start_time": "2023-03-05T15:40:54.592Z"
   },
   {
    "duration": 36,
    "start_time": "2023-03-05T15:40:54.606Z"
   },
   {
    "duration": 78,
    "start_time": "2023-03-05T15:40:54.643Z"
   },
   {
    "duration": 12,
    "start_time": "2023-03-05T15:40:54.723Z"
   },
   {
    "duration": 477,
    "start_time": "2023-03-05T15:40:54.737Z"
   },
   {
    "duration": 1258,
    "start_time": "2023-03-05T15:42:11.283Z"
   },
   {
    "duration": 136,
    "start_time": "2023-03-05T15:42:12.546Z"
   },
   {
    "duration": 7,
    "start_time": "2023-03-05T15:42:12.684Z"
   },
   {
    "duration": 22,
    "start_time": "2023-03-05T15:42:12.693Z"
   },
   {
    "duration": 16,
    "start_time": "2023-03-05T15:42:12.717Z"
   },
   {
    "duration": 12,
    "start_time": "2023-03-05T15:42:12.734Z"
   },
   {
    "duration": 47,
    "start_time": "2023-03-05T15:42:12.748Z"
   },
   {
    "duration": 214,
    "start_time": "2023-03-05T15:42:12.798Z"
   },
   {
    "duration": 186,
    "start_time": "2023-03-05T15:42:13.014Z"
   },
   {
    "duration": 389,
    "start_time": "2023-03-05T15:42:13.203Z"
   },
   {
    "duration": 246,
    "start_time": "2023-03-05T15:42:13.594Z"
   },
   {
    "duration": 369,
    "start_time": "2023-03-05T15:42:13.842Z"
   },
   {
    "duration": 126,
    "start_time": "2023-03-05T15:42:14.213Z"
   },
   {
    "duration": 251,
    "start_time": "2023-03-05T15:42:14.350Z"
   },
   {
    "duration": 10,
    "start_time": "2023-03-05T15:42:14.603Z"
   },
   {
    "duration": 375,
    "start_time": "2023-03-05T15:42:14.615Z"
   },
   {
    "duration": 199,
    "start_time": "2023-03-05T15:42:14.993Z"
   },
   {
    "duration": 6,
    "start_time": "2023-03-05T15:42:15.194Z"
   },
   {
    "duration": 197,
    "start_time": "2023-03-05T15:42:15.201Z"
   },
   {
    "duration": 265,
    "start_time": "2023-03-05T15:42:15.400Z"
   },
   {
    "duration": 16,
    "start_time": "2023-03-05T15:42:15.670Z"
   },
   {
    "duration": 43,
    "start_time": "2023-03-05T15:42:15.687Z"
   },
   {
    "duration": 30,
    "start_time": "2023-03-05T15:42:15.732Z"
   },
   {
    "duration": 40,
    "start_time": "2023-03-05T15:42:15.765Z"
   },
   {
    "duration": 72,
    "start_time": "2023-03-05T15:42:15.806Z"
   },
   {
    "duration": 18,
    "start_time": "2023-03-05T15:42:15.884Z"
   },
   {
    "duration": 467,
    "start_time": "2023-03-05T15:42:15.904Z"
   }
  ],
  "kernelspec": {
   "display_name": "Python 3 (ipykernel)",
   "language": "python",
   "name": "python3"
  },
  "language_info": {
   "codemirror_mode": {
    "name": "ipython",
    "version": 3
   },
   "file_extension": ".py",
   "mimetype": "text/x-python",
   "name": "python",
   "nbconvert_exporter": "python",
   "pygments_lexer": "ipython3",
   "version": "3.11.3"
  },
  "toc": {
   "base_numbering": 1,
   "nav_menu": {},
   "number_sections": true,
   "sideBar": true,
   "skip_h1_title": true,
   "title_cell": "Table of Contents",
   "title_sidebar": "Contents",
   "toc_cell": false,
   "toc_position": {},
   "toc_section_display": true,
   "toc_window_display": true
  },
  "vscode": {
   "interpreter": {
    "hash": "4238b6be9ac258b7c6a08567d59855dea9bfb567371ac3e7e1128931525d2d47"
   }
  }
 },
 "nbformat": 4,
 "nbformat_minor": 2
}
